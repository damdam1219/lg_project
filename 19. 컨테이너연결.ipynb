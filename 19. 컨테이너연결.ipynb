{
 "cells": [
  {
   "cell_type": "code",
   "execution_count": 1,
   "id": "d4ecac8f",
   "metadata": {},
   "outputs": [
    {
     "name": "stdout",
     "output_type": "stream",
     "text": [
      "데이터베이스 'my_db' 생성 완료\n",
      "테이블 'users_table' 생성 완료\n",
      "데이터 삽입 완료\n",
      "users_table 데이터:\n",
      "(1, 'user1')\n",
      "(2, 'user2')\n"
     ]
    }
   ],
   "source": [
    "import pymysql\n",
    "\n",
    "# MySQL 연결 설정\n",
    "connection = pymysql.connect(\n",
    "    host='192.168.229.131',  # MySQL 서버가 있는 IP\n",
    "    port=3307,               # 도커에서 매핑한 포트\n",
    "    user='root',             # MySQL 사용자 이름 (예: root)\n",
    "    password='1234',         # MySQL 비밀번호\n",
    "    database='mydb'         # 접속할 데이터베이스\n",
    ")\n",
    "\n",
    "try:\n",
    "    with connection.cursor() as cursor:\n",
    "        # 1) 새 데이터베이스 my_db 생성\n",
    "        cursor.execute(\"CREATE DATABASE IF NOT EXISTS my_db\")\n",
    "        print(\"데이터베이스 'my_db' 생성 완료\")\n",
    "\n",
    "    # 기존 연결 닫고 새 DB로 다시 연결\n",
    "    connection.select_db('my_db')\n",
    "\n",
    "    with connection.cursor() as cursor:\n",
    "        # 2) 테이블 users_table 생성\n",
    "        create_table_sql = \"\"\"\n",
    "        CREATE TABLE IF NOT EXISTS users_table (\n",
    "            id INT AUTO_INCREMENT PRIMARY KEY,\n",
    "            username VARCHAR(255) NOT NULL\n",
    "        )\n",
    "        \"\"\"\n",
    "        cursor.execute(create_table_sql)\n",
    "        print(\"테이블 'users_table' 생성 완료\")\n",
    "\n",
    "        # 3) 데이터 삽입\n",
    "        insert_sql = \"INSERT INTO users_table (username) VALUES (%s)\"\n",
    "        cursor.execute(insert_sql, ('user1',))\n",
    "        cursor.execute(insert_sql, ('user2',))\n",
    "        print(\"데이터 삽입 완료\")\n",
    "\n",
    "    # 커밋 (삽입/생성한 내용 적용)\n",
    "    connection.commit()\n",
    "\n",
    "    with connection.cursor() as cursor:\n",
    "        # 4) 삽입된 데이터 확인\n",
    "        cursor.execute(\"SELECT * FROM users_table\")\n",
    "        rows = cursor.fetchall()\n",
    "        print(\"users_table 데이터:\")\n",
    "        for row in rows:\n",
    "            print(row)\n",
    "\n",
    "finally:\n",
    "    connection.close()\n"
   ]
  },
  {
   "attachments": {
    "image.png": {
     "image/png": "[encoded data removed]"
    }
   },
   "cell_type": "markdown",
   "id": "c1ae19e3",
   "metadata": {},
   "source": [
    "![image.png](attachment:image.png)\n",
    "\n",
    "생성완료"
   ]
  },
  {
   "cell_type": "code",
   "execution_count": null,
   "id": "893f8d41",
   "metadata": {},
   "outputs": [],
   "source": []
  }
 ],
 "metadata": {
  "kernelspec": {
   "display_name": "webcrawl_env",
   "language": "python",
   "name": "python3"
  },
  "language_info": {
   "codemirror_mode": {
    "name": "ipython",
    "version": 3
   },
   "file_extension": ".py",
   "mimetype": "text/x-python",
   "name": "python",
   "nbconvert_exporter": "python",
   "pygments_lexer": "ipython3",
   "version": "3.10.18"
  }
 },
 "nbformat": 4,
 "nbformat_minor": 5
}
