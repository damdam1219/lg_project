{
 "cells": [
  {
   "cell_type": "markdown",
   "id": "97a3874b",
   "metadata": {},
   "source": [
    "분류기 만들기"
   ]
  },
  {
   "cell_type": "code",
   "execution_count": 2,
   "id": "580a9f91",
   "metadata": {},
   "outputs": [],
   "source": [
    "# 사용자 정의 분류기 만들기\n",
    "from sklearn.base import BaseEstimator\n",
    "import numpy as np\n",
    "class MyDummyClassifier(BaseEstimator):\n",
    "  def fit(self, X, y):\n",
    "    pass\n",
    "  \n",
    "  def predict(self, X):\n",
    "    pred = np.zeros((X.shape[0],1))\n",
    "    for i in range(X.shape[0]):\n",
    "      if X['Sex'].iloc[i] == 1:\n",
    "        pred[i]=0\n",
    "      else :\n",
    "        pred[i]=1\n",
    "    return pred   "
   ]
  },
  {
   "cell_type": "markdown",
   "id": "94e64cfa",
   "metadata": {},
   "source": [
    "타이타닉 생존 여부\n",
    "- 규칙: 성별이 1이면 생존하지 않은 것으로 분류"
   ]
  },
  {
   "cell_type": "code",
   "execution_count": 3,
   "id": "8d47e6bf",
   "metadata": {},
   "outputs": [],
   "source": [
    "import pandas as pd\n",
    "titanic_df = pd.read_csv('./data/titanic.csv')\n",
    "X_titanic_df = titanic_df.drop(columns = 'Survived')\n",
    "y_titanic_df = titanic_df['Survived']\n",
    "# 머신러닝 알고리즘에 불필요한 피처 제거\n",
    "\n",
    "# Null 처리 함수\n",
    "def fillna(df):\n",
    "    df['Age'].fillna(df['Age'].mean(), inplace=True)\n",
    "    df['Cabin'].fillna('N', inplace=True)\n",
    "    df['Embarked'].fillna('N', inplace=True)\n",
    "    df['Fare'].fillna(0, inplace=True)\n",
    "    return df\n",
    "\n",
    "def drop_features(df):\n",
    "    df.drop(['PassengerId', 'Name', 'Ticket'], axis=1, inplace=True)\n",
    "    return df\n",
    "\n",
    "# 레이블 인코딩 수행 함수\n",
    "def format_features(df):\n",
    "    df['Cabin'] = df['Cabin'].str[:1]\n",
    "    features = ['Cabin', 'Sex', 'Embarked']\n",
    "    for feature in features:\n",
    "        le = LabelEncoder()\n",
    "        le = le.fit(df[feature])\n",
    "        df[feature] = le.transform(df[feature])\n",
    "    return df\n",
    "\n",
    "# 앞에서 설정한 데이터 전처리 함수 호출\n",
    "def transform_features(df):\n",
    "    df = fillna(df) \n",
    "    df = drop_features(df)\n",
    "    df = format_features(df)\n",
    "    return df"
   ]
  },
  {
   "cell_type": "code",
   "execution_count": 4,
   "id": "aee7da31",
   "metadata": {},
   "outputs": [
    {
     "name": "stderr",
     "output_type": "stream",
     "text": [
      "C:\\Users\\Admin\\AppData\\Local\\Temp\\ipykernel_1544\\3493736552.py:9: FutureWarning: A value is trying to be set on a copy of a DataFrame or Series through chained assignment using an inplace method.\n",
      "The behavior will change in pandas 3.0. This inplace method will never work because the intermediate object on which we are setting values always behaves as a copy.\n",
      "\n",
      "For example, when doing 'df[col].method(value, inplace=True)', try using 'df.method({col: value}, inplace=True)' or df[col] = df[col].method(value) instead, to perform the operation inplace on the original object.\n",
      "\n",
      "\n",
      "  df['Age'].fillna(df['Age'].mean(), inplace=True)\n",
      "C:\\Users\\Admin\\AppData\\Local\\Temp\\ipykernel_1544\\3493736552.py:10: FutureWarning: A value is trying to be set on a copy of a DataFrame or Series through chained assignment using an inplace method.\n",
      "The behavior will change in pandas 3.0. This inplace method will never work because the intermediate object on which we are setting values always behaves as a copy.\n",
      "\n",
      "For example, when doing 'df[col].method(value, inplace=True)', try using 'df.method({col: value}, inplace=True)' or df[col] = df[col].method(value) instead, to perform the operation inplace on the original object.\n",
      "\n",
      "\n",
      "  df['Cabin'].fillna('N', inplace=True)\n",
      "C:\\Users\\Admin\\AppData\\Local\\Temp\\ipykernel_1544\\3493736552.py:11: FutureWarning: A value is trying to be set on a copy of a DataFrame or Series through chained assignment using an inplace method.\n",
      "The behavior will change in pandas 3.0. This inplace method will never work because the intermediate object on which we are setting values always behaves as a copy.\n",
      "\n",
      "For example, when doing 'df[col].method(value, inplace=True)', try using 'df.method({col: value}, inplace=True)' or df[col] = df[col].method(value) instead, to perform the operation inplace on the original object.\n",
      "\n",
      "\n",
      "  df['Embarked'].fillna('N', inplace=True)\n",
      "C:\\Users\\Admin\\AppData\\Local\\Temp\\ipykernel_1544\\3493736552.py:12: FutureWarning: A value is trying to be set on a copy of a DataFrame or Series through chained assignment using an inplace method.\n",
      "The behavior will change in pandas 3.0. This inplace method will never work because the intermediate object on which we are setting values always behaves as a copy.\n",
      "\n",
      "For example, when doing 'df[col].method(value, inplace=True)', try using 'df.method({col: value}, inplace=True)' or df[col] = df[col].method(value) instead, to perform the operation inplace on the original object.\n",
      "\n",
      "\n",
      "  df['Fare'].fillna(0, inplace=True)\n"
     ]
    }
   ],
   "source": [
    "from sklearn.model_selection import train_test_split\n",
    "from sklearn.metrics import accuracy_score\n",
    "from sklearn.preprocessing import LabelEncoder\n",
    "\n",
    "X_titanic_df = transform_features(X_titanic_df)"
   ]
  },
  {
   "cell_type": "code",
   "execution_count": 5,
   "id": "dfca4a76",
   "metadata": {},
   "outputs": [],
   "source": [
    "#데이터셋 분할\n",
    "X_train, X_test, y_train, y_test = train_test_split(X_titanic_df,\n",
    "                                                    y_titanic_df, \n",
    "                                                    test_size=0.2, \n",
    "                                                    random_state=0 )"
   ]
  },
  {
   "cell_type": "code",
   "execution_count": 6,
   "id": "ed4cd09d",
   "metadata": {},
   "outputs": [],
   "source": [
    "myclf = MyDummyClassifier()\n",
    "myclf.fit(X_train, y_train)"
   ]
  },
  {
   "cell_type": "code",
   "execution_count": 7,
   "id": "21ac3b6f",
   "metadata": {},
   "outputs": [
    {
     "data": {
      "text/plain": [
       "0.7877094972067039"
      ]
     },
     "execution_count": 7,
     "metadata": {},
     "output_type": "execute_result"
    }
   ],
   "source": [
    "my_pred = myclf.predict(X_test)\n",
    "accuracy_score(y_test, my_pred)"
   ]
  },
  {
   "cell_type": "markdown",
   "id": "7851249d",
   "metadata": {},
   "source": [
    "혼동행렬\n",
    "- 데이터의 실제 클래스와 모델에 의해 예측된 클래스를 비교하는 행렬로 각, 클래스 별로 잘 분류된 포인트 수를 정리하는 것"
   ]
  },
  {
   "cell_type": "code",
   "execution_count": 8,
   "id": "16765704",
   "metadata": {},
   "outputs": [
    {
     "data": {
      "text/plain": [
       "array([[92, 18],\n",
       "       [20, 49]])"
      ]
     },
     "execution_count": 8,
     "metadata": {},
     "output_type": "execute_result"
    }
   ],
   "source": [
    "from sklearn.metrics import confusion_matrix\n",
    "confusion_matrix(y_test,my_pred)"
   ]
  },
  {
   "cell_type": "code",
   "execution_count": 9,
   "id": "a4527a16",
   "metadata": {},
   "outputs": [
    {
     "data": {
      "text/plain": [
       "(np.float64(0.7313432835820896), np.float64(0.7101449275362319))"
      ]
     },
     "execution_count": 9,
     "metadata": {},
     "output_type": "execute_result"
    }
   ],
   "source": [
    "from sklearn.metrics import precision_score, recall_score\n",
    "\n",
    "precision_score(y_test, my_pred), recall_score(y_test, my_pred)"
   ]
  },
  {
   "cell_type": "markdown",
   "id": "b70e497a",
   "metadata": {},
   "source": [
    "로지스틱 회귀, 랜덤포레스트, knn 의 정밀도, 재현율 비교하기"
   ]
  },
  {
   "cell_type": "code",
   "execution_count": 10,
   "id": "4e5315d1",
   "metadata": {},
   "outputs": [],
   "source": [
    "def get_clf_eval(y_test, pred):\n",
    "    confusion = confusion_matrix(y_test, pred)\n",
    "    accuracy = accuracy_score(y_test, pred)\n",
    "    precision = precision_score(y_test, pred)\n",
    "    recall = recall_score(y_test, pred)\n",
    "\n",
    "    print(confusion)\n",
    "    print('='*20)\n",
    "    print(accuracy, precision, recall)"
   ]
  },
  {
   "cell_type": "code",
   "execution_count": 11,
   "id": "148cb51f",
   "metadata": {},
   "outputs": [
    {
     "name": "stdout",
     "output_type": "stream",
     "text": [
      "[[92 18]\n",
      " [16 53]]\n",
      "====================\n",
      "0.8100558659217877 0.7464788732394366 0.7681159420289855\n"
     ]
    },
    {
     "name": "stderr",
     "output_type": "stream",
     "text": [
      "c:\\Users\\Admin\\miniconda3\\envs\\hi_ml_env\\lib\\site-packages\\sklearn\\linear_model\\_logistic.py:469: ConvergenceWarning: lbfgs failed to converge (status=1):\n",
      "STOP: TOTAL NO. OF ITERATIONS REACHED LIMIT.\n",
      "\n",
      "Increase the number of iterations (max_iter) or scale the data as shown in:\n",
      "    https://scikit-learn.org/stable/modules/preprocessing.html\n",
      "Please also refer to the documentation for alternative solver options:\n",
      "    https://scikit-learn.org/stable/modules/linear_model.html#logistic-regression\n",
      "  n_iter_i = _check_optimize_result(\n"
     ]
    }
   ],
   "source": [
    "#데이터셋 분할\n",
    "X_train, X_test, y_train, y_test = train_test_split(X_titanic_df,\n",
    "                                                    y_titanic_df, \n",
    "                                                    test_size=0.2, \n",
    "                                                    random_state=0 )\n",
    "\n",
    "from sklearn.linear_model import LogisticRegression\n",
    "\n",
    "model_logit = LogisticRegression()\n",
    "model_logit.fit(X_train,y_train)\n",
    "pred = model_logit.predict(X_test)\n",
    "\n",
    "from sklearn.metrics import accuracy_score\n",
    "\n",
    "get_clf_eval(y_test, pred)"
   ]
  },
  {
   "cell_type": "markdown",
   "id": "6f8f0f3b",
   "metadata": {},
   "source": [
    "임계치 조정"
   ]
  },
  {
   "cell_type": "code",
   "execution_count": 12,
   "id": "0f48529d",
   "metadata": {},
   "outputs": [
    {
     "name": "stdout",
     "output_type": "stream",
     "text": [
      "[[86 24]\n",
      " [13 56]]\n",
      "====================\n",
      "0.7932960893854749 0.7 0.8115942028985508\n"
     ]
    }
   ],
   "source": [
    "pred_proba = model_logit.predict_proba(X_test) # 0일 확률과 1일 확률\n",
    "pos_proba = pred_proba[:,1]\n",
    "\n",
    "from sklearn.metrics import confusion_matrix\n",
    "threshold = 0.4 # 임계치\n",
    "custom_proba = (pos_proba >= threshold).astype(int)\n",
    "\n",
    "confusion_matrix(y_test,custom_proba)\n",
    "get_clf_eval(y_test,custom_proba)"
   ]
  },
  {
   "cell_type": "markdown",
   "id": "dcedb625",
   "metadata": {},
   "source": [
    "정밀도와 재현율의 변화\n",
    "- 정밀도와 재현율의 불균형이 심할 때, \n",
    "혹은 비즈니스의 요구사항이 있을 때\n",
    "임계치 조정을 해야한다.\n",
    "\n",
    "- 임계치를 낮추면 정밀도가 낮아지고 재현율은 올라간다. "
   ]
  },
  {
   "cell_type": "code",
   "execution_count": 13,
   "id": "97c21f69",
   "metadata": {},
   "outputs": [
    {
     "name": "stdout",
     "output_type": "stream",
     "text": [
      "0.7571428571428571\n",
      "              precision    recall  f1-score   support\n",
      "\n",
      "           0       0.85      0.84      0.84       110\n",
      "           1       0.75      0.77      0.76        69\n",
      "\n",
      "    accuracy                           0.81       179\n",
      "   macro avg       0.80      0.80      0.80       179\n",
      "weighted avg       0.81      0.81      0.81       179\n",
      "\n"
     ]
    }
   ],
   "source": [
    "from sklearn.metrics import f1_score, classification_report\n",
    "print(f1_score(y_test,pred))\n",
    "print(classification_report(y_test,pred))"
   ]
  },
  {
   "cell_type": "code",
   "execution_count": null,
   "id": "4d976fb4",
   "metadata": {},
   "outputs": [],
   "source": []
  }
 ],
 "metadata": {
  "kernelspec": {
   "display_name": "hi_ml_env",
   "language": "python",
   "name": "python3"
  },
  "language_info": {
   "codemirror_mode": {
    "name": "ipython",
    "version": 3
   },
   "file_extension": ".py",
   "mimetype": "text/x-python",
   "name": "python",
   "nbconvert_exporter": "python",
   "pygments_lexer": "ipython3",
   "version": "3.10.16"
  }
 },
 "nbformat": 4,
 "nbformat_minor": 5
}
