{
 "cells": [
  {
   "cell_type": "markdown",
   "metadata": {
    "id": "nTXGJAoU91gM"
   },
   "source": [
    "# 🚀 머신러닝 실습 : 고객 구매 데이터로 성별 예측 모델링 (분류 문제)\n",
    "\n",
    "* 주어진 데이터는 백화점 고객의 1년 간 구매 데이터입니다.\n",
    "* 고객 3,500명에 대한 학습용 데이터(y.csv, X.csv)를 이용하여 성별예측 모형을 만들어보세요.\n",
    "* 모델의 성능은 자유롭게 측정해봅니다!"
   ]
  },
  {
   "cell_type": "markdown",
   "metadata": {
    "id": "nTWGcHCx91gP"
   },
   "source": [
    "## [실습 프로세스]\n",
    "1. 데이터 불러오기  \n",
    "2. 데이터 탐색\n",
    "3. 데이터 전처리  \n",
    "4. 학습/테스트 데이터 분리  \n",
    "5. 모델 선택 및 학습  \n",
    "6. 예측 및 평가  "
   ]
  },
  {
   "cell_type": "markdown",
   "metadata": {
    "id": "fMR3GxUg91gQ"
   },
   "source": [
    "\n",
    "<br/>\n",
    "\n",
    "---\n",
    "\n",
    "<br/>\n",
    "<br/>\n",
    "\n",
    "# 0. 라이브러리 불러오기"
   ]
  },
  {
   "cell_type": "markdown",
   "metadata": {
    "id": "Se9SJeEb91gQ"
   },
   "source": [
    "* 라이브러리를 가져와서 과정을 준비합니다"
   ]
  },
  {
   "cell_type": "code",
   "execution_count": 6,
   "metadata": {
    "id": "pWfHfOGW91gR"
   },
   "outputs": [],
   "source": [
    "import numpy as np\n",
    "import pandas as pd\n",
    "import matplotlib.pyplot as plt\n",
    "\n",
    "import warnings\n",
    "warnings.filterwarnings(action='ignore')"
   ]
  },
  {
   "cell_type": "markdown",
   "metadata": {
    "id": "cOi88-PZ91gS"
   },
   "source": [
    "<br/>\n",
    "\n",
    "---\n",
    "\n",
    "<br/>\n",
    "<br/>\n",
    "\n",
    "# 1. 데이터 불러오기\n",
    "* 데이터를 가져와서 과정을 준비합시다.\n",
    "- 인코딩 방식은 'euc-kr' 을 활용하세요.\n",
    "- 데이터 출처 : 한국데이터산업진흥원 빅데이터분석기사 실기 공개 예시 문항\n",
    "\n",
    "- 독립 변수 데이터셋 : ./data/X.csv\n",
    "- 종속 변수 데이터셋 : ./data/y.csv"
   ]
  },
  {
   "cell_type": "markdown",
   "metadata": {
    "id": "70290e1a"
   },
   "source": [
    "\n",
    "데이터 파일을 불러옵니다. 보통 CSV 파일을 pandas로 읽어옵니다."
   ]
  },
  {
   "cell_type": "code",
   "execution_count": 3,
   "metadata": {},
   "outputs": [
    {
     "name": "stdout",
     "output_type": "stream",
     "text": [
      "변경 후: c:\\githome\\hipython_rep\n"
     ]
    }
   ],
   "source": [
    "import os\n",
    "# 노트북 파일이 있는 폴더로 이동 (예시)\n",
    "os.chdir(r'C:\\githome\\hipython_rep')\n",
    "\n",
    "# 변경 후 확인\n",
    "print(\"변경 후:\", os.getcwd())"
   ]
  },
  {
   "cell_type": "code",
   "execution_count": 7,
   "metadata": {
    "id": "rd7D3p2U91gS"
   },
   "outputs": [],
   "source": [
    "X = pd.read_csv('./data1/X.csv', encoding='euc-kr')\n",
    "y = pd.read_csv('./data1/y.csv', encoding='euc-kr')"
   ]
  },
  {
   "cell_type": "markdown",
   "metadata": {
    "id": "juTPghw191gT"
   },
   "source": [
    "<br/>\n",
    "\n",
    "---\n",
    "\n",
    "<br/>\n",
    "<br/>\n",
    "\n",
    "# 2. 데이터 탐색하기\n",
    "* 데이터를 이해할 수 있도록 탐색과정을 수행해봅시다."
   ]
  },
  {
   "cell_type": "markdown",
   "metadata": {
    "id": "a20f7f93"
   },
   "source": [
    "\n",
    "데이터의 상위 몇 개 행을 출력하여 전체 구조를 미리 확인합니다."
   ]
  },
  {
   "cell_type": "markdown",
   "metadata": {
    "id": "61a879c4"
   },
   "source": [
    "\n",
    "데이터의 요약 정보나 통계 정보를 출력해 변수들의 유형과 분포를 확인합니다."
   ]
  },
  {
   "cell_type": "markdown",
   "metadata": {
    "id": "7968371f"
   },
   "source": [
    "\n",
    "데이터의 요약 정보나 통계 정보를 출력해 변수들의 유형과 분포를 확인합니다."
   ]
  },
  {
   "cell_type": "markdown",
   "metadata": {
    "id": "vJ1cHqu591gW"
   },
   "source": [
    "<br/>\n",
    "\n",
    "---\n",
    "\n",
    "<br/>\n",
    "<br/>\n",
    "\n",
    "# 3. 데이터 전처리\n",
    "* 전처리 과정을 통해서 머신러닝에 사용할 수 있는 형태의 데이터 준비"
   ]
  },
  {
   "cell_type": "markdown",
   "metadata": {
    "id": "a0065aed"
   },
   "source": [
    "\n",
    "필요한 라이브러리를 불러옵니다.\n",
    "- 인코딩 : LabelEncoder\n",
    "- 데이터 표준화 : StandardScaler"
   ]
  },
  {
   "cell_type": "markdown",
   "metadata": {
    "id": "_ZZfaw8wRK0q"
   },
   "source": [
    "* 단순히 1부터의 숫자를 부여한 'cust_id'를 수치형 변수로 받아들이면, 결과가 왜곡될 수 있으니 컬럼을 제거합니다."
   ]
  },
  {
   "cell_type": "markdown",
   "metadata": {
    "id": "6f732fc5"
   },
   "source": [
    "- 데이터에 결측치가 있는지 확인해보세요\n"
   ]
  },
  {
   "cell_type": "markdown",
   "metadata": {
    "id": "JCUDSOz5S4Uj"
   },
   "source": [
    "- 결측치에 0으로 채워 넣어 모델 학습에 지장이 없도록 합니다."
   ]
  },
  {
   "cell_type": "markdown",
   "metadata": {
    "id": "4c4576cb"
   },
   "source": [
    "\n",
    "문자형 범주 데이터를 숫자로 바꾸기 위한 인코딩을 수행합니다."
   ]
  },
  {
   "cell_type": "markdown",
   "metadata": {
    "id": "6a007ad3"
   },
   "source": [
    "각 데이터에 표준화를 적용하여 데이터의 스케일(크기 차이)을 맞춰줍니다.\n",
    "- 평균을 0, 표준편차를 1로 맞춰서 → 데이터가 정규 분포 형태로 변환되도록 하세요"
   ]
  },
  {
   "cell_type": "markdown",
   "metadata": {
    "id": "ZvGAVRwM91gZ"
   },
   "source": [
    "<br/>\n",
    "\n",
    "---\n",
    "\n",
    "<br/>\n",
    "<br/>\n",
    "\n",
    "# 5-1. 모델링 - LogisticRegression\n",
    "\n",
    "* 본격적으로 모델을 선언하고 학습시킵니다."
   ]
  },
  {
   "cell_type": "markdown",
   "metadata": {
    "id": "9ff4c1c6"
   },
   "source": [
    "\n",
    "필요한 라이브러리를 불러옵니다."
   ]
  },
  {
   "cell_type": "markdown",
   "metadata": {
    "id": "041ddb99"
   },
   "source": [
    "모델을 선언하여 객체화시킵니다."
   ]
  },
  {
   "cell_type": "markdown",
   "metadata": {
    "id": "af2d6884"
   },
   "source": [
    "\n",
    "모델을 학습 데이터에 맞춰 학습시킵니다."
   ]
  },
  {
   "cell_type": "markdown",
   "metadata": {
    "id": "ZFuzRBOi91gq"
   },
   "source": [
    "<br/>\n",
    "\n",
    "---\n",
    "\n",
    "<br/>\n",
    "<br/>\n",
    "\n",
    "# 6-1. 예측 성능 확인해보기 - LogisticRegression\n",
    "\n",
    "- 학습된 모델로 테스트 데이터에 대한 예측을 수행합니다."
   ]
  },
  {
   "cell_type": "markdown",
   "metadata": {
    "id": "abdb560b"
   },
   "source": [
    "- 학습시킨 모델의 성능을 알아봅니다\n",
    "- 각 평가지표로 모델의 성능을 수치화하여 확인합니다.\n",
    "- 필요한 라이브러리를 import 하고 성능을 확인해보세요 (정확도, 정밀도, 재현율, f1, confusion_matrix)"
   ]
  },
  {
   "cell_type": "markdown",
   "metadata": {
    "id": "dQuSbLz84nro"
   },
   "source": [
    "\n",
    "<br/>\n",
    "\n",
    "---\n",
    "\n",
    "<br/>\n",
    "<br/>\n",
    "\n",
    "# 5-2. 모델링 - DecisionTreeClassifier\n",
    "\n",
    "* 본격적으로 모델을 선언하고 학습시킵니다."
   ]
  },
  {
   "cell_type": "markdown",
   "metadata": {
    "id": "aVO9QGP_NqVL"
   },
   "source": [
    "\n",
    "필요한 라이브러리를 불러옵니다."
   ]
  },
  {
   "cell_type": "markdown",
   "metadata": {
    "id": "dvCbouLY4n-p"
   },
   "source": [
    "모델을 선언하여 객체화시킵니다."
   ]
  },
  {
   "cell_type": "markdown",
   "metadata": {
    "id": "rOcWcPPH4oMc"
   },
   "source": [
    "모델을 학습 데이터에 맞춰 학습시킵니다."
   ]
  },
  {
   "cell_type": "markdown",
   "metadata": {
    "id": "ac15ROBr4oZs"
   },
   "source": [
    "\n",
    "\n",
    "<br/>\n",
    "<br/>\n",
    "\n",
    "# 6-2. 예측 성능 확인해보기 - DecisionTreeClassifier\n",
    "\n",
    "- 학습된 모델로 테스트 데이터에 대한 예측을 수행합니다."
   ]
  },
  {
   "cell_type": "markdown",
   "metadata": {
    "id": "p2DDla4S4qNl"
   },
   "source": [
    "- 학습시킨 모델의 성능을 알아봅니다\n",
    "- 각 평가지표로 모델의 성능을 수치화하여 확인합니다.\n",
    "- 필요한 라이브러리를 import 하고 성능을 확인해보세요 (정확도, 정밀도, 재현율, f1, confusion_matrix)"
   ]
  },
  {
   "cell_type": "markdown",
   "metadata": {
    "id": "KIzvNG9o4qbp"
   },
   "source": [
    "\n",
    "<br/>\n",
    "\n",
    "---\n",
    "\n",
    "<br/>\n",
    "<br/>\n",
    "\n",
    "# 5-3. 모델링 - RandomForestClassifier\n",
    "\n",
    "* 본격적으로 모델을 선언하고 학습시킵니다.\n"
   ]
  },
  {
   "cell_type": "markdown",
   "metadata": {
    "id": "4slJZUjdNrcg"
   },
   "source": [
    "\n",
    "필요한 라이브러리를 불러옵니다."
   ]
  },
  {
   "cell_type": "markdown",
   "metadata": {
    "id": "nKPLNPiA4qpc"
   },
   "source": [
    "모델을 선언하여 객체화시킵니다."
   ]
  },
  {
   "cell_type": "markdown",
   "metadata": {
    "id": "F3N5mRRO4q1c"
   },
   "source": [
    "모델을 학습 데이터에 맞춰 학습시킵니다."
   ]
  },
  {
   "cell_type": "markdown",
   "metadata": {
    "id": "91o2dDXpGboM"
   },
   "source": [
    "\n",
    "\n",
    "<br/>\n",
    "<br/>\n",
    "\n",
    "# 6-3. 예측 성능 확인해보기 - RandomForestClassifier\n",
    "\n",
    "- 학습된 모델로 테스트 데이터에 대한 예측을 수행합니다."
   ]
  },
  {
   "cell_type": "markdown",
   "metadata": {
    "id": "v1CmG6a6Gb_6"
   },
   "source": [
    "- 학습시킨 모델의 성능을 알아봅니다\n",
    "- 각 평가지표로 모델의 성능을 수치화하여 확인합니다.\n",
    "- 필요한 라이브러리를 import 하고 성능을 확인해보세요 (정확도, 정밀도, 재현율, f1, confusion_matrix)"
   ]
  },
  {
   "cell_type": "markdown",
   "metadata": {
    "id": "izQcl2k0G0JN"
   },
   "source": [
    "\n",
    "<br/>\n",
    "\n",
    "---\n",
    "\n",
    "<br/>\n",
    "<br/>\n",
    "\n",
    "# 5-4. 모델링 - XGBoost\n",
    "\n",
    "* 본격적으로 모델을 선언하고 학습시킵니다.\n"
   ]
  },
  {
   "cell_type": "markdown",
   "metadata": {
    "id": "hbXgeYXZNse8"
   },
   "source": [
    "\n",
    "필요한 라이브러리를 불러옵니다."
   ]
  },
  {
   "cell_type": "markdown",
   "metadata": {
    "id": "H6D_wUyFG0UJ"
   },
   "source": [
    "모델을 선언하여 객체화시킵니다."
   ]
  },
  {
   "cell_type": "markdown",
   "metadata": {
    "id": "Y8zf47AQImw3"
   },
   "source": [
    "모델을 학습 데이터에 맞춰 학습시킵니다."
   ]
  },
  {
   "cell_type": "markdown",
   "metadata": {
    "id": "7gpDH5mSInJW"
   },
   "source": [
    "\n",
    "\n",
    "<br/>\n",
    "<br/>\n",
    "\n",
    "# 6-4. 예측 성능 확인해보기 - XGBoost\n",
    "\n",
    "- 학습된 모델로 테스트 데이터에 대한 예측을 수행합니다."
   ]
  },
  {
   "cell_type": "markdown",
   "metadata": {
    "id": "gmaIdV_4Inj4"
   },
   "source": [
    "- 학습시킨 모델의 성능을 알아봅니다\n",
    "- 각 평가지표로 모델의 성능을 수치화하여 확인합니다.\n",
    "- 필요한 라이브러리를 import 하고 성능을 확인해보세요 (정확도, 정밀도, 재현율, f1, confusion_matrix)"
   ]
  },
  {
   "cell_type": "markdown",
   "metadata": {
    "id": "0oXz-hAO4hWc"
   },
   "source": [
    "<br/>\n",
    "\n",
    "---\n",
    "\n",
    "\n",
    "<br/>\n",
    "\n",
    "## 7.  위 4가지 모델의 학습 & 예측 & 평가 결과를 확인하고 최고 성능을 내는 모델을 찾아봅시다!\n",
    "\n",
    "- 어떤 모델이 가장 성능이 좋은가요 ?"
   ]
  }
 ],
 "metadata": {
  "colab": {
   "provenance": []
  },
  "kernelspec": {
   "display_name": "hi_ml_env",
   "language": "python",
   "name": "python3"
  },
  "language_info": {
   "codemirror_mode": {
    "name": "ipython",
    "version": 3
   },
   "file_extension": ".py",
   "mimetype": "text/x-python",
   "name": "python",
   "nbconvert_exporter": "python",
   "pygments_lexer": "ipython3",
   "version": "3.10.16"
  }
 },
 "nbformat": 4,
 "nbformat_minor": 0
}
