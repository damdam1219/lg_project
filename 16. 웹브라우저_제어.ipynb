{
 "cells": [
  {
   "cell_type": "markdown",
   "id": "33de8561",
   "metadata": {},
   "source": [
    "## Selenium"
   ]
  },
  {
   "cell_type": "markdown",
   "id": "3848d629",
   "metadata": {},
   "source": [
    "- 단순히 HTML만 가져오는 requests나 BeautifulSoup과 달리,\n",
    "로그인, 무한 스크롤, 동적 로딩(AJAX) 등 자바스크립트가 실행된 후의 데이터까지 가져올 수 있음.\n",
    "\n",
    "- 실제로 브라우저를 띄워서 사람이 클릭하는 것처럼 행동 →\n",
    "크롤링 막는 사이트도 상대적으로 우회 가능."
   ]
  },
  {
   "cell_type": "markdown",
   "id": "16a7821f",
   "metadata": {},
   "source": [
    "파이썬 코드로 열기"
   ]
  },
  {
   "cell_type": "code",
   "execution_count": 3,
   "id": "63a4e6b0",
   "metadata": {},
   "outputs": [
    {
     "name": "stdout",
     "output_type": "stream",
     "text": [
      "<!DOCTYPE html>\n",
      "<html lang=\"ko\">\n",
      "\t<head>    \n",
      "\t\t<meta charset=\"UTF-8\">    \n",
      "\t\t<title>Title</title>\n"
     ]
    }
   ],
   "source": [
    "# 파일의 절대경로\n",
    "import os\n",
    "import urllib.request\n",
    "abs_path = os.path.abspath('HTML/basic2.html')\n",
    "url_path = \"file:///\" + abs_path\n",
    "with urllib.request.urlopen(url_path)as f:\n",
    "    html =f.read().decode('utf-8')\n",
    "\n",
    "print(html[:100])"
   ]
  },
  {
   "cell_type": "markdown",
   "id": "da6bc5fa",
   "metadata": {},
   "source": [
    "셀레니움으로 로컬 HTML 열기"
   ]
  },
  {
   "cell_type": "code",
   "execution_count": 4,
   "id": "2474c835",
   "metadata": {},
   "outputs": [],
   "source": [
    "from selenium import webdriver\n",
    "\n",
    "driver = webdriver.Chrome()\n",
    "\n",
    "# 로컬 파일 경로를 file:// 로 시작해야 함\n",
    "driver.get(url_path)"
   ]
  },
  {
   "cell_type": "code",
   "execution_count": null,
   "id": "bf8dc81c",
   "metadata": {},
   "outputs": [],
   "source": [
    "from selenium.webdriver import Chrome\n",
    "import os\n",
    "from selenium.webdriver.chrome.options import Options\n",
    "\n",
    "\n",
    "#Chrome 브라우저의 실행 옵션을 설정하기 위해 Options 객체를 만들기\n",
    "chrome_options = Options()\n",
    "\n",
    "#브라우저 창을 자동화가 끝나도 닫지 않고, 계속 열어두게 함\n",
    "chrome_options.add_experimental_option(name='detach', value=True)\n",
    "\n",
    "\n",
    "#Chrome 브라우저를 위에서 설정한 옵션과 함께 실행\n",
    "driver = Chrome(options=chrome_options)\n",
    "\n",
    "#file:///는 로컬 파일을 브라우저에서 여는 URL 형식\n",
    "driver.get(url_path) "
   ]
  },
  {
   "cell_type": "markdown",
   "id": "45bfcd8e",
   "metadata": {},
   "source": [
    "### 요소 찾기"
   ]
  },
  {
   "cell_type": "code",
   "execution_count": 11,
   "id": "e2f2e5ce",
   "metadata": {},
   "outputs": [],
   "source": [
    "# 요소를 찾아서 값추가\n",
    "username_el = driver.find_element(by='name', value='username')\n",
    "username_el.send_keys('jungseok')\n",
    "\n",
    "username_el = driver.find_element(by='name', value='password')\n",
    "username_el.send_keys('012345678')"
   ]
  },
  {
   "cell_type": "code",
   "execution_count": 17,
   "id": "daff892c",
   "metadata": {},
   "outputs": [],
   "source": [
    "# 링크가 들어있는 요소를 찾기\n",
    "link_el = driver.find_element(by='link text', value='파이썬전문가그룹')\n",
    "link_el.click()"
   ]
  },
  {
   "cell_type": "code",
   "execution_count": 18,
   "id": "757f03fa",
   "metadata": {},
   "outputs": [],
   "source": [
    "driver.back() #브라우저에서 이전 페이지로 이동"
   ]
  },
  {
   "cell_type": "markdown",
   "id": "73789ac2",
   "metadata": {},
   "source": [
    "### 검색 결과 가져오기"
   ]
  },
  {
   "cell_type": "code",
   "execution_count": null,
   "id": "d489b93b",
   "metadata": {},
   "outputs": [],
   "source": [
    "#Selenium의 웹드라이버 기능 불러오기 (크롬, 파이어폭스 등 조작 가능)\n",
    "from selenium import webdriver\n",
    "driver = webdriver.Chrome()\n",
    "driver.get('https://www.python.org/')"
   ]
  },
  {
   "cell_type": "code",
   "execution_count": 40,
   "id": "4afcce02",
   "metadata": {},
   "outputs": [],
   "source": [
    "from selenium.webdriver.common.by import By\n",
    "from selenium.webdriver.common.keys import Keys\n",
    "input_el = driver.find_element(by=By.ID, value='id-search-field') # 유니크한 아이디\n",
    "input_el.send_keys('pycon') # 검색창에 pycon 검색\n",
    "input_el.send_keys(Keys.RETURN) # 엔터\n",
    "\n",
    "driver.implicitly_wait(3) # 명시적 대기\n",
    "\n",
    "result_list = driver.find_elements(by = \"css selector\", value='form li h3 > a')\n",
    "for result in result_list:\n",
    "    print(result.text)"
   ]
  },
  {
   "cell_type": "code",
   "execution_count": 25,
   "id": "d8229f80",
   "metadata": {},
   "outputs": [],
   "source": [
    "input_el2 = driver.find_element(by='css selector', value='#id-search-field')\n",
    "input_el2.send_keys('ahaha')"
   ]
  },
  {
   "cell_type": "code",
   "execution_count": 29,
   "id": "878d9951",
   "metadata": {},
   "outputs": [],
   "source": [
    "#content > div > section > form > ul > li:nth-child(2) > h3 > a"
   ]
  },
  {
   "cell_type": "code",
   "execution_count": 33,
   "id": "fb5ac270",
   "metadata": {},
   "outputs": [
    {
     "name": "stdout",
     "output_type": "stream",
     "text": [
      "PSF PyCon Trademark Usage Policy\n",
      "PyCon Italia 2016 (PyCon Sette)\n",
      "PyCon Australia 2013\n",
      "PyCon AU 2019\n",
      "PyCon NL 2025\n",
      "PyCon Australia 2014\n",
      "PyCon Ireland 2012\n",
      "PyCon Ireland 2016\n",
      "PyCon Ireland 2022\n",
      "PyCon Australia 2014\n",
      "PyCon Ireland 2024\n",
      "PyCon APAC 2025\n",
      "PyCon AU 2018\n",
      "PyCon APAC 2022\n",
      "PyCon PH 2024\n",
      "PyCon Ireland 2023\n",
      "PyCon PL 2014\n",
      "PyCon MY 2015\n",
      "PyCon Ireland 2015\n",
      "PyCon AU 2015\n"
     ]
    }
   ],
   "source": [
    "result_list = driver.find_elements(by = \"css selector\", value='form li h3 > a')\n",
    "for result in result_list:\n",
    "    print(result.text)"
   ]
  },
  {
   "cell_type": "markdown",
   "id": "697888e9",
   "metadata": {},
   "source": [
    "### 비동기 요청"
   ]
  },
  {
   "cell_type": "code",
   "execution_count": 41,
   "id": "2158103a",
   "metadata": {},
   "outputs": [
    {
     "name": "stdout",
     "output_type": "stream",
     "text": [
      "200\n",
      "170732\n",
      "[]\n"
     ]
    }
   ],
   "source": [
    "#비동기 방식으로 정보가 보여지는 페이지의 예\n",
    "import requests\n",
    "response = requests.get('https://www.weather.go.kr/w/index.do')\n",
    "print(response.status_code)\n",
    "print(len(response.text))\n",
    "\n",
    "from bs4 import BeautifulSoup\n",
    "soup = BeautifulSoup(response.content, 'html.parser')\n",
    "print(soup.select('.tmp'))"
   ]
  },
  {
   "cell_type": "markdown",
   "id": "c2924bed",
   "metadata": {},
   "source": [
    "날씨 정보를 일반적 조건으로 대기해서 가져오기"
   ]
  },
  {
   "cell_type": "code",
   "execution_count": 44,
   "id": "27eef135",
   "metadata": {},
   "outputs": [],
   "source": [
    "import requests"
   ]
  },
  {
   "cell_type": "code",
   "execution_count": 47,
   "id": "100d10ba",
   "metadata": {},
   "outputs": [],
   "source": [
    "url = 'https://www.weather.go.kr/w/index.do'\n",
    "res = requests.get(url)"
   ]
  },
  {
   "cell_type": "code",
   "execution_count": 48,
   "id": "5403d0f8",
   "metadata": {},
   "outputs": [
    {
     "data": {
      "text/plain": [
       "[]"
      ]
     },
     "execution_count": 48,
     "metadata": {},
     "output_type": "execute_result"
    }
   ],
   "source": [
    "from bs4 import BeautifulSoup\n",
    "soup = BeautifulSoup(res.text, 'html.parser')\n",
    "soup.select(\".tmp\")"
   ]
  },
  {
   "cell_type": "code",
   "execution_count": 43,
   "id": "60643f48",
   "metadata": {},
   "outputs": [
    {
     "name": "stdout",
     "output_type": "stream",
     "text": [
      "34.8℃\n"
     ]
    }
   ],
   "source": [
    "from selenium.webdriver import Chrome\n",
    "import time\n",
    "driver = Chrome()\n",
    "driver.get(\"https://www.weather.go.kr/w/index.do\")\n",
    "\n",
    "time.sleep(3) #지정한 시간동안 무조건 대기\n",
    "\n",
    "element = driver.find_element(by='css selector', value='div#current-weather span.tmp')\n",
    "print(element.text)\n",
    "driver.close()"
   ]
  },
  {
   "cell_type": "markdown",
   "id": "a6674bb4",
   "metadata": {},
   "source": [
    "명시적 대기: 웹페이지는 로딩 속도가 느릴 수 있어서 바로 요소를 찾으면 못 찾고 에러가 나는 경우가 있어서 조건이 만족될 때까지 기다리는 것."
   ]
  },
  {
   "cell_type": "code",
   "execution_count": null,
   "id": "948c0aa4",
   "metadata": {},
   "outputs": [
    {
     "name": "stdout",
     "output_type": "stream",
     "text": [
      "34.7℃\n"
     ]
    }
   ],
   "source": [
    "from selenium.webdriver import Chrome\n",
    "from selenium.webdriver.support import expected_conditions as EC\n",
    "from selenium.webdriver.support.ui import WebDriverWait\n",
    "driver = Chrome()\n",
    "driver.get(\"https://www.weather.go.kr/w/index.do\")\n",
    "wait = WebDriverWait(driver, 3) # 최대 3초까지 대기\n",
    "\n",
    "# find_element() 함수의 인수로 전달될 by와 value를 튜플 형식으로 지정\n",
    "element = wait.until(\n",
    "    EC.presence_of_element_located((\"css selector\", \"div#current-weather span.tmp\"))\n",
    ")\n",
    "print(element.text)\n",
    "driver.close()"
   ]
  }
 ],
 "metadata": {
  "kernelspec": {
   "display_name": "webcrawl_env",
   "language": "python",
   "name": "python3"
  },
  "language_info": {
   "codemirror_mode": {
    "name": "ipython",
    "version": 3
   },
   "file_extension": ".py",
   "mimetype": "text/x-python",
   "name": "python",
   "nbconvert_exporter": "python",
   "pygments_lexer": "ipython3",
   "version": "3.10.18"
  }
 },
 "nbformat": 4,
 "nbformat_minor": 5
}
