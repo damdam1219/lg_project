{
 "cells": [
  {
   "cell_type": "markdown",
   "id": "fa93946b",
   "metadata": {},
   "source": [
    "#  선형회귀 모델 작성, 예측 , 평가"
   ]
  },
  {
   "cell_type": "code",
   "execution_count": 1,
   "id": "32f8eac4",
   "metadata": {},
   "outputs": [],
   "source": [
    "import pandas as pd"
   ]
  },
  {
   "cell_type": "code",
   "execution_count": 2,
   "id": "0e9166d8",
   "metadata": {},
   "outputs": [
    {
     "data": {
      "text/html": [
       "<div>\n",
       "<style scoped>\n",
       "    .dataframe tbody tr th:only-of-type {\n",
       "        vertical-align: middle;\n",
       "    }\n",
       "\n",
       "    .dataframe tbody tr th {\n",
       "        vertical-align: top;\n",
       "    }\n",
       "\n",
       "    .dataframe thead th {\n",
       "        text-align: right;\n",
       "    }\n",
       "</style>\n",
       "<table border=\"1\" class=\"dataframe\">\n",
       "  <thead>\n",
       "    <tr style=\"text-align: right;\">\n",
       "      <th></th>\n",
       "      <th>age</th>\n",
       "      <th>sex</th>\n",
       "      <th>bmi</th>\n",
       "      <th>children</th>\n",
       "      <th>smoker</th>\n",
       "      <th>region</th>\n",
       "      <th>charges</th>\n",
       "    </tr>\n",
       "  </thead>\n",
       "  <tbody>\n",
       "    <tr>\n",
       "      <th>0</th>\n",
       "      <td>19</td>\n",
       "      <td>female</td>\n",
       "      <td>27.900</td>\n",
       "      <td>0</td>\n",
       "      <td>yes</td>\n",
       "      <td>southwest</td>\n",
       "      <td>16884.92400</td>\n",
       "    </tr>\n",
       "    <tr>\n",
       "      <th>1</th>\n",
       "      <td>18</td>\n",
       "      <td>male</td>\n",
       "      <td>33.770</td>\n",
       "      <td>1</td>\n",
       "      <td>no</td>\n",
       "      <td>southeast</td>\n",
       "      <td>1725.55230</td>\n",
       "    </tr>\n",
       "    <tr>\n",
       "      <th>2</th>\n",
       "      <td>28</td>\n",
       "      <td>male</td>\n",
       "      <td>33.000</td>\n",
       "      <td>3</td>\n",
       "      <td>no</td>\n",
       "      <td>southeast</td>\n",
       "      <td>4449.46200</td>\n",
       "    </tr>\n",
       "    <tr>\n",
       "      <th>3</th>\n",
       "      <td>33</td>\n",
       "      <td>male</td>\n",
       "      <td>22.705</td>\n",
       "      <td>0</td>\n",
       "      <td>no</td>\n",
       "      <td>northwest</td>\n",
       "      <td>21984.47061</td>\n",
       "    </tr>\n",
       "    <tr>\n",
       "      <th>4</th>\n",
       "      <td>32</td>\n",
       "      <td>male</td>\n",
       "      <td>28.880</td>\n",
       "      <td>0</td>\n",
       "      <td>no</td>\n",
       "      <td>northwest</td>\n",
       "      <td>3866.85520</td>\n",
       "    </tr>\n",
       "  </tbody>\n",
       "</table>\n",
       "</div>"
      ],
      "text/plain": [
       "   age     sex     bmi  children smoker     region      charges\n",
       "0   19  female  27.900         0    yes  southwest  16884.92400\n",
       "1   18    male  33.770         1     no  southeast   1725.55230\n",
       "2   28    male  33.000         3     no  southeast   4449.46200\n",
       "3   33    male  22.705         0     no  northwest  21984.47061\n",
       "4   32    male  28.880         0     no  northwest   3866.85520"
      ]
     },
     "execution_count": 2,
     "metadata": {},
     "output_type": "execute_result"
    }
   ],
   "source": [
    "df = pd.read_csv('./data/premium.csv')\n",
    "df.head(5)"
   ]
  },
  {
   "cell_type": "code",
   "execution_count": 3,
   "id": "481fc2e1",
   "metadata": {},
   "outputs": [
    {
     "data": {
      "text/plain": [
       "count     1338.000000\n",
       "mean     13270.422265\n",
       "std      12110.011237\n",
       "min       1121.873900\n",
       "25%       4740.287150\n",
       "50%       9382.033000\n",
       "75%      16639.912515\n",
       "max      63770.428010\n",
       "Name: charges, dtype: float64"
      ]
     },
     "execution_count": 3,
     "metadata": {},
     "output_type": "execute_result"
    }
   ],
   "source": [
    "df['charges'].describe()"
   ]
  },
  {
   "cell_type": "code",
   "execution_count": 4,
   "id": "3edb2d99",
   "metadata": {},
   "outputs": [
    {
     "name": "stdout",
     "output_type": "stream",
     "text": [
      "<class 'pandas.core.frame.DataFrame'>\n",
      "RangeIndex: 1338 entries, 0 to 1337\n",
      "Data columns (total 7 columns):\n",
      " #   Column    Non-Null Count  Dtype  \n",
      "---  ------    --------------  -----  \n",
      " 0   age       1338 non-null   int64  \n",
      " 1   sex       1338 non-null   object \n",
      " 2   bmi       1333 non-null   float64\n",
      " 3   children  1338 non-null   int64  \n",
      " 4   smoker    1338 non-null   object \n",
      " 5   region    1338 non-null   object \n",
      " 6   charges   1338 non-null   float64\n",
      "dtypes: float64(2), int64(2), object(3)\n",
      "memory usage: 73.3+ KB\n"
     ]
    }
   ],
   "source": [
    "df.info()"
   ]
  },
  {
   "cell_type": "code",
   "execution_count": 5,
   "id": "0125cb40",
   "metadata": {},
   "outputs": [],
   "source": [
    "# 결측치 대체하기\n",
    "df['bmi'] = df['bmi'].fillna(\n",
    "    df.groupby('sex')['bmi'].transform('mean')\n",
    ")"
   ]
  },
  {
   "cell_type": "code",
   "execution_count": 6,
   "id": "8bcc9ce0",
   "metadata": {},
   "outputs": [
    {
     "name": "stdout",
     "output_type": "stream",
     "text": [
      "<class 'pandas.core.frame.DataFrame'>\n",
      "RangeIndex: 1338 entries, 0 to 1337\n",
      "Data columns (total 7 columns):\n",
      " #   Column    Non-Null Count  Dtype  \n",
      "---  ------    --------------  -----  \n",
      " 0   age       1338 non-null   int64  \n",
      " 1   sex       1338 non-null   object \n",
      " 2   bmi       1338 non-null   float64\n",
      " 3   children  1338 non-null   int64  \n",
      " 4   smoker    1338 non-null   object \n",
      " 5   region    1338 non-null   object \n",
      " 6   charges   1338 non-null   float64\n",
      "dtypes: float64(2), int64(2), object(3)\n",
      "memory usage: 73.3+ KB\n"
     ]
    }
   ],
   "source": [
    "df.info()"
   ]
  },
  {
   "cell_type": "code",
   "execution_count": 7,
   "id": "872126b2",
   "metadata": {},
   "outputs": [],
   "source": [
    "# 데이터 분리하기\n",
    "X1 = df.drop(columns = 'charges')\n",
    "y = df['charges']"
   ]
  },
  {
   "cell_type": "code",
   "execution_count": 8,
   "id": "034f43af",
   "metadata": {},
   "outputs": [],
   "source": [
    "# 데이터 전처리\n",
    "from sklearn.preprocessing import LabelEncoder\n",
    "scaler = LabelEncoder()\n",
    "X1['sex_scaler'] = scaler.fit_transform(X1['sex'])\n",
    "X1['smoker_scaler'] = scaler.fit_transform(X1['smoker'])\n",
    "X1['region_scaler'] = scaler.fit_transform(X1['region'])"
   ]
  },
  {
   "cell_type": "code",
   "execution_count": 9,
   "id": "784c5c41",
   "metadata": {},
   "outputs": [],
   "source": [
    "X = X1.drop(columns=['sex','region','smoker'])"
   ]
  },
  {
   "cell_type": "code",
   "execution_count": 10,
   "id": "32ef2edb",
   "metadata": {},
   "outputs": [
    {
     "data": {
      "text/plain": [
       "region_scaler\n",
       "2    364\n",
       "3    325\n",
       "1    325\n",
       "0    324\n",
       "Name: count, dtype: int64"
      ]
     },
     "execution_count": 10,
     "metadata": {},
     "output_type": "execute_result"
    }
   ],
   "source": [
    "X['region_scaler'].value_counts()"
   ]
  },
  {
   "cell_type": "code",
   "execution_count": 11,
   "id": "9ab02e2b",
   "metadata": {},
   "outputs": [],
   "source": [
    "# 데이터 분할하기\n",
    "from sklearn.model_selection import train_test_split\n",
    "X_train, X_test, y_train, y_test = train_test_split(X,y,test_size = 0.3\n",
    "                                                    ,random_state=42)"
   ]
  },
  {
   "cell_type": "code",
   "execution_count": 12,
   "id": "ca452180",
   "metadata": {},
   "outputs": [
    {
     "name": "stdout",
     "output_type": "stream",
     "text": [
      "5813.161660256295 33792848.48827373\n",
      "37013814.60147809\n"
     ]
    }
   ],
   "source": [
    "from sklearn.linear_model import LinearRegression\n",
    "lr = LinearRegression()\n",
    "lr.fit(X_train, y_train)\n",
    "pred = lr.predict(X_test)\n",
    "\n",
    "from sklearn.metrics import mean_squared_error,r2_score\n",
    "import numpy as np\n",
    "\n",
    "# 평가\n",
    "mse = mean_squared_error(y_test, pred)\n",
    "rmse = np.sqrt(mse) # 실제 오차의 크기\n",
    "print(rmse, mse)\n",
    "\n",
    "from sklearn.model_selection import cross_val_score # 교차검증\n",
    "neg_mse_scores = cross_val_score(lr, X, y, scoring='neg_mean_squared_error', cv=5)\n",
    "print(-neg_mse_scores.mean())"
   ]
  },
  {
   "cell_type": "code",
   "execution_count": 13,
   "id": "c65b7b24",
   "metadata": {},
   "outputs": [
    {
     "name": "stdout",
     "output_type": "stream",
     "text": [
      "4605.579680861358 21211364.196763\n",
      "24452986.23224957\n"
     ]
    }
   ],
   "source": [
    "from sklearn.ensemble import RandomForestRegressor\n",
    "Forest = RandomForestRegressor()\n",
    "Forest.fit(X_train, y_train)\n",
    "y_pred  = Forest.predict(X_test)\n",
    "\n",
    "from sklearn.metrics import mean_squared_error\n",
    "Forest_mse = mean_squared_error(y_test, y_pred)\n",
    "Forest_rmse = np.sqrt(Forest_mse)\n",
    "print(Forest_rmse,Forest_mse)\n",
    "\n",
    "from sklearn.model_selection import cross_val_score # 교차검증\n",
    "neg_mse_scores = cross_val_score(Forest, X, y, scoring='neg_mean_squared_error', cv=5)\n",
    "print(-neg_mse_scores.mean())"
   ]
  },
  {
   "cell_type": "code",
   "execution_count": 14,
   "id": "e0ff3fe6",
   "metadata": {},
   "outputs": [
    {
     "data": {
      "text/plain": [
       "(array([0.7596674 , 0.70737562, 0.77529175, 0.73351251, 0.75524776]),\n",
       " np.float64(0.7462190093290715))"
      ]
     },
     "execution_count": 14,
     "metadata": {},
     "output_type": "execute_result"
    }
   ],
   "source": [
    "# R2: 분산기반의 예측성능, 1에 가까울수록 예측 정확도가 높다.(결정게수)\n",
    "r2_score = cross_val_score(lr, X,y, scoring = 'r2',cv = 5)\n",
    "r2_score , np.mean(r2_score)"
   ]
  },
  {
   "cell_type": "code",
   "execution_count": 15,
   "id": "cf3a7f8c",
   "metadata": {},
   "outputs": [
    {
     "data": {
      "text/plain": [
       "(array([0.84815306, 0.77211988, 0.85651434, 0.83251564, 0.847426  ]),\n",
       " np.float64(0.8313457825033055))"
      ]
     },
     "execution_count": 15,
     "metadata": {},
     "output_type": "execute_result"
    }
   ],
   "source": [
    "# R2: 분산기반의 예측성능, 1에 가까울수록 예측 정확도가 높다.(결정게수)\n",
    "r2_score = cross_val_score(Forest, X,y, scoring = 'r2',cv = 5)\n",
    "r2_score , np.mean(r2_score)"
   ]
  },
  {
   "cell_type": "code",
   "execution_count": 16,
   "id": "21abbad2",
   "metadata": {},
   "outputs": [
    {
     "data": {
      "text/html": [
       "<div>\n",
       "<style scoped>\n",
       "    .dataframe tbody tr th:only-of-type {\n",
       "        vertical-align: middle;\n",
       "    }\n",
       "\n",
       "    .dataframe tbody tr th {\n",
       "        vertical-align: top;\n",
       "    }\n",
       "\n",
       "    .dataframe thead th {\n",
       "        text-align: right;\n",
       "    }\n",
       "</style>\n",
       "<table border=\"1\" class=\"dataframe\">\n",
       "  <thead>\n",
       "    <tr style=\"text-align: right;\">\n",
       "      <th></th>\n",
       "      <th>degree</th>\n",
       "      <th>MSE</th>\n",
       "      <th>RMSE</th>\n",
       "      <th>r2</th>\n",
       "    </tr>\n",
       "  </thead>\n",
       "  <tbody>\n",
       "    <tr>\n",
       "      <th>0</th>\n",
       "      <td>1</td>\n",
       "      <td>3.379285e+07</td>\n",
       "      <td>5813.161660</td>\n",
       "      <td>0.769528</td>\n",
       "    </tr>\n",
       "    <tr>\n",
       "      <th>1</th>\n",
       "      <td>2</td>\n",
       "      <td>2.017370e+07</td>\n",
       "      <td>4491.513766</td>\n",
       "      <td>0.862412</td>\n",
       "    </tr>\n",
       "    <tr>\n",
       "      <th>2</th>\n",
       "      <td>3</td>\n",
       "      <td>2.129430e+07</td>\n",
       "      <td>4614.575082</td>\n",
       "      <td>0.854770</td>\n",
       "    </tr>\n",
       "    <tr>\n",
       "      <th>3</th>\n",
       "      <td>4</td>\n",
       "      <td>3.237737e+07</td>\n",
       "      <td>5690.111448</td>\n",
       "      <td>0.779181</td>\n",
       "    </tr>\n",
       "  </tbody>\n",
       "</table>\n",
       "</div>"
      ],
      "text/plain": [
       "   degree           MSE         RMSE        r2\n",
       "0       1  3.379285e+07  5813.161660  0.769528\n",
       "1       2  2.017370e+07  4491.513766  0.862412\n",
       "2       3  2.129430e+07  4614.575082  0.854770\n",
       "3       4  3.237737e+07  5690.111448  0.779181"
      ]
     },
     "execution_count": 16,
     "metadata": {},
     "output_type": "execute_result"
    }
   ],
   "source": [
    "from sklearn.pipeline import Pipeline\n",
    "from sklearn.preprocessing import PolynomialFeatures\n",
    "from sklearn.model_selection import train_test_split\n",
    "from sklearn.metrics import r2_score\n",
    "\n",
    "results = []\n",
    "\n",
    "for  degree in range(1,5):\n",
    "    model_poly = Pipeline([\n",
    "        (\"poly\", PolynomialFeatures(degree = degree, include_bias=False)),\n",
    "        # poly: 기존 입력 데이터를 다항식 형태로 확장해주는 전처리 도구\n",
    "        (\"linear\", LinearRegression())\n",
    "    ])\n",
    "\n",
    "    model_poly.fit(X_train, y_train)\n",
    "    pred_poly = model_poly.predict(X_test)\n",
    "    mse = mean_squared_error(y_test,pred_poly)\n",
    "    rmse = np.sqrt(mse)\n",
    "    r2 = r2_score(y_test, pred_poly)\n",
    "    \n",
    "    results.append({'degree':degree,\n",
    "                'MSE':mse,\n",
    "                'RMSE':rmse,\n",
    "                'r2':r2})\n",
    "pd.DataFrame(results)"
   ]
  },
  {
   "attachments": {
    "image-2.png": {
     "image/png": "[encoded data removed]"
    },
    "image.png": {
     "image/png": "[encoded data removed]"
    }
   },
   "cell_type": "markdown",
   "id": "0cdff18d",
   "metadata": {},
   "source": [
    "💡 수학과 머신러닝의 다른 점\n",
    "\n",
    "의문. 현재 위의 모델의 차수가 늘어난 상태(비선형) 근데 선형모델인 Linear를 쓴 이유?\n",
    "\n",
    "1️⃣ 수학적으로는\n",
    "다항회귀 함수는 \n",
    "![image.png](attachment:image.png)\n",
    "x에 대해 비선형 함수(곡선) 맞아요.\n",
    "\n",
    "2️⃣ 머신러닝 관점에서는\n",
    "모델 파라미터인 가중치 ![image-2.png](attachment:image-2.png) 들에 대해서는 선형 결합 구조이기 때문에\n",
    "\n",
    "‘선형 모델’ 범주에 포함합니다.\n",
    "\n",
    "3️⃣ 그래서\n",
    "다항회귀는 입력 변수 기준으로는 비선형 함수\n",
    "\n",
    "하지만 가중치 기준으로는 선형 모델\n",
    "\n",
    "따라서, ‘곡선 형태’이면서 ‘선형 모델’입니다!\n",
    "\n",
    "즉, 다항회귀는 수학적으로 비선형 곡선이 맞고, 머신러닝에서도 비선형 곡선이 맞으나 가중치를 기준으로 선형이라 선형 모델 범주에 포함된다."
   ]
  },
  {
   "cell_type": "code",
   "execution_count": 17,
   "id": "b158bba6",
   "metadata": {},
   "outputs": [
    {
     "name": "stdout",
     "output_type": "stream",
     "text": [
      "39661505.72502192\n",
      "0.7295025204575183\n"
     ]
    }
   ],
   "source": [
    "from sklearn.linear_model import Ridge, Lasso, ElasticNet\n",
    "ridge = Ridge(alpha= 1.0)\n",
    "ridge.fit(X_train, y_train)\n",
    "pred_ridge = ridge.predict(X_test)\n",
    "\n",
    "from sklearn.metrics import mean_squared_error, r2_score\n",
    "mse = mean_squared_error(y_test, pred_ridge)\n",
    "r2  = r2_score(y_test, pred_ridge)\n",
    "mse, r2\n",
    "\n",
    "ridge = Lasso(alpha= 1.0)\n",
    "ridge.fit(X_train, y_train)\n",
    "pred_lasso = ridge.predict(X_test)\n",
    "\n",
    "from sklearn.metrics import mean_squared_error, r2_score\n",
    "mse = mean_squared_error(y_test, pred_ridge)\n",
    "r2  = r2_score(y_test, pred_ridge)\n",
    "mse, r2\n",
    "\n",
    "enet = ElasticNet(alpha= 0.1, l1_ratio= 0.5)\n",
    "enet.fit(X_train, y_train)\n",
    "\n",
    "enet_pred = enet.predict(X_test)\n",
    "print(mean_squared_error(y_test, enet_pred))\n",
    "print(r2_score(y_test, enet_pred))\n"
   ]
  },
  {
   "cell_type": "code",
   "execution_count": 18,
   "id": "15e999e1",
   "metadata": {},
   "outputs": [
    {
     "data": {
      "text/html": [
       "<div>\n",
       "<style scoped>\n",
       "    .dataframe tbody tr th:only-of-type {\n",
       "        vertical-align: middle;\n",
       "    }\n",
       "\n",
       "    .dataframe tbody tr th {\n",
       "        vertical-align: top;\n",
       "    }\n",
       "\n",
       "    .dataframe thead th {\n",
       "        text-align: right;\n",
       "    }\n",
       "</style>\n",
       "<table border=\"1\" class=\"dataframe\">\n",
       "  <thead>\n",
       "    <tr style=\"text-align: right;\">\n",
       "      <th></th>\n",
       "      <th>모델</th>\n",
       "      <th>MSE</th>\n",
       "      <th>R2</th>\n",
       "    </tr>\n",
       "  </thead>\n",
       "  <tbody>\n",
       "    <tr>\n",
       "      <th>0</th>\n",
       "      <td>다항회귀</td>\n",
       "      <td>3.237737e+07</td>\n",
       "      <td>0.779181</td>\n",
       "    </tr>\n",
       "    <tr>\n",
       "      <th>1</th>\n",
       "      <td>릿지회귀</td>\n",
       "      <td>3.382653e+07</td>\n",
       "      <td>0.769298</td>\n",
       "    </tr>\n",
       "    <tr>\n",
       "      <th>2</th>\n",
       "      <td>라쏘회귀</td>\n",
       "      <td>3.379292e+07</td>\n",
       "      <td>0.769527</td>\n",
       "    </tr>\n",
       "    <tr>\n",
       "      <th>3</th>\n",
       "      <td>엘라스틱넷회귀</td>\n",
       "      <td>3.966151e+07</td>\n",
       "      <td>0.729503</td>\n",
       "    </tr>\n",
       "  </tbody>\n",
       "</table>\n",
       "</div>"
      ],
      "text/plain": [
       "        모델           MSE        R2\n",
       "0     다항회귀  3.237737e+07  0.779181\n",
       "1     릿지회귀  3.382653e+07  0.769298\n",
       "2     라쏘회귀  3.379292e+07  0.769527\n",
       "3  엘라스틱넷회귀  3.966151e+07  0.729503"
      ]
     },
     "execution_count": 18,
     "metadata": {},
     "output_type": "execute_result"
    }
   ],
   "source": [
    "results = pd.DataFrame({\n",
    "    '모델': ['다항회귀', '릿지회귀', '라쏘회귀', '엘라스틱넷회귀'],\n",
    "    'MSE': [mean_squared_error(y_test, pred_poly),\n",
    "            mean_squared_error(y_test, pred_ridge),\n",
    "            mean_squared_error(y_test, pred_lasso),\n",
    "            mean_squared_error(y_test, enet_pred)\n",
    "    ],\n",
    "    'R2': [r2_score(y_test, pred_poly),\n",
    "           r2_score(y_test, pred_ridge),\n",
    "           r2_score(y_test, pred_lasso),\n",
    "           r2_score(y_test, enet_pred),]\n",
    "})\n",
    "\n",
    "results"
   ]
  }
 ],
 "metadata": {
  "kernelspec": {
   "display_name": "hi_ml_env",
   "language": "python",
   "name": "python3"
  },
  "language_info": {
   "codemirror_mode": {
    "name": "ipython",
    "version": 3
   },
   "file_extension": ".py",
   "mimetype": "text/x-python",
   "name": "python",
   "nbconvert_exporter": "python",
   "pygments_lexer": "ipython3",
   "version": "3.10.16"
  }
 },
 "nbformat": 4,
 "nbformat_minor": 5
}
