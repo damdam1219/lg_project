{
 "cells": [
  {
   "cell_type": "markdown",
   "id": "af3bf497",
   "metadata": {},
   "source": [
    "## 순위에 있는 책제목 꺼내기\n",
    "주소: https://www.yes24.com/product/category/bestseller?categoryNumber=001&pageNumber=1&pageSize=24"
   ]
  },
  {
   "cell_type": "code",
   "execution_count": 31,
   "id": "dacec92e",
   "metadata": {},
   "outputs": [],
   "source": [
    "class Book:\n",
    "    def __init__(self, rank, title, author, price):\n",
    "        self.rank = rank          # title_rank → rank 로 통일\n",
    "        self.title = title\n",
    "        self.author = author\n",
    "        self.price = price\n",
    "\n",
    "    def __str__(self):\n",
    "        return f\"{self.rank}, {self.title}, {self.author}, {self.price}\"\n",
    "    \n",
    "    def to_dict(self):\n",
    "        return {'rank': self.rank, \n",
    "                'title': self.title, \n",
    "                'author': self.author, \n",
    "                'price': self.price}\n",
    "    \n",
    "    def to_list(self):\n",
    "        return [self.rank, \n",
    "                self.title, \n",
    "                self.author, \n",
    "                self.price]"
   ]
  },
  {
   "attachments": {
    "image.png": {
     "image/png": "[encoded data removed]"
    }
   },
   "cell_type": "markdown",
   "id": "2afd03a5",
   "metadata": {},
   "source": [
    "![image.png](attachment:image.png)"
   ]
  },
  {
   "cell_type": "markdown",
   "id": "d290c917",
   "metadata": {},
   "source": [
    "#yesBestList > li:nth-child(1) > div > div.item_info"
   ]
  },
  {
   "cell_type": "code",
   "execution_count": 2,
   "id": "9834e823",
   "metadata": {},
   "outputs": [
    {
     "data": {
      "text/plain": [
       "24"
      ]
     },
     "execution_count": 2,
     "metadata": {},
     "output_type": "execute_result"
    }
   ],
   "source": [
    "import requests\n",
    "from bs4 import BeautifulSoup\n",
    "\n",
    "url = 'https://www.yes24.com/product/category/bestseller?categoryNumber=001&pageNumber=1&pageSize=24' \n",
    "res = requests.get(url)\n",
    "soup = BeautifulSoup(res.content, 'html.parser')\n",
    "best_element = soup.select('#yesBestList div.item_info')\n",
    "len(best_element)"
   ]
  },
  {
   "cell_type": "code",
   "execution_count": 3,
   "id": "8c5a2d2a",
   "metadata": {},
   "outputs": [
    {
     "name": "stdout",
     "output_type": "stream",
     "text": [
      "1, 혼모노, 성해나, 16,200원\n",
      "2, 류수영의 평생 레시피, 류수영, 22,500원\n",
      "3, 가공범, 히가시노 게이고, 19,800원\n",
      "4, 돌비공포라디오 더 레드, 돌비, 17,820원\n",
      "5, 2025 큰별쌤 최태성의 별별한국사 기출 500제 한국사능력검정시험 심화(1,2,3급), 최태성, 17,550원\n",
      "6, 료의 생각 없는 생각, 료, 18,000원\n",
      "7, 박곰희 연금 부자 수업, 박곰희, 18,900원\n",
      "8, 2025 큰별쌤 최태성의 별별한국사 한국사능력검정시험 심화(1,2,3급) 상, 최태성, 14,850원\n",
      "9, 단 한 줄만 내 마음에 새긴다고 해도, 나민애, 21,420원\n",
      "10, 자몽살구클럽, 한로로, 10,800원\n",
      "11, ETS 토익 정기시험 기출문제집 1000 Vol. 4 RC, ETS, 17,820원\n",
      "12, 2025 큰별쌤 최태성의 별별한국사 한국사능력검정시험 심화(1,2,3급) 하, 최태성, 14,400원\n",
      "13, ETS 토익 정기시험 기출문제집 1000 Vol. 4 LC, ETS, 17,820원\n",
      "14, 안녕이라 그랬어, 김애란, 15,120원\n",
      "15, 다크 심리학, 다크 사이드 프로젝트, 19,710원\n",
      "16, 모순, 양귀자, 11,700원\n",
      "17, 편안함의 습격, 마이클 이스터, 19,800원\n",
      "18, 어른의 행복은 조용하다, 태수, 16,020원\n",
      "19, 견우와 선녀 대본집 세트, 양지훈, 41,400원\n",
      "20, 청춘의 독서, 유시민, 17,010원\n",
      "21, 야구선수 김원중, 김원중, 18,000원\n",
      "22, 소년이 온다, 한강, 13,500원\n",
      "23, 첫 여름, 완주, 김금희, 15,300원\n",
      "24, 경험의 멸종, 크리스틴 로젠, 17,820원\n"
     ]
    }
   ],
   "source": [
    "# 도서 목록을 저장할 리스트를 선언\n",
    "book_list = []\n",
    "# 각 리스트에 요소를 찾아서 추가(append)\n",
    "for i, item in enumerate(best_element):\n",
    "    title = item.select_one(\"div.info_name > a\").text\n",
    "    author = item.select_one(\".info_auth > a\").text\n",
    "    price = item.select_one(\".info_price > .txt_num\").text\n",
    "    book_list.append(Book(i+1, title, author, price))\n",
    "    \n",
    "# 화면에 출력하기\n",
    "for book in book_list:\n",
    "    print(book)"
   ]
  },
  {
   "cell_type": "code",
   "execution_count": 4,
   "id": "38579909",
   "metadata": {},
   "outputs": [],
   "source": [
    "import sqlite3\n",
    "con = sqlite3.connect('my_databace.DB')"
   ]
  },
  {
   "cell_type": "code",
   "execution_count": 5,
   "id": "8e1c92c3",
   "metadata": {},
   "outputs": [],
   "source": [
    "query = \"\"\"\n",
    "CREATE TABLE IF NOT EXISTS BOOKS (\n",
    "    RANK INTEGER PRIMARY KEY AUTOINCREMENT,\n",
    "    TITLE TEXT,\n",
    "    AUTHOR TEXT,\n",
    "    PRICE INTEGER\n",
    ")\n",
    "\"\"\"\n",
    "cur = con.cursor()\n",
    "cur.execute(query)\n",
    "con.commit()\n",
    "con.close()"
   ]
  },
  {
   "cell_type": "code",
   "execution_count": 6,
   "id": "6f35be94",
   "metadata": {},
   "outputs": [
    {
     "data": {
      "text/plain": [
       "<sqlite3.Cursor at 0x18e2d654240>"
      ]
     },
     "execution_count": 6,
     "metadata": {},
     "output_type": "execute_result"
    }
   ],
   "source": [
    "con = sqlite3.connect('my_databace.DB')\n",
    "cur = con.cursor()\n",
    "cur.execute(query)"
   ]
  },
  {
   "cell_type": "code",
   "execution_count": 7,
   "id": "c925e8a7",
   "metadata": {},
   "outputs": [],
   "source": [
    "ins_query = ''' \n",
    "INSERT INTO books (rank, title, author, price) VALUES(?,?,?,?)'''\n",
    "\n",
    "for book in book_list:\n",
    "    cur.execute(ins_query, book.to_list())\n",
    "\n",
    "con.commit()\n",
    "con.close()\n",
    "    "
   ]
  },
  {
   "cell_type": "markdown",
   "id": "11041a3c",
   "metadata": {},
   "source": [
    "### 여러 페이지 가지고오기"
   ]
  },
  {
   "cell_type": "code",
   "execution_count": 8,
   "id": "7e9a27fc",
   "metadata": {},
   "outputs": [
    {
     "data": {
      "text/plain": [
       "72"
      ]
     },
     "execution_count": 8,
     "metadata": {},
     "output_type": "execute_result"
    }
   ],
   "source": [
    "base_url = 'https://www.yes24.com/product/category/bestseller?categoryNumber=001&pageSize=24&pageNumber='\n",
    "page_no = 3\n",
    "book_list = []\n",
    "for page in range(1,page_no+1):\n",
    "  #페이지 연결\n",
    "  url = f'{base_url}{page}'\n",
    "  res = requests.get(url)\n",
    "  soup = BeautifulSoup(res.content, 'html.parser')\n",
    "  best_list_el = soup.select('#yesBestList div.item_info')\n",
    "  #요소 추출\n",
    "  for i, item in enumerate(best_list_el):\n",
    "    title = item.select_one('div.info_name > a').text\n",
    "    author = item.select_one('.info_auth > a').text\n",
    "    price = item.select_one('div.info_price .txt_num').text\n",
    "    book_list.append(Book(i+1,title, author, price))\n",
    "    \n",
    "  #len(best_list_el)\n",
    "  #print (url)\n",
    "len(book_list)"
   ]
  },
  {
   "cell_type": "code",
   "execution_count": 41,
   "id": "bd9e6fa7",
   "metadata": {},
   "outputs": [
    {
     "name": "stdout",
     "output_type": "stream",
     "text": [
      "1, 혼모노, 성해나, 16,200원\n"
     ]
    }
   ],
   "source": [
    "print(book_list[0])"
   ]
  },
  {
   "cell_type": "markdown",
   "id": "83565035",
   "metadata": {},
   "source": [
    "### SQL에 데이터 연결하기"
   ]
  },
  {
   "cell_type": "markdown",
   "id": "a721306a",
   "metadata": {},
   "source": [
    "1. 웹 스크래핑 준비(라이브러리)"
   ]
  },
  {
   "cell_type": "code",
   "execution_count": 42,
   "id": "508fe831",
   "metadata": {},
   "outputs": [
    {
     "name": "stdout",
     "output_type": "stream",
     "text": [
      "Requirement already satisfied: requests in c:\\users\\admin\\miniconda3\\envs\\webcrawl_env\\lib\\site-packages (2.32.4)\n",
      "Requirement already satisfied: beautifulsoup4 in c:\\users\\admin\\miniconda3\\envs\\webcrawl_env\\lib\\site-packages (4.13.4)\n",
      "Requirement already satisfied: pymysql in c:\\users\\admin\\miniconda3\\envs\\webcrawl_env\\lib\\site-packages (1.1.1)\n",
      "Requirement already satisfied: charset_normalizer<4,>=2 in c:\\users\\admin\\miniconda3\\envs\\webcrawl_env\\lib\\site-packages (from requests) (3.4.2)\n",
      "Requirement already satisfied: idna<4,>=2.5 in c:\\users\\admin\\miniconda3\\envs\\webcrawl_env\\lib\\site-packages (from requests) (3.10)\n",
      "Requirement already satisfied: urllib3<3,>=1.21.1 in c:\\users\\admin\\miniconda3\\envs\\webcrawl_env\\lib\\site-packages (from requests) (2.5.0)\n",
      "Requirement already satisfied: certifi>=2017.4.17 in c:\\users\\admin\\miniconda3\\envs\\webcrawl_env\\lib\\site-packages (from requests) (2025.7.14)\n",
      "Requirement already satisfied: soupsieve>1.2 in c:\\users\\admin\\miniconda3\\envs\\webcrawl_env\\lib\\site-packages (from beautifulsoup4) (2.7)\n",
      "Requirement already satisfied: typing-extensions>=4.0.0 in c:\\users\\admin\\miniconda3\\envs\\webcrawl_env\\lib\\site-packages (from beautifulsoup4) (4.14.1)\n",
      "Note: you may need to restart the kernel to use updated packages.\n"
     ]
    }
   ],
   "source": [
    "pip install requests beautifulsoup4 pymysql\n"
   ]
  },
  {
   "cell_type": "markdown",
   "id": "d1e54181",
   "metadata": {},
   "source": [
    "2. 웹 페이지 요청 및 HTML 파싱"
   ]
  },
  {
   "cell_type": "code",
   "execution_count": null,
   "id": "85fc3b7f",
   "metadata": {},
   "outputs": [],
   "source": [
    "# 웹 페이지 요청\n",
    "base_url = 'https://www.yes24.com/product/category/bestseller?categoryNumber=001&pageSize=24&pageNumber='\n",
    "page_no = 3\n",
    "book_list = []\n",
    "\n",
    "for page in range(1,page_no+1):\n",
    "  #페이지 연결\n",
    "  url = f'{base_url}{page}'\n",
    "  res = requests.get(url)\n",
    "  soup = BeautifulSoup(res.content, 'html.parser')\n",
    "  best_list_el = soup.select('#yesBestList div.item_info')\n",
    "  \n",
    "  #요소 추출(파싱하기)\n",
    "  for i, item in enumerate(best_list_el):\n",
    "    title = item.select_one('div.info_name > a').text\n",
    "    author = item.select_one('.info_auth > a').text\n",
    "    price = item.select_one('div.info_price .txt_num').text\n",
    "    book_list.append(Book(i+1,title, author, price))"
   ]
  },
  {
   "cell_type": "markdown",
   "id": "25e367ae",
   "metadata": {},
   "source": [
    "3. pymysql로 연결(로컬 sql연결하기)"
   ]
  },
  {
   "cell_type": "code",
   "execution_count": null,
   "id": "ee18f880",
   "metadata": {},
   "outputs": [],
   "source": [
    "import pymysql\n",
    "\n",
    "conn = pymysql.connect(\n",
    "    host='localhost',\n",
    "    user='root',\n",
    "    password='1234',\n",
    "    db='books', # 데이터베이스 이름은 sql에서 먼저 생성해줘야함(CREATE DATABASE BOOKS;)\n",
    "    charset='utf8mb4'\n",
    ")\n",
    "cur = conn.cursor()"
   ]
  },
  {
   "cell_type": "markdown",
   "id": "f4840d5d",
   "metadata": {},
   "source": [
    "4. 파이썬에서 테이블만들기"
   ]
  },
  {
   "cell_type": "code",
   "execution_count": 53,
   "id": "82d75085",
   "metadata": {},
   "outputs": [],
   "source": [
    "create_table_sql = \"\"\"\n",
    "CREATE TABLE IF NOT EXISTS scraped_books (\n",
    "    id INT PRIMARY KEY AUTO_INCREMENT,\n",
    "    `rank` INT,\n",
    "    title VARCHAR(255),\n",
    "    author VARCHAR(255),\n",
    "    price VARCHAR(50)\n",
    ") CHARACTER SET utf8mb4 COLLATE utf8mb4_unicode_ci;\n",
    "\"\"\""
   ]
  },
  {
   "cell_type": "markdown",
   "id": "a6750588",
   "metadata": {},
   "source": [
    "5. cursor로 데이터베이스의 테이블 생성하기"
   ]
  },
  {
   "cell_type": "code",
   "execution_count": 54,
   "id": "76d9eda0",
   "metadata": {},
   "outputs": [],
   "source": [
    "\n",
    "cur.execute(create_table_sql)\n",
    "conn.commit()"
   ]
  },
  {
   "cell_type": "markdown",
   "id": "48e6b899",
   "metadata": {},
   "source": [
    "6. INSERT SQL만들기"
   ]
  },
  {
   "cell_type": "code",
   "execution_count": 55,
   "id": "857ab6c7",
   "metadata": {},
   "outputs": [],
   "source": [
    "insert_sql = \"\"\"\n",
    "INSERT INTO scraped_books (`rank`, title, author, price)\n",
    "VALUES (%s, %s, %s, %s)\n",
    "\"\"\""
   ]
  },
  {
   "cell_type": "markdown",
   "id": "c265d11b",
   "metadata": {},
   "source": [
    "7. SQL 쿼리에 내 데이터 집어 넣기"
   ]
  },
  {
   "cell_type": "code",
   "execution_count": 56,
   "id": "9ee2dc5e",
   "metadata": {},
   "outputs": [],
   "source": [
    "\n",
    "for book in book_list:\n",
    "    cur.execute(insert_sql, (\n",
    "        book.rank,\n",
    "        book.title.strip(),\n",
    "        book.author.strip(),\n",
    "        book.price.strip()\n",
    "    ))"
   ]
  },
  {
   "cell_type": "markdown",
   "id": "ff8a3442",
   "metadata": {},
   "source": [
    "8. 커밋(저장확정)하고 통로(cursor), DB 연결 닫기"
   ]
  },
  {
   "cell_type": "code",
   "execution_count": 57,
   "id": "d8c6e9d1",
   "metadata": {},
   "outputs": [],
   "source": [
    "conn.commit()\n",
    "cur.close()\n",
    "conn.close()"
   ]
  }
 ],
 "metadata": {
  "kernelspec": {
   "display_name": "webcrawl_env",
   "language": "python",
   "name": "python3"
  },
  "language_info": {
   "codemirror_mode": {
    "name": "ipython",
    "version": 3
   },
   "file_extension": ".py",
   "mimetype": "text/x-python",
   "name": "python",
   "nbconvert_exporter": "python",
   "pygments_lexer": "ipython3",
   "version": "3.10.18"
  }
 },
 "nbformat": 4,
 "nbformat_minor": 5
}
