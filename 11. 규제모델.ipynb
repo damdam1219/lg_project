{
 "cells": [
  {
   "cell_type": "markdown",
   "id": "da4d5be4",
   "metadata": {},
   "source": [
    "# 규제회귀모델"
   ]
  },
  {
   "cell_type": "markdown",
   "id": "9fee9d9a",
   "metadata": {},
   "source": [
    "기본아이디어💡: 선형 회귀는 모든 피처(독립변수)에 대해 가중치(계수)를 학습해서 예측\n",
    "\n",
    "            하지만 피처가 너무 많거나 상관관계가 높으면 과적합이 발생\n",
    "\n",
    "            규제는 가중치 값이 너무 커지지 않도록 별점을 줘서 과적합을 방지\n",
    "\n",
    "- 릿지: L2규제 사용, 비용함수에 가중치를 제곱합을 더해 패널티를 줌\n",
    "- 라쏘: L1규제 사용, 비용함수에 가중치의 절댓값 합을 더해 패널티를 줌\n",
    "- 엘라스틱넷: 릿지와 라쏘를 섞어서 쓰는 방법"
   ]
  },
  {
   "cell_type": "code",
   "execution_count": 1,
   "id": "1369da59",
   "metadata": {},
   "outputs": [],
   "source": [
    "from sklearn.linear_model import Ridge, Lasso, ElasticNet"
   ]
  },
  {
   "cell_type": "code",
   "execution_count": 2,
   "id": "54be43f2",
   "metadata": {},
   "outputs": [],
   "source": [
    "import pandas as pd\n",
    "from sklearn.model_selection import train_test_split\n",
    "\n",
    "boston_df = pd.read_csv('./data/boston.csv')\n",
    "X = boston_df.drop(columns='target')\n",
    "y = boston_df['target']\n",
    "\n",
    "X_train, X_test, y_train, y_test = train_test_split(X,y,test_size=0.3,random_state=156)"
   ]
  },
  {
   "cell_type": "code",
   "execution_count": 18,
   "id": "099227f7",
   "metadata": {},
   "outputs": [
    {
     "data": {
      "text/plain": [
       "(np.float64(17.206833316177086), np.float64(0.758490701135722))"
      ]
     },
     "execution_count": 18,
     "metadata": {},
     "output_type": "execute_result"
    }
   ],
   "source": [
    "ridge = Ridge(alpha= 1.0)\n",
    "ridge.fit(X_train, y_train)\n",
    "pred_ridge = ridge.predict(X_test)\n",
    "\n",
    "from sklearn.metrics import mean_squared_error, r2_score\n",
    "mse = mean_squared_error(y_test, pred_ridge)\n",
    "r2  = r2_score(y_test, pred_ridge)\n",
    "mse, r2"
   ]
  },
  {
   "cell_type": "code",
   "execution_count": 17,
   "id": "07abe210",
   "metadata": {},
   "outputs": [
    {
     "data": {
      "text/plain": [
       "(np.float64(22.137098759778436), np.float64(0.68929116112626))"
      ]
     },
     "execution_count": 17,
     "metadata": {},
     "output_type": "execute_result"
    }
   ],
   "source": [
    "ridge = Lasso(alpha= 1.0)\n",
    "ridge.fit(X_train, y_train)\n",
    "pred_lasso = ridge.predict(X_test)\n",
    "\n",
    "from sklearn.metrics import mean_squared_error, r2_score\n",
    "mse = mean_squared_error(y_test, pred_ridge)\n",
    "r2  = r2_score(y_test, pred_ridge)\n",
    "mse, r2"
   ]
  },
  {
   "cell_type": "markdown",
   "id": "fafa0f57",
   "metadata": {},
   "source": [
    "MSE: 예측값과 실제값의 차이를 제곱해서 평균을 낸 값, 즉 오차의 크기를 나타낸다.\n",
    "\n",
    "R2: 예측모델이 실제 데이터를 얼마나 잘 설명하는 지를 나타내는 값, 1에 가까울수록 좋음\n",
    "\n",
    "이 둘은 반비례 관게를 가지고 있음"
   ]
  },
  {
   "cell_type": "markdown",
   "id": "97666271",
   "metadata": {},
   "source": [
    "다항회귀모델"
   ]
  },
  {
   "cell_type": "code",
   "execution_count": 5,
   "id": "54d4b8b4",
   "metadata": {},
   "outputs": [
    {
     "name": "stdout",
     "output_type": "stream",
     "text": [
      "17.296260101779946 0.7572355369870505\n"
     ]
    }
   ],
   "source": [
    "from sklearn.linear_model import RidgeCV, LassoCV\n",
    "alphas = [0.001,0.01,0.1,1,10,100]\n",
    "ridge_cv = RidgeCV(alphas= alphas, cv = 5)\n",
    "ridge_cv.fit(X_train, y_train)\n",
    "ridge_preds = ridge_cv.predict(X_test)\n",
    "\n",
    "from sklearn.metrics import mean_squared_error, r2_score\n",
    "ridge_mse = mean_squared_error(y_test, ridge_preds)\n",
    "ridge_r2 = r2_score(y_test, ridge_preds)\n",
    "print(ridge_mse,ridge_r2)"
   ]
  },
  {
   "cell_type": "code",
   "execution_count": 20,
   "id": "84724b8a",
   "metadata": {},
   "outputs": [
    {
     "name": "stdout",
     "output_type": "stream",
     "text": [
      "17.283108558822182 0.7574201276005788\n"
     ]
    }
   ],
   "source": [
    "alphas = [0.001,0.01,0.1,1,10,100]\n",
    "lasso_cv = LassoCV(alphas= alphas, cv = 5)\n",
    "lasso_cv.fit(X_train, y_train)\n",
    "ridge_preds = lasso_cv.predict(X_test)\n",
    "\n",
    "from sklearn.metrics import mean_squared_error, r2_score\n",
    "lasso_mse = mean_squared_error(y_test, ridge_preds)\n",
    "lasso_r2 = r2_score(y_test, ridge_preds)\n",
    "print(lasso_mse,lasso_r2)"
   ]
  },
  {
   "cell_type": "code",
   "execution_count": 22,
   "id": "be539264",
   "metadata": {},
   "outputs": [
    {
     "data": {
      "text/plain": [
       "np.float64(0.001)"
      ]
     },
     "execution_count": 22,
     "metadata": {},
     "output_type": "execute_result"
    }
   ],
   "source": [
    "ridge_cv.alpha_"
   ]
  },
  {
   "cell_type": "markdown",
   "id": "6d33b107",
   "metadata": {},
   "source": [
    "| 구분       | 릿지 (Ridge)      | 라쏘 (Lasso)   |\n",
    "| -------- | --------------- | ------------ |\n",
    "| 규제 방식    | L2 (제곱)         | L1 (절댓값)     |\n",
    "| 변수 제거    | ❌ 안 함           | ✅ 일부 제거      |\n",
    "| 다중공선성 완화 | O               | O            |\n",
    "| 해석성      | 중간              | 높음           |\n",
    "| 사용 예     | 피처 많고 상관관계 높을 때 | 피처 선택이 필요할 때 |\n"
   ]
  },
  {
   "cell_type": "markdown",
   "id": "8150a71d",
   "metadata": {},
   "source": [
    "Lasso alpha=0.1"
   ]
  },
  {
   "cell_type": "code",
   "execution_count": 23,
   "id": "92720062",
   "metadata": {},
   "outputs": [
    {
     "name": "stdout",
     "output_type": "stream",
     "text": [
      "\n",
      "[라쏘 회귀]\n",
      "MSE: 17.828795683730707\n",
      "R2: 0.7497610474831454\n"
     ]
    }
   ],
   "source": [
    "lasso = Lasso(alpha=0.1)  # alpha 값 작으면 규제 약해짐\n",
    "lasso.fit(X_train, y_train)\n",
    "pred_lasso = lasso.predict(X_test)\n",
    "\n",
    "print(\"\\n[라쏘 회귀]\")\n",
    "print(\"MSE:\", mean_squared_error(y_test, pred_lasso))\n",
    "print(\"R2:\", r2_score(y_test, pred_lasso))"
   ]
  },
  {
   "cell_type": "markdown",
   "id": "81c6f56c",
   "metadata": {},
   "source": [
    "LassoCV"
   ]
  },
  {
   "cell_type": "code",
   "execution_count": 24,
   "id": "177ebae8",
   "metadata": {},
   "outputs": [
    {
     "name": "stdout",
     "output_type": "stream",
     "text": [
      "[개선 Lasso] 최적 alpha: 0.001\n",
      "MSE: 17.283, R2: 0.757\n"
     ]
    }
   ],
   "source": [
    "lasso_cv = LassoCV(alphas=alphas, cv=5, max_iter=10000)\n",
    "lasso_cv.fit(X_train, y_train)\n",
    "lasso_preds = lasso_cv.predict(X_test)\n",
    "lasso_mse = mean_squared_error(y_test, lasso_preds)\n",
    "lasso_r2 = r2_score(y_test, lasso_preds)\n",
    "\n",
    "print(f\"[개선 Lasso] 최적 alpha: {lasso_cv.alpha_}\")\n",
    "print(f\"MSE: {lasso_mse:.3f}, R2: {lasso_r2:.3f}\")"
   ]
  },
  {
   "cell_type": "code",
   "execution_count": 25,
   "id": "0478be2e",
   "metadata": {},
   "outputs": [
    {
     "data": {
      "text/plain": [
       "array([-1.12661593e-01,  6.56008407e-02,  3.30878096e-02,  3.02619848e+00,\n",
       "       -1.94682482e+01,  3.35481221e+00,  5.71239360e-03, -1.73664047e+00,\n",
       "        3.55109529e-01, -1.43215477e-02, -9.16008532e-01,  1.04167858e-02,\n",
       "       -5.66946541e-01])"
      ]
     },
     "execution_count": 25,
     "metadata": {},
     "output_type": "execute_result"
    }
   ],
   "source": [
    "ridge_cv.coef_ # Lasso모델에서 제거된 건 없음."
   ]
  },
  {
   "cell_type": "code",
   "execution_count": 26,
   "id": "3aaab163",
   "metadata": {},
   "outputs": [
    {
     "data": {
      "text/plain": [
       "array([-1.12661593e-01,  6.56008407e-02,  3.30878096e-02,  3.02619848e+00,\n",
       "       -1.94682482e+01,  3.35481221e+00,  5.71239360e-03, -1.73664047e+00,\n",
       "        3.55109529e-01, -1.43215477e-02, -9.16008532e-01,  1.04167858e-02,\n",
       "       -5.66946541e-01])"
      ]
     },
     "execution_count": 26,
     "metadata": {},
     "output_type": "execute_result"
    }
   ],
   "source": [
    "lasso_cv.coef_"
   ]
  },
  {
   "cell_type": "markdown",
   "id": "fc6ef3f3",
   "metadata": {},
   "source": [
    "엘라시틱넷"
   ]
  },
  {
   "cell_type": "code",
   "execution_count": null,
   "id": "36ec967b",
   "metadata": {},
   "outputs": [
    {
     "name": "stdout",
     "output_type": "stream",
     "text": [
      "18.116738279436163\n",
      "0.7457195824951278\n"
     ]
    }
   ],
   "source": [
    "enet = ElasticNet(alpha= 0.1, l1_ratio= 0.5)\n",
    "enet.fit(X_train, y_train)\n",
    "\n",
    "enet_pred = enet.predict(X_test)\n",
    "print(mean_squared_error(y_test, enet_pred))\n",
    "print(r2_score(y_test, enet_pred))"
   ]
  },
  {
   "cell_type": "markdown",
   "id": "285c7ee3",
   "metadata": {},
   "source": [
    "모델의 성능"
   ]
  },
  {
   "cell_type": "code",
   "execution_count": 14,
   "id": "9b17accd",
   "metadata": {},
   "outputs": [],
   "source": [
    "from sklearn.pipeline import Pipeline\n",
    "from sklearn.preprocessing import PolynomialFeatures\n",
    "from sklearn.model_selection import train_test_split\n",
    "from sklearn.linear_model import LinearRegression"
   ]
  },
  {
   "cell_type": "code",
   "execution_count": 15,
   "id": "8cbd7b7e",
   "metadata": {},
   "outputs": [],
   "source": [
    "model_poly = Pipeline([\n",
    "    (\"poly\", PolynomialFeatures(degree=2, include_bias=False)),\n",
    "    (\"linear\", LinearRegression())\n",
    "])\n",
    "\n",
    "model_poly.fit(X_train, y_train)\n",
    "\n",
    "results = []\n",
    "\n",
    "for  degree in range(1,5):\n",
    "    model_poly = Pipeline([\n",
    "        (\"poly\", PolynomialFeatures(degree = degree, include_bias=False)),\n",
    "        (\"linear\", LinearRegression())\n",
    "    ])\n",
    "\n",
    "    model_poly.fit(X_train, y_train)\n",
    "    pred_poly = model_poly.predict(X_test)"
   ]
  },
  {
   "cell_type": "code",
   "execution_count": 21,
   "id": "bfeef93f",
   "metadata": {},
   "outputs": [
    {
     "data": {
      "text/html": [
       "<div>\n",
       "<style scoped>\n",
       "    .dataframe tbody tr th:only-of-type {\n",
       "        vertical-align: middle;\n",
       "    }\n",
       "\n",
       "    .dataframe tbody tr th {\n",
       "        vertical-align: top;\n",
       "    }\n",
       "\n",
       "    .dataframe thead th {\n",
       "        text-align: right;\n",
       "    }\n",
       "</style>\n",
       "<table border=\"1\" class=\"dataframe\">\n",
       "  <thead>\n",
       "    <tr style=\"text-align: right;\">\n",
       "      <th></th>\n",
       "      <th>모델</th>\n",
       "      <th>MSE</th>\n",
       "      <th>R2</th>\n",
       "    </tr>\n",
       "  </thead>\n",
       "  <tbody>\n",
       "    <tr>\n",
       "      <th>0</th>\n",
       "      <td>다항회귀</td>\n",
       "      <td>170599.948638</td>\n",
       "      <td>-2393.483240</td>\n",
       "    </tr>\n",
       "    <tr>\n",
       "      <th>1</th>\n",
       "      <td>릿지회귀</td>\n",
       "      <td>17.206833</td>\n",
       "      <td>0.758491</td>\n",
       "    </tr>\n",
       "    <tr>\n",
       "      <th>2</th>\n",
       "      <td>라쏘회귀</td>\n",
       "      <td>22.137099</td>\n",
       "      <td>0.689291</td>\n",
       "    </tr>\n",
       "    <tr>\n",
       "      <th>3</th>\n",
       "      <td>엘라스틱넷회귀</td>\n",
       "      <td>18.116738</td>\n",
       "      <td>0.745720</td>\n",
       "    </tr>\n",
       "  </tbody>\n",
       "</table>\n",
       "</div>"
      ],
      "text/plain": [
       "        모델            MSE           R2\n",
       "0     다항회귀  170599.948638 -2393.483240\n",
       "1     릿지회귀      17.206833     0.758491\n",
       "2     라쏘회귀      22.137099     0.689291\n",
       "3  엘라스틱넷회귀      18.116738     0.745720"
      ]
     },
     "execution_count": 21,
     "metadata": {},
     "output_type": "execute_result"
    }
   ],
   "source": [
    "results = pd.DataFrame({\n",
    "    '모델': ['다항회귀', '릿지회귀', '라쏘회귀', '엘라스틱넷회귀'],\n",
    "    'MSE': [mean_squared_error(y_test, pred_poly),\n",
    "            mean_squared_error(y_test, pred_ridge),\n",
    "            mean_squared_error(y_test, pred_lasso),\n",
    "            mean_squared_error(y_test, enet_pred)\n",
    "    ],\n",
    "    'R2': [r2_score(y_test, pred_poly),\n",
    "           r2_score(y_test, pred_ridge),\n",
    "           r2_score(y_test, pred_lasso),\n",
    "           r2_score(y_test, enet_pred),]\n",
    "})\n",
    "\n",
    "results"
   ]
  },
  {
   "cell_type": "code",
   "execution_count": null,
   "id": "81747d09",
   "metadata": {},
   "outputs": [],
   "source": []
  }
 ],
 "metadata": {
  "kernelspec": {
   "display_name": "hi_ml_env",
   "language": "python",
   "name": "python3"
  },
  "language_info": {
   "codemirror_mode": {
    "name": "ipython",
    "version": 3
   },
   "file_extension": ".py",
   "mimetype": "text/x-python",
   "name": "python",
   "nbconvert_exporter": "python",
   "pygments_lexer": "ipython3",
   "version": "3.10.16"
  }
 },
 "nbformat": 4,
 "nbformat_minor": 5
}
