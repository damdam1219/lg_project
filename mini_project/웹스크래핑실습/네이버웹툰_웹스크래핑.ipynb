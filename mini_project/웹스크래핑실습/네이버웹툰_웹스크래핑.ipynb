{
 "cells": [
  {
   "cell_type": "markdown",
   "id": "82902afc",
   "metadata": {},
   "source": [
    "# 네이버 웹툰 웹스크랩핑"
   ]
  },
  {
   "cell_type": "markdown",
   "id": "02ebdcd6",
   "metadata": {},
   "source": [
    "웹사이트 주소: https://comic.naver.com/index\n",
    "\n",
    "원하는 데이터: 현재 가장 핫한 액션 웹툰 Top10"
   ]
  },
  {
   "cell_type": "markdown",
   "id": "a02cb533",
   "metadata": {},
   "source": [
    "1. 필요한 라이브러리 불러오기"
   ]
  },
  {
   "cell_type": "code",
   "execution_count": 1,
   "id": "452ceac4",
   "metadata": {},
   "outputs": [],
   "source": [
    "import requests\n",
    "from bs4 import BeautifulSoup"
   ]
  },
  {
   "cell_type": "markdown",
   "id": "ae31c028",
   "metadata": {},
   "source": [
    "2. 웹페이지 요청 및 원하는 데이터 요소 파싱하기"
   ]
  },
  {
   "cell_type": "code",
   "execution_count": 2,
   "id": "f2aebfc3",
   "metadata": {},
   "outputs": [
    {
     "name": "stdout",
     "output_type": "stream",
     "text": [
      "<Response [200]>\n"
     ]
    }
   ],
   "source": [
    "url = 'https://comic.naver.com/index'\n",
    "webtoon = requests.get(url)\n",
    "print(webtoon) # 200: 응답요청 성공"
   ]
  },
  {
   "cell_type": "code",
   "execution_count": 3,
   "id": "c2d08f00",
   "metadata": {},
   "outputs": [
    {
     "name": "stdout",
     "output_type": "stream",
     "text": [
      "\n",
      "<!DOCTYPE html>\n",
      "\n",
      "<html lang=\"ko\">\n",
      "<head>\n",
      "<title>네이버 웹툰</title>\n",
      "<link href=\"https://shared-comic.pstatic.net/favicon/favicon_96x96.ico\" rel=\"icon\" type=\"image/x-icon\"/>\n",
      "<link href=\"https://ssl.pstatic.net/static/wcc/kw-owner/prod-1.0/index.css\" rel=\"stylesheet\" type=\"text/css\">\n",
      "<link href=\"https://m.comic.naver.com/index\" rel=\"canonical\"/>\n",
      "<meta content=\"6Wv2YrpTSpapViVikuUS-ebAqZDiKxcrDV_clkRzH9A\" name=\"google-site-verification\"/>\n",
      "<meta charset=\"utf-8\"/>\n",
      "<meta content=\"ie=edge\" http-equiv=\"x-ua-compatible\"/>\n",
      "<meta content=\"article\" property=\"og:type\"/>\n",
      "<meta content=\"네이버 웹툰\" property=\"og:article:author\"/>\n",
      "<meta content=\"https://comic.naver.com\" property=\"og:article:author:url\"/>\n",
      "<meta content=\"\" property=\"og:title\"/>\n",
      "<meta content=\"https://ssl.pstatic.net/static/comic/images/og_tag_v3.png\" property=\"og:image\"/>\n",
      "<meta content=\"매일매일 새로운 재미, 네이버 웹툰.\" property=\"og:description\"/>\n",
      "<script>\n",
      "\t\tif (/MSIE \\d|Trident.*rv:/.test(navigator.userAgent)) {\n",
      "\t\t\twindow.location = 'microsoft-edge:' + window.location;\n",
      "\t\t\tsetTimeout(function () {\n",
      "\t\t\t\twindow.location = 'https://go.microsoft.com/fwlink/?linkid=2135547';\n",
      "\t\t\t}, 1);\n",
      "\t\t}\n",
      "\t</script>\n",
      "<script async=\"\" src=\"https://ssl.pstatic.net/tveta/libs/glad/prod/gfp-core.js\"></script>\n",
      "<script>\n",
      "\t\tvar ccsrv = 'cc.naver.com';\n",
      "\t\twindow.gladsdk = window.gladsdk || { cmd: [] };\n",
      "\t</script>\n",
      "</link></head>\n",
      "<body>\n",
      "<div id=\"root\"></div>\n",
      "</body>\n",
      "<script src=\"https://ssl.pstatic.net/static/wcc/kw-owner/prod-1.0/index.js\" type=\"text/javascript\"></script>\n",
      "<script src=\"/runtime-29187d3e488025ff0ea1.js\" type=\"text/javascript\"></script>\n",
      "<script src=\"/vendor-react-d37d9c657a271200d9cf.js\" type=\"text/javascript\"></script>\n",
      "<script src=\"/vendor-react-common-72f7a4aa692e097dd248.js\" type=\"text/javascript\"></script>\n",
      "<script src=\"/vendor-common-731b83d570b21355d0be.js\" type=\"text/javascript\"></script>\n",
      "<script src=\"/vendor-log-feb99cf7b041c7e3b64d.js\" type=\"text/javascript\"></script>\n",
      "<script src=\"/router-dffb15dfd1ba2f231c68.js\" type=\"text/javascript\"></script>\n",
      "</html>\n",
      "\n"
     ]
    }
   ],
   "source": [
    "soup = BeautifulSoup(webtoon.text, 'html.parser')\n",
    "print(soup)"
   ]
  },
  {
   "cell_type": "markdown",
   "id": "e538036a",
   "metadata": {},
   "source": [
    "제목 seletor\n",
    "\n",
    "#content > div:nth-child(2) > div.FlickingList__flicking_wrap--vnPay > div.flicking-viewport > div > ol > li:nth-child(1) > div > a > span > span"
   ]
  },
  {
   "cell_type": "code",
   "execution_count": 4,
   "id": "6f8a2253",
   "metadata": {},
   "outputs": [
    {
     "data": {
      "text/plain": [
       "[]"
      ]
     },
     "execution_count": 4,
     "metadata": {},
     "output_type": "execute_result"
    }
   ],
   "source": [
    "soup.select(\"ol.FlickingList__content_list--vG5lo\")"
   ]
  },
  {
   "cell_type": "markdown",
   "id": "a546584d",
   "metadata": {},
   "source": [
    "현재 request에 의한 요청은 사이트에서 '봇'으로 인식해서 막아논 듯 하다.\n",
    "\n",
    "그래서 다른 방법인 Selenium을 선택"
   ]
  },
  {
   "cell_type": "markdown",
   "id": "e9150e8c",
   "metadata": {},
   "source": [
    "1. 필요한 라이브러리 불러오기"
   ]
  },
  {
   "cell_type": "code",
   "execution_count": 5,
   "id": "4dd3dfd5",
   "metadata": {},
   "outputs": [],
   "source": [
    "from selenium.webdriver import Chrome\n",
    "import os\n",
    "from selenium.webdriver.chrome.options import Options"
   ]
  },
  {
   "cell_type": "markdown",
   "id": "fa691c28",
   "metadata": {},
   "source": [
    "2.  웹사이트 연결하기"
   ]
  },
  {
   "cell_type": "code",
   "execution_count": 6,
   "id": "fc44eb48",
   "metadata": {},
   "outputs": [],
   "source": [
    "#Chrome 브라우저의 실행 옵션을 설정하기 위해 Options 객체를 만들기\n",
    "chrome_options = Options()\n",
    "\n",
    "#브라우저 창을 자동화가 끝나도 닫지 않고, 계속 열어두게 함\n",
    "chrome_options.add_experimental_option(name='detach', value=True)\n",
    "chrome_options.add_argument(\"user-agent=Mozilla/5.0 (Windows NT 10.0; Win64; x64) AppleWebKit/537.36 (KHTML, like Gecko) Chrome/115.0.0.0 Safari/537.36\")\n",
    "\n",
    "#Chrome 브라우저를 위에서 설정한 옵션과 함께 실행\n",
    "driver = Chrome(options=chrome_options)\n",
    "driver.get(url) "
   ]
  },
  {
   "cell_type": "markdown",
   "id": "d9002dcb",
   "metadata": {},
   "source": [
    "3. 요소 찾기"
   ]
  },
  {
   "cell_type": "code",
   "execution_count": 20,
   "id": "3947dd40",
   "metadata": {},
   "outputs": [
    {
     "name": "stdout",
     "output_type": "stream",
     "text": [
      "['시든 꽃에 눈물을', '왕과의 야행', '썰:관계주의', '이섭의 연애', '재혼 황후']\n"
     ]
    }
   ],
   "source": [
    "from selenium.webdriver.common.by import By\n",
    "from selenium.webdriver.support.ui import WebDriverWait\n",
    "from selenium.webdriver.support import expected_conditions as EC\n",
    "\n",
    "# 액션 웹툰 10위\n",
    "title_elements = driver.find_elements(By.CSS_SELECTOR, \"span.ContentTitle__title--e3qXt\")\n",
    "\n",
    "title = []\n",
    "for elem in title_elements[:5]:\n",
    "    title.append(elem.text)\n",
    "print(title)"
   ]
  },
  {
   "cell_type": "code",
   "execution_count": null,
   "id": "91bd0c8e",
   "metadata": {},
   "outputs": [
    {
     "name": "stdout",
     "output_type": "stream",
     "text": [
      "✅ Saved: webtoon_images\\시든 꽃에 눈물을.jpg\n",
      "✅ Saved: webtoon_images\\왕과의 야행.jpg\n",
      "✅ Saved: webtoon_images\\썰관계주의.jpg\n",
      "✅ Saved: webtoon_images\\이섭의 연애.jpg\n",
      "✅ Saved: webtoon_images\\재혼 황후.jpg\n"
     ]
    }
   ],
   "source": [
    "import os\n",
    "import re\n",
    "import requests\n",
    "\n",
    "#  이미지 요소 가져오기\n",
    "image_elements = driver.find_elements(\n",
    "    By.CSS_SELECTOR,\n",
    "    \"ol.FlickingList__content_list--vG5lo div.Poster__thumbnail_area--gviWY > img\"\n",
    ")\n",
    "\n",
    "# 이미지 폴더만들기\n",
    "folder = \"webtoon_images\"\n",
    "os.makedirs(folder, exist_ok=True)\n",
    "\n",
    "# 이미지 폴더 저장 및 폴더 이름 생성하기\n",
    "for idx, img in enumerate(image_elements, 1):\n",
    "    img_url = img.get_attribute(\"src\")\n",
    "    raw_title = title[idx - 1]\n",
    "\n",
    "    # 정규식으로 금지문자 제거\n",
    "    safe_title = re.sub(r'[\\\\/:*?\"<>|]', '', raw_title)\n",
    "\n",
    "    file_path = os.path.join(folder, safe_title + '.jpg')\n",
    "\n",
    "    if img_url:\n",
    "        try:\n",
    "            headers = {\"User-Agent\": \"Mozilla/5.0\"}\n",
    "            response = requests.get(img_url, headers=headers)\n",
    "            response.raise_for_status()\n",
    "\n",
    "            with open(file_path, \"wb\") as f:\n",
    "                f.write(response.content)\n",
    "\n",
    "            print(f\"✅ Saved: {file_path}\")\n",
    "\n",
    "        except Exception as e:\n",
    "            print(f\"❌ Error at {idx}: {e}\")\n"
   ]
  },
  {
   "attachments": {
    "image.png": {
     "image/png": "[encoded data removed]"
    }
   },
   "cell_type": "markdown",
   "id": "3170e332",
   "metadata": {},
   "source": [
    "![image.png ](attachment:image.png)\n",
    "\n",
    "확인 완료"
   ]
  },
  {
   "cell_type": "code",
   "execution_count": null,
   "id": "4e86cee3",
   "metadata": {},
   "outputs": [],
   "source": []
  }
 ],
 "metadata": {
  "kernelspec": {
   "display_name": "webcrawl_env",
   "language": "python",
   "name": "python3"
  },
  "language_info": {
   "codemirror_mode": {
    "name": "ipython",
    "version": 3
   },
   "file_extension": ".py",
   "mimetype": "text/x-python",
   "name": "python",
   "nbconvert_exporter": "python",
   "pygments_lexer": "ipython3",
   "version": "3.10.18"
  }
 },
 "nbformat": 4,
 "nbformat_minor": 5
}
