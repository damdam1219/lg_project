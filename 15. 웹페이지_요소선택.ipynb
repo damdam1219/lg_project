{
 "cells": [
  {
   "cell_type": "markdown",
   "id": "0ff3d76c",
   "metadata": {},
   "source": [
    "## 웹스크래핑을 위한 웹페이지 요소선택 실습"
   ]
  },
  {
   "cell_type": "code",
   "execution_count": 1,
   "id": "8d4f430e",
   "metadata": {},
   "outputs": [],
   "source": [
    "html = \"\"\"\n",
    "<html>\n",
    "<head><title>HTML Sample</title>\n",
    "</head>\n",
    "<body>\n",
    "    <h1>Hello CSS</h1>\n",
    "    <div id=\"subject\">선택자</div>\n",
    "    <div class=\"contents\">선택자를 어떻게 작성하느냐에 따라\n",
    "      <span>다른 <b>요소가 반환</b></span> 됩니다.</div>\n",
    "    <div>CSS 선택자는 다양한 곳에서 <b>활용</b>됩니다.</div>\n",
    "</body>\n",
    "</html>\n",
    "\"\"\""
   ]
  },
  {
   "cell_type": "code",
   "execution_count": 2,
   "id": "bfa11167",
   "metadata": {},
   "outputs": [
    {
     "data": {
      "text/plain": [
       "'\\n<html>\\n<head><title>HTML Sample</title>\\n</head>\\n<body>\\n    <h1>Hello CSS</h1>\\n    <div id=\"subject\">선택자</div>\\n    <div class=\"contents\">선택자를 어떻게 작성하느냐에 따라\\n      <span>다른 <b>요소가 반환</b></span> 됩니다.</div>\\n    <div>CSS 선택자는 다양한 곳에서 <b>활용</b>됩니다.</div>\\n</body>\\n</html>\\n'"
      ]
     },
     "execution_count": 2,
     "metadata": {},
     "output_type": "execute_result"
    }
   ],
   "source": [
    "html"
   ]
  },
  {
   "cell_type": "code",
   "execution_count": null,
   "id": "26978e40",
   "metadata": {},
   "outputs": [
    {
     "data": {
      "text/plain": [
       "\n",
       "<html>\n",
       "<head><title>HTML Sample</title>\n",
       "</head>\n",
       "<body>\n",
       "<h1>Hello CSS</h1>\n",
       "<div id=\"subject\">선택자</div>\n",
       "<div class=\"contents\">선택자를 어떻게 작성하느냐에 따라\n",
       "      <span>다른 <b>요소가 반환</b></span> 됩니다.</div>\n",
       "<div>CSS 선택자는 다양한 곳에서 <b>활용</b>됩니다.</div>\n",
       "</body>\n",
       "</html>"
      ]
     },
     "execution_count": 3,
     "metadata": {},
     "output_type": "execute_result"
    }
   ],
   "source": [
    "from bs4 import BeautifulSoup\n",
    "soup = BeautifulSoup(html, 'html.parser') # html파싱\n",
    "soup"
   ]
  },
  {
   "cell_type": "code",
   "execution_count": 14,
   "id": "fb17d4d0",
   "metadata": {},
   "outputs": [
    {
     "data": {
      "text/plain": [
       "'Hello CSS'"
      ]
     },
     "execution_count": 14,
     "metadata": {},
     "output_type": "execute_result"
    }
   ],
   "source": [
    "el_h1 = soup.select_one('h1')\n",
    "el_h1.text"
   ]
  },
  {
   "cell_type": "code",
   "execution_count": 11,
   "id": "6f9beefa",
   "metadata": {},
   "outputs": [
    {
     "data": {
      "text/plain": [
       "[<div id=\"subject\">선택자</div>,\n",
       " <div class=\"contents\">선택자를 어떻게 작성하느냐에 따라\n",
       "       <span>다른 <b>요소가 반환</b></span> 됩니다.</div>,\n",
       " <div>CSS 선택자는 다양한 곳에서 <b>활용</b>됩니다.</div>]"
      ]
     },
     "execution_count": 11,
     "metadata": {},
     "output_type": "execute_result"
    }
   ],
   "source": [
    "el_div = soup.select('div') # html의 div 다 꺼내기\n",
    "el_div"
   ]
  },
  {
   "cell_type": "code",
   "execution_count": 13,
   "id": "6e05ab8e",
   "metadata": {},
   "outputs": [
    {
     "data": {
      "text/plain": [
       "[<span>다른 <b>요소가 반환</b></span>]"
      ]
     },
     "execution_count": 13,
     "metadata": {},
     "output_type": "execute_result"
    }
   ],
   "source": [
    "el_span = soup.select('span')\n",
    "el_span"
   ]
  },
  {
   "cell_type": "code",
   "execution_count": 18,
   "id": "485982cc",
   "metadata": {},
   "outputs": [
    {
     "data": {
      "text/plain": [
       "<b>요소가 반환</b>"
      ]
     },
     "execution_count": 18,
     "metadata": {},
     "output_type": "execute_result"
    }
   ],
   "source": [
    "# b\n",
    "soup.select_one(\"div b\")"
   ]
  },
  {
   "cell_type": "code",
   "execution_count": 21,
   "id": "4d93b043",
   "metadata": {},
   "outputs": [
    {
     "name": "stdout",
     "output_type": "stream",
     "text": [
      "[<b>요소가 반환</b>, <b>활용</b>]\n"
     ]
    }
   ],
   "source": [
    "soup = BeautifulSoup(html, 'html.parser')\n",
    "result = soup.select(\"div b\")\n",
    "print(result) "
   ]
  },
  {
   "cell_type": "markdown",
   "id": "3471c876",
   "metadata": {},
   "source": [
    "직계 '>'"
   ]
  },
  {
   "cell_type": "code",
   "execution_count": 17,
   "id": "b6e47239",
   "metadata": {},
   "outputs": [
    {
     "data": {
      "text/plain": [
       "[<b>요소가 반환</b>]"
      ]
     },
     "execution_count": 17,
     "metadata": {},
     "output_type": "execute_result"
    }
   ],
   "source": [
    "# div > span > b\n",
    "soup.select(\"div > span > b\")"
   ]
  },
  {
   "cell_type": "code",
   "execution_count": null,
   "id": "105d643a",
   "metadata": {},
   "outputs": [
    {
     "data": {
      "text/plain": [
       "[<div class=\"contents\">선택자를 어떻게 작성하느냐에 따라\n",
       "       <span>다른 <b>요소가 반환</b></span> 됩니다.</div>]"
      ]
     },
     "execution_count": 22,
     "metadata": {},
     "output_type": "execute_result"
    }
   ],
   "source": [
    "soup.select(\".contents\") # 클래스(.)가 contents인 이름을 가진 요소"
   ]
  },
  {
   "cell_type": "code",
   "execution_count": 24,
   "id": "25edc954",
   "metadata": {},
   "outputs": [
    {
     "data": {
      "text/plain": [
       "[<div id=\"subject\">선택자</div>]"
      ]
     },
     "execution_count": 24,
     "metadata": {},
     "output_type": "execute_result"
    }
   ],
   "source": [
    "soup.select(\"#subject\") # 아이디(#)가 subject인 이름을 가진 요소"
   ]
  },
  {
   "cell_type": "code",
   "execution_count": 25,
   "id": "02a93227",
   "metadata": {},
   "outputs": [
    {
     "data": {
      "text/plain": [
       "[<div class=\"contents\">선택자를 어떻게 작성하느냐에 따라\n",
       "       <span>다른 <b>요소가 반환</b></span> 됩니다.</div>]"
      ]
     },
     "execution_count": 25,
     "metadata": {},
     "output_type": "execute_result"
    }
   ],
   "source": [
    "# 아이디 선택자\n",
    "soup.select('#subject')\n",
    "\n",
    "# 속성 선택자\n",
    "soup.select('[class = contents]')"
   ]
  },
  {
   "cell_type": "markdown",
   "id": "48ada632",
   "metadata": {},
   "source": [
    "## 정규표현식"
   ]
  },
  {
   "cell_type": "markdown",
   "id": "437e9c28",
   "metadata": {},
   "source": [
    "정규표현식은 문자열에서 특정한 패턴을 찾거나, 검색하거나, 바꾸기 위해 쓰는 표현방법"
   ]
  },
  {
   "cell_type": "code",
   "execution_count": 2,
   "id": "6389f107",
   "metadata": {},
   "outputs": [
    {
     "name": "stdout",
     "output_type": "stream",
     "text": [
      "123\n"
     ]
    }
   ],
   "source": [
    "# 정규표현식\n",
    "import re\n",
    "patten = re.compile(r'\\d+') # 숫자이면서 1개 이상 반복되는 것\n",
    "match = patten.match('123abc')\n",
    "if match :\n",
    "    print(match.group())"
   ]
  },
  {
   "cell_type": "code",
   "execution_count": null,
   "id": "3f7547fb",
   "metadata": {},
   "outputs": [
    {
     "name": "stdout",
     "output_type": "stream",
     "text": [
      "['010-222-3333', '02-5678-9988']\n",
      "['grovy04@gmail.com']\n"
     ]
    }
   ],
   "source": [
    "import re\n",
    "contents = 'hello grovy04@gmail.com 010-222-3333 world 02-5678-9988'\n",
    "\n",
    "# raw, 위의 예에서 전화번호를 찾는 패턴\n",
    "phone_pattern = re.compile(r'\\d{2,3}-\\d{3,4}-\\d{4}') \n",
    "\n",
    "# re.findall(phone_pattern, contents)와 같음\n",
    "phone_list = phone_pattern.findall(contents)  \n",
    "\n",
    "print(phone_list)\n",
    "\n",
    "# 이메일 패턴\n",
    "email_pattern = re.compile(r'[a-zA-Z0-9._%+-]+@[a-zA-Z0-9.-]+\\.[a-zA-Z]{2,}') \n",
    "\n",
    "email_list = re.findall(email_pattern, contents)\n",
    "print(email_list)"
   ]
  },
  {
   "cell_type": "code",
   "execution_count": 6,
   "id": "100711fa",
   "metadata": {},
   "outputs": [],
   "source": [
    "# 1. 전화번호 추출\n",
    "string = 'hello grovy04@gmail.com 010-222-3333 world 02-5678-9988'"
   ]
  },
  {
   "cell_type": "markdown",
   "id": "025e7cb8",
   "metadata": {},
   "source": [
    "\\d+\t| 숫자가 하나 이상인 부분과 매치\t| '123abc'.match(r'\\d+') -> '123'\n",
    "\n",
    "\\D+\t | 숫자가 아닌 부분과 매치\t | 'abc123'.match(r'\\D+') -> 'abc'"
   ]
  },
  {
   "cell_type": "code",
   "execution_count": null,
   "id": "ce18a542",
   "metadata": {},
   "outputs": [
    {
     "data": {
      "text/plain": [
       "['04', '010', '222', '3333', '02', '5678', '9988']"
      ]
     },
     "execution_count": 8,
     "metadata": {},
     "output_type": "execute_result"
    }
   ],
   "source": [
    "# 2. 패턴 정하기\n",
    "pattern = re.compile(r'\\d{2,3}-\\d{3,4}-\\d{4}')\n",
    "# 숫자가 2개 혹은 3개 - 숫자가 3개 혹은 4개 - 숫자 4 인 패턴 (전화번호)\n",
    "\n",
    "# match_list = patten.match(string) # 처음부터 찾기\n",
    "# match_list = patten.search(string) # 1개 찾기\n",
    "match_list = patten.findall(string) # 다 찾기\n",
    "match_list"
   ]
  },
  {
   "cell_type": "code",
   "execution_count": 13,
   "id": "4c5f3c2a",
   "metadata": {},
   "outputs": [
    {
     "data": {
      "text/plain": [
       "['grovy04@gmail.com']"
      ]
     },
     "execution_count": 13,
     "metadata": {},
     "output_type": "execute_result"
    }
   ],
   "source": [
    "# 3. 이메일 패턴\n",
    "email_pattern = re.compile(r'[a-zA-Z0-9._%+-]+@[a-zA-Z0-9.-]+\\.[a-zA-Z]{2,}') \n",
    "# 문자열은 역슬래시로 표시해야한다.\n",
    "\n",
    "match_list1 = email_pattern.findall(string)\n",
    "match_list1"
   ]
  },
  {
   "cell_type": "code",
   "execution_count": 15,
   "id": "687cb5b0",
   "metadata": {},
   "outputs": [
    {
     "data": {
      "text/plain": [
       "'abc***def***'"
      ]
     },
     "execution_count": 15,
     "metadata": {},
     "output_type": "execute_result"
    }
   ],
   "source": [
    "string2 = 'abc123def456'\n",
    "result = re.compile(r'\\d+')\n",
    "result.sub('***',string2)"
   ]
  },
  {
   "cell_type": "code",
   "execution_count": null,
   "id": "41a7cfc9",
   "metadata": {},
   "outputs": [],
   "source": []
  }
 ],
 "metadata": {
  "kernelspec": {
   "display_name": "webcrawl_env",
   "language": "python",
   "name": "python3"
  },
  "language_info": {
   "codemirror_mode": {
    "name": "ipython",
    "version": 3
   },
   "file_extension": ".py",
   "mimetype": "text/x-python",
   "name": "python",
   "nbconvert_exporter": "python",
   "pygments_lexer": "ipython3",
   "version": "3.10.18"
  }
 },
 "nbformat": 4,
 "nbformat_minor": 5
}
