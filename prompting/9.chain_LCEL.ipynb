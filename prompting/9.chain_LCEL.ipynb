{
 "cells": [
  {
   "cell_type": "markdown",
   "id": "cdd320c6",
   "metadata": {},
   "source": [
    "LCEL LangChainExpressionLanguage\n",
    "\n",
    "프롬프트 > LLM input > chain input > output > prompt\n",
    "\n",
    "Runnable 인터페이스 > 랭체인을 구현하고 있다."
   ]
  },
  {
   "cell_type": "markdown",
   "id": "e425551a",
   "metadata": {},
   "source": [
    "# "
   ]
  },
  {
   "cell_type": "code",
   "execution_count": 2,
   "id": "2db1a98d",
   "metadata": {},
   "outputs": [],
   "source": [
    "from langchain_openai import ChatOpenAI\n",
    "llm = ChatOpenAI(model = 'gpt-4o-mini')"
   ]
  },
  {
   "cell_type": "code",
   "execution_count": 3,
   "id": "2cc03f9d",
   "metadata": {},
   "outputs": [
    {
     "name": "stderr",
     "output_type": "stream",
     "text": [
      "C:\\Users\\Admin\\AppData\\Local\\Temp\\ipykernel_11440\\2321969578.py:5: LangChainDeprecationWarning: The class `LLMChain` was deprecated in LangChain 0.1.17 and will be removed in 1.0. Use :meth:`~RunnableSequence, e.g., `prompt | llm`` instead.\n",
      "  chain = LLMChain(llm = llm, prompt = template)\n"
     ]
    },
    {
     "data": {
      "text/plain": [
       "LLMChain(verbose=False, prompt=PromptTemplate(input_variables=['city'], input_types={}, partial_variables={}, template='{city}의 랜드마크는 어디인가요?'), llm=ChatOpenAI(client=<openai.resources.chat.completions.completions.Completions object at 0x00000185DAFB33B0>, async_client=<openai.resources.chat.completions.completions.AsyncCompletions object at 0x00000185DB504C50>, root_client=<openai.OpenAI object at 0x00000185DAF42120>, root_async_client=<openai.AsyncOpenAI object at 0x00000185DAFB3740>, model_name='gpt-4o-mini', model_kwargs={}, openai_api_key=SecretStr('**********')), output_parser=StrOutputParser(), llm_kwargs={})"
      ]
     },
     "execution_count": 3,
     "metadata": {},
     "output_type": "execute_result"
    }
   ],
   "source": [
    "from langchain.prompts import PromptTemplate\n",
    "from langchain.chains import LLMChain\n",
    "\n",
    "template = PromptTemplate.from_template(\"{city}의 랜드마크는 어디인가요?\")\n",
    "chain = LLMChain(llm = llm, prompt = template)\n",
    "chain"
   ]
  },
  {
   "cell_type": "code",
   "execution_count": 4,
   "id": "7385b879",
   "metadata": {},
   "outputs": [
    {
     "data": {
      "text/plain": [
       "{'city': '파리',\n",
       " 'text': \"파리에는 여러 유명한 랜드마크가 있습니다. 가장 대표적인 것들은 다음과 같습니다:\\n\\n1. **에펠탑 (Tour Eiffel)** - 파리의 상징으로, 1889년 만국 박람회를 위해 세워졌습니다.\\n2. **루브르 박물관 (Musée du Louvre)** - 세계에서 가장 큰 미술관 중 하나로, 명작들과 고대 유물이 소장되어 있습니다.\\n3. **노트르담 대성당 (Notre-Dame de Paris)** - 고딕 건축의 걸작으로, 파리의 중심에 위치하고 있습니다. 현재는 화재 복구 중입니다.\\n4. **샹젤리제 거리 (Champs-Élysées)** - 유명한 쇼핑 거리로, 개선문과 연결되어 있습니다.\\n5. **바스티유 성 (Bastille)** - 프랑스 혁명의 상징적인 장소로, 현재는 바스티유 광장이 그 자리를 대신합니다.\\n6. **몽마르트 언덕 (Montmartre)** - 예술과 문화의 중심지로, 사크레쾨르 대성당이 위치해 있습니다.\\n7. **오르세이 미술관 (Musée d'Orsay)** - 인상파와 후기 인상파 작품들이 많이 소장되어 있는 미술관입니다.\\n\\n이 외에도 파리에는 많은 매력적인 장소들이 있으니, 방문 시 꼭 즐겨보세요!\"}"
      ]
     },
     "execution_count": 4,
     "metadata": {},
     "output_type": "execute_result"
    }
   ],
   "source": [
    "chain.invoke({'city':'파리'})"
   ]
  },
  {
   "cell_type": "markdown",
   "id": "25ec8fe0",
   "metadata": {},
   "source": [
    "# LCEL 파이프라인 구성"
   ]
  },
  {
   "cell_type": "code",
   "execution_count": 7,
   "id": "01fc6352",
   "metadata": {},
   "outputs": [
    {
     "data": {
      "text/plain": [
       "PromptTemplate(input_variables=['city'], input_types={}, partial_variables={}, template='{city}의 랜드마크는 어디인가요?')\n",
       "| ChatOpenAI(client=<openai.resources.chat.completions.completions.Completions object at 0x00000185DAFB33B0>, async_client=<openai.resources.chat.completions.completions.AsyncCompletions object at 0x00000185DB504C50>, root_client=<openai.OpenAI object at 0x00000185DAF42120>, root_async_client=<openai.AsyncOpenAI object at 0x00000185DAFB3740>, model_name='gpt-4o-mini', model_kwargs={}, openai_api_key=SecretStr('**********'))"
      ]
     },
     "execution_count": 7,
     "metadata": {},
     "output_type": "execute_result"
    }
   ],
   "source": [
    "chain_lcel = template|llm\n",
    "chain_lcel"
   ]
  },
  {
   "cell_type": "code",
   "execution_count": 8,
   "id": "ed4c3dfc",
   "metadata": {},
   "outputs": [
    {
     "data": {
      "text/plain": [
       "AIMessage(content=\"파리에는 여러 유명한 랜드마크가 있습니다. 그 중에서도 가장 잘 알려진 것들은 다음과 같습니다:\\n\\n1. **에펠탑 (Tour Eiffel)** - 파리의 상징적인 구조물로, 1889년 세계 박람회를 위해 세워졌습니다.\\n2. **루브르 박물관 (Musée du Louvre)** - 세계에서 가장 큰 미술관으로, 모나리자와 같은 유명한 작품들이 전시되어 있습니다.\\n3. **노트르담 대성당 (Notre-Dame de Paris)** - 고딕 건축의 걸작으로, 현재 복원 작업이 진행 중입니다.\\n4. **샹젤리제 거리 (Avenue des Champs-Élysées)** - 화려한 상점과 카페가 늘어서 있는 유명한 거리입니다.\\n5. **몽마르트 언덕 (Montmartre)** - 예술가들이 많이 있었던 지역으로, 사크레쾨르 대성당이 위치해 있습니다.\\n6. **오르세 미술관 (Musée d'Orsay)** - 인상파 작품들로 유명한 미술관으로, 이전에 기차역이었던 건물을 개조하여 사용하고 있습니다.\\n7. **팔레 루아얄 (Palais Royal)** - 아름다운 정원과 아케이드로 유명한 역사적인 건물입니다.\\n\\n이 외에도 파리에는 많은 매력적인 장소들이 있습니다.\", additional_kwargs={'refusal': None}, response_metadata={'token_usage': {'completion_tokens': 310, 'prompt_tokens': 19, 'total_tokens': 329, 'completion_tokens_details': {'accepted_prediction_tokens': 0, 'audio_tokens': 0, 'reasoning_tokens': 0, 'rejected_prediction_tokens': 0}, 'prompt_tokens_details': {'audio_tokens': 0, 'cached_tokens': 0}}, 'model_name': 'gpt-4o-mini-2024-07-18', 'system_fingerprint': 'fp_8bda4d3a2c', 'id': 'chatcmpl-CDMywK7CMPNI57bf6rinZPaihmyhW', 'service_tier': 'default', 'finish_reason': 'stop', 'logprobs': None}, id='run--72fc49da-23cc-4a6a-b2ba-5ef27a6696f7-0', usage_metadata={'input_tokens': 19, 'output_tokens': 310, 'total_tokens': 329, 'input_token_details': {'audio': 0, 'cache_read': 0}, 'output_token_details': {'audio': 0, 'reasoning': 0}})"
      ]
     },
     "execution_count": 8,
     "metadata": {},
     "output_type": "execute_result"
    }
   ],
   "source": [
    "chain_lcel.invoke({'city':'파리'})"
   ]
  },
  {
   "cell_type": "markdown",
   "id": "a7c2cec6",
   "metadata": {},
   "source": [
    "# Sequential Chain의 구성"
   ]
  },
  {
   "cell_type": "code",
   "execution_count": 10,
   "id": "c62d6751",
   "metadata": {},
   "outputs": [
    {
     "data": {
      "text/plain": [
       "SequentialChain(verbose=False, chains=[LLMChain(verbose=True, prompt=PromptTemplate(input_variables=['city'], input_types={}, partial_variables={}, template='{city}의 랜드마크 1개만 알려주세요. 설명은 필요없고 이름 1개만 알려줘'), llm=ChatOpenAI(client=<openai.resources.chat.completions.completions.Completions object at 0x00000185DAFB33B0>, async_client=<openai.resources.chat.completions.completions.AsyncCompletions object at 0x00000185DB504C50>, root_client=<openai.OpenAI object at 0x00000185DAF42120>, root_async_client=<openai.AsyncOpenAI object at 0x00000185DAFB3740>, model_name='gpt-4o-mini', model_kwargs={}, openai_api_key=SecretStr('**********')), output_key='landmark', output_parser=StrOutputParser(), llm_kwargs={}), LLMChain(verbose=False, prompt=PromptTemplate(input_variables=['landmark', 'transport'], input_types={}, partial_variables={}, template='{landmark}에 {transport}로 가는 방법이 무엇인가요?'), llm=ChatOpenAI(client=<openai.resources.chat.completions.completions.Completions object at 0x00000185DAFB33B0>, async_client=<openai.resources.chat.completions.completions.AsyncCompletions object at 0x00000185DB504C50>, root_client=<openai.OpenAI object at 0x00000185DAF42120>, root_async_client=<openai.AsyncOpenAI object at 0x00000185DAFB3740>, model_name='gpt-4o-mini', model_kwargs={}, openai_api_key=SecretStr('**********')), output_parser=StrOutputParser(), llm_kwargs={})], input_variables=['city', 'transport'], output_variables=['text'])"
      ]
     },
     "execution_count": 10,
     "metadata": {},
     "output_type": "execute_result"
    }
   ],
   "source": [
    "from langchain.chains import SequentialChain, LLMChain\n",
    "\n",
    "pro1 = PromptTemplate.from_template('{city}의 랜드마크 1개만 알려주세요. 설명은 필요없고 이름 1개만 알려줘')\n",
    "pro2 = PromptTemplate.from_template('{landmark}에 {transport}로 가는 방법이 무엇인가요?')\n",
    "\n",
    "chain1 = LLMChain(llm = llm, prompt = pro1, output_key = 'landmark', verbose = True)\n",
    "chain2 = LLMChain(llm = llm, prompt = pro2)\n",
    "seq_chain = SequentialChain(chains=[chain1, chain2], input_variables = ['city','transport'])\n",
    "seq_chain\n"
   ]
  },
  {
   "cell_type": "code",
   "execution_count": 11,
   "id": "a17ed630",
   "metadata": {},
   "outputs": [
    {
     "name": "stdout",
     "output_type": "stream",
     "text": [
      "\n",
      "\n",
      "\u001b[1m> Entering new LLMChain chain...\u001b[0m\n",
      "Prompt after formatting:\n",
      "\u001b[32;1m\u001b[1;3mseoul의 랜드마크 1개만 알려주세요. 설명은 필요없고 이름 1개만 알려줘\u001b[0m\n",
      "\n",
      "\u001b[1m> Finished chain.\u001b[0m\n"
     ]
    },
    {
     "data": {
      "text/plain": [
       "{'city': 'seoul',\n",
       " 'transport': '지하철',\n",
       " 'text': '경복궁에 지하철로 가는 방법은 다음과 같습니다:\\n\\n1. **지하철 3호선**을 이용하세요. 경복궁역에서 하차하시면 됩니다.\\n2. **경복궁역 5번 출구**로 나와서 도보로 이동하면 경복궁 입구에 도착할 수 있습니다.\\n\\n경복궁역은 서울의 중심부에 위치하여, 다른 지역에서도 쉽게 접근할 수 있는 교통 편이 좋습니다. 추가적으로 버스나 다른 교통 수단도 활용할 수 있지만, 지하철 3호선이 가장 직접적이고 편리한 방법입니다.'}"
      ]
     },
     "execution_count": 11,
     "metadata": {},
     "output_type": "execute_result"
    }
   ],
   "source": [
    "seq_chain.invoke({'city':'seoul', 'transport':'지하철'})"
   ]
  },
  {
   "cell_type": "code",
   "execution_count": null,
   "id": "ac703f73",
   "metadata": {},
   "outputs": [],
   "source": []
  }
 ],
 "metadata": {
  "kernelspec": {
   "display_name": "prompting_env",
   "language": "python",
   "name": "python3"
  },
  "language_info": {
   "codemirror_mode": {
    "name": "ipython",
    "version": 3
   },
   "file_extension": ".py",
   "mimetype": "text/x-python",
   "name": "python",
   "nbconvert_exporter": "python",
   "pygments_lexer": "ipython3",
   "version": "3.12.11"
  }
 },
 "nbformat": 4,
 "nbformat_minor": 5
}
