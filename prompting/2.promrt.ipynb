{
 "cells": [
  {
   "cell_type": "code",
   "execution_count": 4,
   "id": "5ad56ee2",
   "metadata": {},
   "outputs": [
    {
     "name": "stdout",
     "output_type": "stream",
     "text": [
      "API Key configured: True\n"
     ]
    }
   ],
   "source": [
    "from dotenv import load_dotenv\n",
    "import os\n",
    "\n",
    "# .env 파일에서 환경 변수를 불러옵니다.\n",
    "load_dotenv()\n",
    "\n",
    "# 환경 변수 읽기\n",
    "openai_api_key = os.getenv(\"OPENAI_API_KEY\")\n",
    "\n",
    "\n",
    "# OpenAI 라이브러리가 환경 변수에서 키를 읽을 수 있도록 설정\n",
    "if openai_api_key:\n",
    "    os.environ[\"OPENAI_API_KEY\"] = openai_api_key\n",
    "\n",
    "print(\"API Key configured:\", \"OPENAI_API_KEY\" in os.environ)\n",
    "\n",
    "from openai import OpenAI\n",
    "client = OpenAI()"
   ]
  },
  {
   "cell_type": "code",
   "execution_count": 8,
   "id": "39d8a55a",
   "metadata": {},
   "outputs": [],
   "source": [
    "response = client.chat.completions.create(\n",
    "    model=\"gpt-4o-mini\",  # 또는 'gpt-3.5-turbo' 등\n",
    "    messages=[\n",
    "        {\"role\": \"user\", \"content\": \"파이썬에 대해 알려줘\"}\n",
    "    ]\n",
    ")"
   ]
  },
  {
   "cell_type": "code",
   "execution_count": 10,
   "id": "32868fa0",
   "metadata": {},
   "outputs": [
    {
     "name": "stdout",
     "output_type": "stream",
     "text": [
      "ChatGPT 답변: 안녕하세요! 현재 날씨 정보는 실시간으로 제공할 수 없지만, 귀하가 위치한 지역의 날씨를 확인하려면 날씨 앱이나 웹사이트를 참고해 주세요. 도움이 필요하신 다른 사항이 있다면 말씀해 주세요!\n"
     ]
    }
   ],
   "source": [
    "message = {'role':'user',\"content\":'안녕하세요, 오늘 날씨는 어떤가요?'}\n",
    "response = client.chat.completions.create(\n",
    "    model ='gpt-4o-mini',\n",
    "    messages=[message]\n",
    ")\n",
    "\n",
    "assistant_reply = response.choices[0].message.content\n",
    "print(\"ChatGPT 답변:\", assistant_reply)"
   ]
  },
  {
   "cell_type": "markdown",
   "id": "bc2842f2",
   "metadata": {},
   "source": [
    "# 출력 형식 지정"
   ]
  },
  {
   "cell_type": "code",
   "execution_count": null,
   "id": "8364b21b",
   "metadata": {},
   "outputs": [
    {
     "name": "stdout",
     "output_type": "stream",
     "text": [
      "ChatGPT 답변: {\"weather\": \"맑음\", \"temperature\": \"20도\"}\n"
     ]
    }
   ],
   "source": [
    "message = {'role':'user',\"content\":'안녕하세요, 오늘 서울 날씨를 json 형태로 제공해. 키는 weather, temperature 로 설정해'}\n",
    "response = client.chat.completions.create(\n",
    "    model ='gpt-4o-mini',\n",
    "    messages=[message], response_format={'type':'json_object'} # 출력형식 지정\n",
    ")\n",
    "\n",
    "assistant_reply = response.choices[0].message.content\n",
    "print(\"ChatGPT 답변:\", assistant_reply)"
   ]
  },
  {
   "cell_type": "code",
   "execution_count": 15,
   "id": "bc1411b1",
   "metadata": {},
   "outputs": [
    {
     "data": {
      "text/plain": [
       "dict_keys(['weather', 'temperature'])"
      ]
     },
     "execution_count": 15,
     "metadata": {},
     "output_type": "execute_result"
    }
   ],
   "source": [
    "import json\n",
    "data = json.loads(assistant_reply)\n",
    "data.keys()"
   ]
  },
  {
   "cell_type": "code",
   "execution_count": 16,
   "id": "18d62cb9",
   "metadata": {},
   "outputs": [
    {
     "name": "stdout",
     "output_type": "stream",
     "text": [
      "ChatGPT 답변: \n",
      "{\n",
      "    \"전라북도_도시_날씨\": [\n",
      "        {\n",
      "            \"도시\": \"전주\",\n",
      "            \"weather\": \"맑음\",\n",
      "            \"temperature\": \"25도\"\n",
      "        },\n",
      "        {\n",
      "            \"도시\": \"군산\",\n",
      "            \"weather\": \"구름 많음\",\n",
      "            \"temperature\": \"22도\"\n",
      "        },\n",
      "        {\n",
      "            \"도시\": \"익산\",\n",
      "            \"weather\": \"비\",\n",
      "            \"temperature\": \"20도\"\n",
      "        },\n",
      "        {\n",
      "            \"도시\": \"남원\",\n",
      "            \"weather\": \"흐림\",\n",
      "            \"temperature\": \"23도\"\n",
      "        },\n",
      "        {\n",
      "            \"도시\": \"정읍\",\n",
      "            \"weather\": \"맑음\",\n",
      "            \"temperature\": \"24도\"\n",
      "        }\n",
      "    ]\n",
      "}\n"
     ]
    }
   ],
   "source": [
    "# 전라북도 날씨 json으로 불러오기\n",
    "message = {'role':'user',\"content\":'안녕하세요, 오늘 전라북도의 도시 5개를 선정해서 날씨를 json 형태로 제공해. 키는 weather, temperature 로 설정해'}\n",
    "response = client.chat.completions.create(\n",
    "    model ='gpt-4o-mini',\n",
    "    messages=[message], response_format={'type':'json_object'} # 출력형식 지정\n",
    ")\n",
    "\n",
    "assistant_reply = response.choices[0].message.content\n",
    "print(\"ChatGPT 답변:\", assistant_reply)"
   ]
  },
  {
   "cell_type": "code",
   "execution_count": 20,
   "id": "431286c6",
   "metadata": {},
   "outputs": [
    {
     "name": "stdout",
     "output_type": "stream",
     "text": [
      "전주의 날씨는 현재 맑음이고, 온도는 25도입니다.\n",
      "군산의 날씨는 현재 구름 많음이고, 온도는 22도입니다.\n",
      "익산의 날씨는 현재 비이고, 온도는 20도입니다.\n",
      "남원의 날씨는 현재 흐림이고, 온도는 23도입니다.\n",
      "정읍의 날씨는 현재 맑음이고, 온도는 24도입니다.\n"
     ]
    }
   ],
   "source": [
    "weather_data = json.loads(assistant_reply)\n",
    "\n",
    "for entry in weather_data[\"전라북도_도시_날씨\"]:\n",
    "    city = entry[\"도시\"]\n",
    "    weather = entry[\"weather\"]\n",
    "    temperature = entry[\"temperature\"]\n",
    "    print(f\"{city}의 날씨는 현재 {weather}이고, 온도는 {temperature}입니다.\")"
   ]
  },
  {
   "cell_type": "markdown",
   "id": "83f506c4",
   "metadata": {},
   "source": [
    "# CoT 프롬프트"
   ]
  },
  {
   "cell_type": "code",
   "execution_count": 22,
   "id": "e22c002e",
   "metadata": {},
   "outputs": [
    {
     "name": "stdout",
     "output_type": "stream",
     "text": [
      "COT 적용 전: 철수는 처음에 사과 10개를 가지고 있었습니다. 그 중 3개를 먹었으므로 남은 사과는 10 - 3 = 7개입니다. 이후 5개를 더 구입했으므로 현재 가지고 있는 사과는 7 + 5 = 12개입니다. \n",
      "\n",
      "따라서 철수가 현재 가지고 있는 사과는 12개입니다.\n"
     ]
    }
   ],
   "source": [
    "question = '철수는 사과 10개를 가지고 있었는데, 그 중 3개를 먹은 후 5개를 더 구입했습니다. 철수가 현재 가지고 있는 사과는 몇 개일까요?'\n",
    "response = client.chat.completions.create(\n",
    "    messages= [{'role':'user','content':question}]\n",
    "    , model= 'gpt-4o-mini',\n",
    "    temperature=0\n",
    ")\n",
    "\n",
    "print('COT 적용 전:',response.choices[0].message.content)"
   ]
  },
  {
   "cell_type": "code",
   "execution_count": 23,
   "id": "c473a4e0",
   "metadata": {},
   "outputs": [
    {
     "name": "stdout",
     "output_type": "stream",
     "text": [
      "cot 적용전:  단계별로 생각해보겠습니다.\n",
      "\n",
      "1. 철수가 처음 가지고 있던 사과의 개수: 10개\n",
      "2. 철수가 먹은 사과의 개수: 3개\n",
      "3. 철수가 먹은 후 남은 사과의 개수: 10개 - 3개 = 7개\n",
      "4. 철수가 추가로 구입한 사과의 개수: 5개\n",
      "5. 철수가 현재 가지고 있는 사과의 총 개수: 7개 + 5개 = 12개\n",
      "\n",
      "따라서, 철수가 현재 가지고 있는 사과는 12개입니다.\n"
     ]
    }
   ],
   "source": [
    "cot_prompt= '(생각을 단계별로 진행해)\\n' + question\n",
    "res = client.chat.completions.create(\n",
    "    model=\"gpt-4o-mini\",\n",
    "  messages=[\n",
    "      {'role':'user', 'content':cot_prompt}\n",
    "  ],\n",
    "    temperature=0\n",
    ")\n",
    "print('cot 적용전: ', res.choices[0].message.content)"
   ]
  },
  {
   "cell_type": "code",
   "execution_count": null,
   "id": "6ec4f57d",
   "metadata": {},
   "outputs": [
    {
     "name": "stdout",
     "output_type": "stream",
     "text": [
      "cot 적용전:  주어진 문제를 단계별로 풀어보겠습니다.\n",
      "\n",
      "1. **문제 이해하기**: 어떤 수를 \\( x \\)라고 할 때, 이 수를 3배한 결과에 4를 더하면 19가 된다는 것입니다. 이를 수식으로 표현하면 다음과 같습니다.\n",
      "   \\[\n",
      "   3x + 4 = 19\n",
      "   \\]\n",
      "\n",
      "2. **방정식 정리하기**: 이제 이 방정식을 풀어보겠습니다. 먼저, 양쪽에서 4를 빼줍니다.\n",
      "   \\[\n",
      "   3x + 4 - 4 = 19 - 4\n",
      "   \\]\n",
      "   \\[\n",
      "   3x = 15\n",
      "   \\]\n",
      "\n",
      "3. **x 구하기**: 이제 양쪽을 3으로 나누어 \\( x \\)의 값을 구합니다.\n",
      "   \\[\n",
      "   x = \\frac{15}{3}\n",
      "   \\]\n",
      "   \\[\n",
      "   x = 5\n",
      "   \\]\n",
      "\n",
      "4. **정답 확인하기**: 구한 \\( x \\)의 값이 맞는지 확인해보겠습니다. \\( x = 5 \\)일 때, 3배한 결과에 4를 더해보면:\n",
      "   \\[\n",
      "   3 \\times 5 + 4 = 15 + 4 = 19\n",
      "   \\]\n",
      "   맞습니다.\n",
      "\n",
      "따라서, 그 수는 **5**입니다.\n"
     ]
    }
   ],
   "source": [
    "question = '어떤 수를 3배한 결과에 4를 더하면 19가 됩니다. 그 수는 무엇알까요? 단계별로 풀어보세요.'\n",
    "cot_prompt= '(생각을 단계별로 진행해)\\n' + question\n",
    "res = client.chat.completions.create(\n",
    "    model=\"gpt-4o-mini\",\n",
    "  messages=[\n",
    "      {'role':'user', 'content':cot_prompt}\n",
    "  ],\n",
    "    temperature=0 # 창의적이지 않고 고지식하게 답변\n",
    ")\n",
    "print('cot 적용전: ', res.choices[0].message.content)"
   ]
  },
  {
   "cell_type": "markdown",
   "id": "a6e009aa",
   "metadata": {},
   "source": [
    "검증이 가능하게 프롬프트가 짜여졌다."
   ]
  },
  {
   "cell_type": "markdown",
   "id": "e6f6855d",
   "metadata": {},
   "source": [
    "# self consistency 기법"
   ]
  },
  {
   "cell_type": "code",
   "execution_count": 27,
   "id": "0a62b91d",
   "metadata": {},
   "outputs": [
    {
     "name": "stdout",
     "output_type": "stream",
     "text": [
      "응답 1: 주어진 문제를 단계별로 해결해 보겠습니다.\n",
      "\n",
      "1. 문제를 수식으로 표현해 보겠습니다.\n",
      "   - 어떤 수를 \\( x \\)라고 하겠습니다.\n",
      "   - 그러면 \"3배한 결과에 4를 더하면 19가 된다\"는 내용을 수식으로 표현하면 다음과 같습니다:\n",
      "   \\[\n",
      "   3x + 4 = 19\n",
      "   \\]\n",
      "\n",
      "2. 이제 이 수식을 풀어 보겠습니다.\n",
      "   - 먼저 4를 양변에서 빼줍니다:\n",
      "   \\[\n",
      "   3x + 4 - 4 = 19 - 4\n",
      "   \\]\n",
      "   \\[\n",
      "   3x = 15\n",
      "   \\]\n",
      "\n",
      "3. 다음으로, 양변을 3으로 나누어 \\( x \\)를 구합니다:\n",
      "   \\[\n",
      "   \\frac{3x}{3} = \\frac{15}{3}\n",
      "   \\]\n",
      "   \\[\n",
      "   x = 5\n",
      "   \\]\n",
      "\n",
      "4. 따라서, 그 수는 \\( \\boxed{5} \\)입니다.\n",
      "\n",
      "5. 확인을 위해 원래 문제의 조건을 다시 확인해 보겠습니다.\n",
      "   - \\( x = 5 \\)일 때, \\( 3 \\times 5 + 4 = 15 + 4 = 19 \\)가 됩니다. 따라서 조건이 맞습니다.\n",
      "\n",
      "결론적으로, 그 수는 \\( 5 \\)입니다.\n",
      "응답 2: 주어진 문제를 단계별로 풀어보겠습니다.\n",
      "\n",
      "1. **문제 이해하기**: 어떤 수를 \\( x \\)라고 하면, 이 수를 3배한 결과에 4를 더한 것이 19가 된다는 것입니다. 이를 식으로 표현해보면:\n",
      "   \\[\n",
      "   3x + 4 = 19\n",
      "   \\]\n",
      "\n",
      "2. **식 정리하기**: 이제 이 식에서 \\( x \\)를 구하기 위해 식을 변형해 보겠습니다. 먼저, 4를 왼쪽으로 이동시킵니다.\n",
      "   \\[\n",
      "   3x = 19 - 4\n",
      "   \\]\n",
      "   \\[\n",
      "   3x = 15\n",
      "   \\]\n",
      "\n",
      "3. **\\( x \\) 구하기**: \\( x \\)를 구하기 위해 양변을 3으로 나눕니다.\n",
      "   \\[\n",
      "   x = \\frac{15}{3}\n",
      "   \\]\n",
      "   \\[\n",
      "   x = 5\n",
      "   \\]\n",
      "\n",
      "4. **결과 확인하기**: \\( x = 5 \\)가 맞는지 확인하기 위해 원래의 식에 대입해 봅시다.\n",
      "   \\[\n",
      "   3(5) + 4 = 15 + 4 = 19\n",
      "   \\]\n",
      "   맞습니다! 식이 성립하므로 정답이 확인되었습니다.\n",
      "\n",
      "결론적으로, 그 수는 **5**입니다.\n",
      "응답 3: 주어진 문제를 단계별로 풀어보겠습니다.\n",
      "\n",
      "1. **문제 정의**: 어떤 수를 \\( x \\)라고 합시다. 그러면 문제를 수식으로 표현하면 다음과 같습니다:\n",
      "   \\[\n",
      "   3x + 4 = 19\n",
      "   \\]\n",
      "\n",
      "2. **식 정리**: 이제 이 식에서 \\( x \\)를 구하기 위해 먼저 4를 양쪽에서 빼줍니다.\n",
      "   \\[\n",
      "   3x + 4 - 4 = 19 - 4\n",
      "   \\]\n",
      "   그러면,\n",
      "   \\[\n",
      "   3x = 15\n",
      "   \\]\n",
      "\n",
      "3. **x에 대한 식 구하기**: 다음으로, \\( x \\)를 구하기 위해 양쪽을 3으로 나눕니다.\n",
      "   \\[\n",
      "   x = \\frac{15}{3}\n",
      "   \\]\n",
      "   계산하면,\n",
      "   \\[\n",
      "   x = 5\n",
      "   \\]\n",
      "\n",
      "4. **결과 확인**: 이제 구한 \\( x \\) 값을 원래 문제의 조건에 대입하여 확인해보겠습니다.\n",
      "   \\[\n",
      "   3(5) + 4 = 15 + 4 = 19\n",
      "   \\]\n",
      "   맞으므로, 결과가 올바릅니다.\n",
      "\n",
      "결론적으로, 그 수는 **5**입니다.\n",
      "응답 4: 문제를 단계별로 풀어보겠습니다.\n",
      "\n",
      "1. **문제 이해하기**: 어떤 수를 \\( x \\)라고 할 때, 이 수를 3배한 결과에 4를 더하면 19가 된다는 것입니다. 이는 수식으로 표현할 수 있습니다.\n",
      "\n",
      "   \\[\n",
      "   3x + 4 = 19\n",
      "   \\]\n",
      "\n",
      "2. **수식 정리하기**: 위의 식에서 \\( x \\)를 구하기 위해서 양변에서 4를 빼겠습니다.\n",
      "\n",
      "   \\[\n",
      "   3x + 4 - 4 = 19 - 4\n",
      "   \\]\n",
      "   \n",
      "   따라서,\n",
      "   \n",
      "   \\[\n",
      "   3x = 15\n",
      "   \\]\n",
      "\n",
      "3. **x 구하기**: 이제 양변을 3으로 나누어 \\( x \\)를 구합니다.\n",
      "\n",
      "   \\[\n",
      "   x = \\frac{15}{3}\n",
      "   \\]\n",
      "   \n",
      "   이 계산을 하면,\n",
      "\n",
      "   \\[\n",
      "   x = 5\n",
      "   \\]\n",
      "\n",
      "4. **확인하기**: 구한 \\( x \\)의 값이 맞는지 확인해 보겠습니다. \\( x \\)가 5일 때, 문제의 조건을 만족하는지 살펴보면:\n",
      "\n",
      "   \\[\n",
      "   3(5) + 4 = 15 + 4 = 19\n",
      "   \\]\n",
      "\n",
      "   조건을 만족하므로, \\( x = 5 \\)가 맞습니다.\n",
      "\n",
      "결론적으로, 찾고 있는 수는 \\( 5 \\)입니다.\n",
      "응답 5: 주어진 문제를 단계별로 풀어보겠습니다.\n",
      "\n",
      "1. **문제 이해하기**: 어떤 수를 3배한 결과에 4를 더하면 19가 된다고 합니다. 이를 수식으로 표현하면 다음과 같습니다.\n",
      "   \\[\n",
      "   3x + 4 = 19\n",
      "   \\]\n",
      "   여기서 \\( x \\)는 우리가 찾고자 하는 수입니다.\n",
      "\n",
      "2. **수식 정리하기**: 먼저, 양변에서 4를 빼줍니다.\n",
      "   \\[\n",
      "   3x + 4 - 4 = 19 - 4\n",
      "   \\]\n",
      "   이렇게 하면:\n",
      "   \\[\n",
      "   3x = 15\n",
      "   \\]\n",
      "\n",
      "3. **x 구하기**: 이제 양변을 3으로 나누어 \\( x \\)를 구합니다.\n",
      "   \\[\n",
      "   x = \\frac{15}{3}\n",
      "   \\]\n",
      "   계산하면:\n",
      "   \\[\n",
      "   x = 5\n",
      "   \\]\n",
      "\n",
      "4. **정답 확인하기**: 이제 우리가 찾은 \\( x = 5 \\)가 맞는지 확인해볼까요? \n",
      "   - 5를 3배하면 \\( 3 \\times 5 = 15 \\)입니다.\n",
      "   - 여기에 4를 더하면 \\( 15 + 4 = 19 \\)가 됩니다. \n",
      "\n",
      "따라서, 주어진 조건을 만족합니다.\n",
      "\n",
      "**결론**: 찾고자 하는 수는 **5**입니다.\n"
     ]
    }
   ],
   "source": [
    "messages = [\n",
    "    {'role': 'user', 'content': question}\n",
    "]\n",
    "\n",
    "answers = []\n",
    "\n",
    "for i in range(5):\n",
    "    response = client.chat.completions.create(\n",
    "        messages=messages,\n",
    "        model='gpt-4o-mini',\n",
    "        temperature=1.0\n",
    "    )\n",
    "    answer = response.choices[0].message.content.strip()\n",
    "    answers.append(answer)\n",
    "    print(f'응답 {i+1}: {answer}')"
   ]
  },
  {
   "cell_type": "code",
   "execution_count": 32,
   "id": "8a56c7c4",
   "metadata": {},
   "outputs": [
    {
     "name": "stdout",
     "output_type": "stream",
     "text": [
      "최종 답:**5**입니다.\n"
     ]
    }
   ],
   "source": [
    "final_answer = [ans.split()[-1] for ans in answers]\n",
    "import collections\n",
    "counter = collections.Counter(final_answer)\n",
    "final_ans = counter.most_common(1)[0][0]\n",
    "print(f'최종 답:{final_ans}')"
   ]
  },
  {
   "cell_type": "markdown",
   "id": "6bb8fb42",
   "metadata": {},
   "source": [
    "# Reflexion\n",
    "\n",
    "- 자기 피드백 반복 프롬프트 설계"
   ]
  },
  {
   "cell_type": "code",
   "execution_count": 33,
   "id": "afc57663",
   "metadata": {},
   "outputs": [
    {
     "name": "stdout",
     "output_type": "stream",
     "text": [
      "정답입니다.\n"
     ]
    }
   ],
   "source": [
    "question = '7의 2승에 5를 곱합 값은 무엇인가?'\n",
    "response1 = client.chat.completions.create(\n",
    "    model=\"gpt-4o-mini\",\n",
    "  messages=[\n",
    "      {'role':'user', 'content':question}\n",
    "  ],\n",
    "    temperature=0\n",
    ")\n",
    "answer = response1.choices[0].message.content.strip() # 모델이 출력한 정답\n",
    "correct_answer = 245\n",
    "if str(correct_answer) in answer:\n",
    "    feedback = '정답입니다.'\n",
    "    need_retry = False\n",
    "else:\n",
    "    feedback = '틀렸어요. 힌트는 7의 제곱값을 정확히 구한 다음 곱하세요.'\n",
    "    need_retry = True\n",
    "    \n",
    "print(feedback)"
   ]
  },
  {
   "cell_type": "code",
   "execution_count": 38,
   "id": "f51d5a5f",
   "metadata": {},
   "outputs": [
    {
     "name": "stdout",
     "output_type": "stream",
     "text": [
      "정답입니다.\n"
     ]
    }
   ],
   "source": [
    "question = '7의 2승에 5를 곱합 값은 무엇인가?'\n",
    "response1 = client.chat.completions.create(\n",
    "    model=\"gpt-3.5-turbo\",\n",
    "  messages=[\n",
    "      {'role':'user', 'content':question}\n",
    "  ],\n",
    "    temperature=0\n",
    ")\n",
    "answer = response1.choices[0].message.content.strip() # 모델이 출력한 정답\n",
    "correct_answer = 245\n",
    "if str(correct_answer) in answer:\n",
    "    feedback = '정답입니다.'\n",
    "    need_retry = False\n",
    "else:\n",
    "    feedback = '틀렸어요. 힌트는 7의 제곱값을 정확히 구한 다음 곱하세요.'\n",
    "    need_retry = True\n",
    "    \n",
    "print(feedback)"
   ]
  },
  {
   "cell_type": "code",
   "execution_count": null,
   "id": "4d63607c",
   "metadata": {},
   "outputs": [],
   "source": [
    "# 틀린모델은? 2차 답변 생성.\n",
    "if need_retry:\n",
    "    retry_prompt = f'이전 답변:{answer}, 피드백:{feedback}\\n 다시 답을 구하세요'\n",
    "    response2 = client.chat.completions.create(\n",
    "    model=\"gpt-3.5-turbo\",\n",
    "  messages=[\n",
    "      {'role':'user', 'content':question}\n",
    "  ],\n",
    "    temperature=0\n",
    ")\n",
    "answer2 = response2.choices[0].message.content.strip() # 모델이 출력한 응답\n",
    "print(answer2)"
   ]
  },
  {
   "cell_type": "code",
   "execution_count": 40,
   "id": "073c8517",
   "metadata": {},
   "outputs": [
    {
     "name": "stdout",
     "output_type": "stream",
     "text": [
      "### 기후 변화의 원인과 해결 방안\n",
      "\n",
      "기후 변화는 현대 사회가 직면한 가장 심각한 환경 문제 중 하나로, 지구의 평균 기온 상승, 해수면 상승, 극단적인 기상 현상 증가 등 다양한 형태로 나타나고 있다. 이러한 기후 변화의 주된 원인은 인간 활동에 의해 발생하는 온실가스의 배출이다. 특히, 화석 연료의 연소, 산업 활동, 농업 및 임업 등에서 발생하는 이산화탄소(CO2), 메탄(CH4), 아산화질소(N2O) 등의 온실가스가 대기 중에 축적되어 지구의 온도를 상승시키고 있다.\n",
      "\n",
      "기후 변화의 해결 방안은 여러 가지가 있지만, 가장 효과적인 방법은 온실가스 배출을 줄이는 것이다. 이를 위해 첫째, 재생 가능 에너지의 사용을 확대해야 한다. 태양광, 풍력, 수력 등 청정 에너지원으로의 전환은 화석 연료 의존도를 줄이고, 온실가스 배출을 감소시킬 수 있다. 둘째, 에너지 효율성을 높이는 기술을 개발하고 보급해야 한다. 건물, 교통수단, 산업 공정에서 에너지를 절약하는 방법을 도입함으로써 전체적인 에너지 소비를 줄일 수 있다.\n",
      "\n",
      "셋째, 지속 가능한 농업과 임업 practices를 채택해야 한다. 이는 토양의 탄소 저장 능력을 높이고, 생물 다양성을 보호하며, 기후 변화에 대한 적응력을 강화하는 데 기여할 수 있다. 넷째, 개인과 지역 사회의 인식 개선이 필요하다. 기후 변화의 심각성을 알리고, 개인의 행동 변화(예: 대중교통 이용, 재활용, 에너지 절약 등)를 유도하는 교육과 캠페인이 중요하다.\n",
      "\n",
      "마지막으로, 국제적인 협력이 필수적이다. 기후 변화는 국경을 초월하는 문제이므로, 각국이 협력하여 공동의 목표를 설정하고, 기술과 자원을 공유하는 것이 중요하다. 파리 협정과 같은 국제적인 합의는 이러한 협력을 촉진하는 데 중요한 역할을 한다.\n",
      "\n",
      "결론적으로, 기후 변화는 인류의 생존과 미래에 중대한 영향을 미치는 문제이다. 이를 해결하기 위해서는 개인, 기업, 정부가 함께 노력하여 지속 가능한 사회를 만들어 나가야 한다. 기후 변화에 대한 적극적인 대응은 단순히 환경 보호를 넘어, 인류의 건강과 경제적 안정성을 지키는 길임을 잊지 말아야 한다.\n"
     ]
    }
   ],
   "source": [
    "prompt = '기후 변화의 원인과 해결 방안에 대해 간략한 에세이를 작성하시오'\n",
    "res2 = client.chat.completions.create(\n",
    "    model=\"gpt-4o-mini\",\n",
    "  messages=[\n",
    "      {'role':'user', 'content':prompt}\n",
    "  ],\n",
    "    temperature=0\n",
    ")\n",
    "print(res2.choices[0].message.content)"
   ]
  },
  {
   "cell_type": "code",
   "execution_count": 41,
   "id": "0880d05e",
   "metadata": {},
   "outputs": [
    {
     "name": "stdout",
     "output_type": "stream",
     "text": [
      "2차 에세이:\n",
      " ### 기후 변화의 원인과 해결 방안\n",
      "\n",
      "기후 변화는 현대 사회가 직면한 가장 심각한 환경 문제 중 하나로, 지구의 평균 기온 상승, 해수면 상승, 극단적인 기상 현상 증가 등 다양한 형태로 나타나고 있다. 이러한 변화는 인류의 생존과 미래에 중대한 영향을 미치며, 이를 해결하기 위한 노력이 시급하다. 본 에세이에서는 기후 변화의 주된 원인과 그 해결 방안을 구체적으로 살펴보겠다.\n",
      "\n",
      "기후 변화의 주된 원인은 인간 활동에 의해 발생하는 온실가스의 배출이다. 특히, 화석 연료의 연소, 산업 활동, 농업 및 임업 등에서 발생하는 이산화탄소(CO2), 메탄(CH4), 아산화질소(N2O) 등의 온실가스가 대기 중에 축적되어 지구의 온도를 상승시키고 있다. 예를 들어, 2021년 기준으로 전 세계 이산화탄소 배출량은 약 36.4 기가톤에 달하며, 이는 2010년 대비 약 60% 증가한 수치이다. 이러한 배출량 증가는 기후 변화의 가속화에 직접적인 영향을 미치고 있다.\n",
      "\n",
      "기후 변화의 해결 방안은 여러 가지가 있지만, 가장 효과적인 방법은 온실가스 배출을 줄이는 것이다. 이를 위해 다음과 같은 10가지 이상의 구체적인 방안을 제시할 수 있다.\n",
      "\n",
      "1. **재생 가능 에너지의 사용 확대**: 태양광, 풍력, 수력 등 청정 에너지원으로의 전환은 화석 연료 의존도를 줄이고, 온실가스 배출을 감소시킬 수 있다.\n",
      "\n",
      "2. **에너지 효율성 향상**: 건물, 교통수단, 산업 공정에서 에너지를 절약하는 기술을 개발하고 보급하여 전체적인 에너지 소비를 줄인다.\n",
      "\n",
      "3. **지속 가능한 농업 및 임업 실천**: 토양의 탄소 저장 능력을 높이고, 생물 다양성을 보호하며, 기후 변화에 대한 적응력을 강화하는 농업 및 임업 방법을 채택한다.\n",
      "\n",
      "4. **전기차 및 대중교통 이용 촉진**: 전기차의 보급을 늘리고, 대중교통 시스템을 개선하여 개인 차량 사용을 줄인다.\n",
      "\n",
      "5. **탄소 가격제 도입**: 탄소 배출에 대한 가격을 책정하여 기업과 개인이 온실가스를 줄이도록 유도한다.\n",
      "\n",
      "6. **산업 공정의 혁신**: 산업에서 발생하는 온실가스를 줄이기 위한 새로운 기술과 공정을 개발한다.\n",
      "\n",
      "7. **폐기물 관리 개선**: 재활용과 퇴비화를 통해 폐기물에서 발생하는 메탄가스를 줄인다.\n",
      "\n",
      "8. **녹지 공간 확대**: 도시 내 공원과 녹지 공간을 늘려 대기 중 이산화탄소를 흡수하고, 생물 다양성을 증진시킨다.\n",
      "\n",
      "9. **기후 변화 교육 및 인식 개선**: 개인과 지역 사회의 기후 변화에 대한 인식을 높이고, 행동 변화를 유도하는 교육과 캠페인을 실시한다.\n",
      "\n",
      "10. **국제 협력 강화**: 기후 변화는 국경을 초월하는 문제이므로, 각국이 협력하여 공동의 목표를 설정하고, 기술과 자원을 공유하는 것이 중요하다.\n",
      "\n",
      "11. **탄소 포집 및 저장 기술 개발**: 대기 중 이산화탄소를 포집하고 저장하는 기술을 개발하여 이미 배출된 온실가스를 줄인다.\n",
      "\n",
      "12. **지속 가능한 소비 촉진**: 소비자들이 지속 가능한 제품을 선택하도록 유도하고, 기업들이 환경 친화적인 제품을 생산하도록 장려한다.\n",
      "\n",
      "결론적으로, 기후 변화는 인류의 생존과 미래에 중대한 영향을 미치는 문제이다. 이를 해결하기 위해서는 개인, 기업, 정부가 함께 노력하여 지속 가능한 사회를 만들어 나가야 한다. 기후 변화에 대한 적극적인 대응은 단순히 환경 보호를 넘어, 인류의 건강과 경제적 안정성을 지키는 길임을 잊지 말아야 한다. 기후 변화의 심각성을 인식하고, 구체적인 해결 방안을 실천하는 것이 우리 모두의 책임이다.\n"
     ]
    }
   ],
   "source": [
    "# 피드백 작성 (여기서는 사람이 수동으로 평가하여 문자열 작성한다고 가정)\n",
    "feedback = (\n",
    "    \"피드백:\\n\"\n",
    "    \" - 서론에서 주제 소개가 부족합니다.\\n\"\n",
    "    \" - 원인에 대한 설명이 모호하며 구체적 예시와 근거를 제시할 통계자료가 없습니다.\\n\"\n",
    "    \" - 해결 방안을 최소 10가지 이상 제시해주세요.\\n\"\n",
    "    \"위 사항을 반영하여 에세이를 수정해주세요.\"\n",
    ")\n",
    "# 개선 프롬프트 구성\n",
    "retry_prompt = res2.choices[0].message.content + \"\\n\\n\" + feedback\n",
    "response_essay2 = client.chat.completions.create(\n",
    "    messages=[\n",
    "        {\"role\": \"user\", \"content\": retry_prompt}\n",
    "    ],\n",
    "    model=\"gpt-4o-mini\",\n",
    "    temperature=0\n",
    ")\n",
    "essay2 = response_essay2.choices[0].message.content\n",
    "print(\"2차 에세이:\\n\", essay2)"
   ]
  },
  {
   "cell_type": "code",
   "execution_count": null,
   "id": "7d97267b",
   "metadata": {},
   "outputs": [],
   "source": [
    "\n",
    "\n",
    "\n",
    "\n",
    "\n",
    "\n",
    "\n",
    "\n",
    "\n",
    "\n",
    "\n",
    "\n",
    "\n",
    "\n",
    "\n",
    "\n",
    "\n",
    "\n",
    "\n",
    "\n",
    "\n",
    "\n",
    "\n",
    "\n",
    "\n",
    "\n",
    "\n",
    "\n",
    "\n",
    "\n",
    "\n",
    "\n",
    "\n",
    "\n",
    "\n",
    "\n",
    "\n",
    "\n",
    "\n",
    "\n",
    "\n",
    "\n",
    "\n",
    "\n",
    "\n",
    "\n",
    "\n",
    "\n",
    "\n",
    "\n",
    "\n",
    "\n",
    "\n",
    "\n"
   ]
  }
 ],
 "metadata": {
  "kernelspec": {
   "display_name": "prompting_env",
   "language": "python",
   "name": "python3"
  },
  "language_info": {
   "codemirror_mode": {
    "name": "ipython",
    "version": 3
   },
   "file_extension": ".py",
   "mimetype": "text/x-python",
   "name": "python",
   "nbconvert_exporter": "python",
   "pygments_lexer": "ipython3",
   "version": "3.12.11"
  }
 },
 "nbformat": 4,
 "nbformat_minor": 5
}
