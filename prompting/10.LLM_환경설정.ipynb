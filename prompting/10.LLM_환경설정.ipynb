{
 "cells": [
  {
   "cell_type": "code",
   "execution_count": 1,
   "id": "12de1a0e",
   "metadata": {},
   "outputs": [
    {
     "name": "stdout",
     "output_type": "stream",
     "text": [
      "Requirement already satisfied: langchain-upstage in c:\\users\\admin\\miniconda3\\envs\\prompting_env\\lib\\site-packages (0.7.3)\n",
      "Requirement already satisfied: langchain-core<0.4.0,>=0.3.29 in c:\\users\\admin\\miniconda3\\envs\\prompting_env\\lib\\site-packages (from langchain-upstage) (0.3.75)\n",
      "Requirement already satisfied: langchain-openai<0.4,>=0.3 in c:\\users\\admin\\miniconda3\\envs\\prompting_env\\lib\\site-packages (from langchain-upstage) (0.3.31)\n",
      "Requirement already satisfied: pypdf<5.0.0,>=4.2.0 in c:\\users\\admin\\miniconda3\\envs\\prompting_env\\lib\\site-packages (from langchain-upstage) (4.3.1)\n",
      "Requirement already satisfied: requests<3.0.0,>=2.31.0 in c:\\users\\admin\\miniconda3\\envs\\prompting_env\\lib\\site-packages (from langchain-upstage) (2.32.5)\n",
      "Requirement already satisfied: tokenizers<0.21.0,>=0.20.0 in c:\\users\\admin\\miniconda3\\envs\\prompting_env\\lib\\site-packages (from langchain-upstage) (0.20.3)\n",
      "Requirement already satisfied: langsmith>=0.3.45 in c:\\users\\admin\\miniconda3\\envs\\prompting_env\\lib\\site-packages (from langchain-core<0.4.0,>=0.3.29->langchain-upstage) (0.4.15)\n",
      "Requirement already satisfied: tenacity!=8.4.0,<10.0.0,>=8.1.0 in c:\\users\\admin\\miniconda3\\envs\\prompting_env\\lib\\site-packages (from langchain-core<0.4.0,>=0.3.29->langchain-upstage) (9.1.2)\n",
      "Requirement already satisfied: jsonpatch<2.0,>=1.33 in c:\\users\\admin\\miniconda3\\envs\\prompting_env\\lib\\site-packages (from langchain-core<0.4.0,>=0.3.29->langchain-upstage) (1.33)\n",
      "Requirement already satisfied: PyYAML>=5.3 in c:\\users\\admin\\miniconda3\\envs\\prompting_env\\lib\\site-packages (from langchain-core<0.4.0,>=0.3.29->langchain-upstage) (6.0.2)\n",
      "Requirement already satisfied: typing-extensions>=4.7 in c:\\users\\admin\\miniconda3\\envs\\prompting_env\\lib\\site-packages (from langchain-core<0.4.0,>=0.3.29->langchain-upstage) (4.14.1)\n",
      "Requirement already satisfied: packaging>=23.2 in c:\\users\\admin\\miniconda3\\envs\\prompting_env\\lib\\site-packages (from langchain-core<0.4.0,>=0.3.29->langchain-upstage) (25.0)\n",
      "Requirement already satisfied: pydantic>=2.7.4 in c:\\users\\admin\\miniconda3\\envs\\prompting_env\\lib\\site-packages (from langchain-core<0.4.0,>=0.3.29->langchain-upstage) (2.11.7)\n",
      "Requirement already satisfied: jsonpointer>=1.9 in c:\\users\\admin\\miniconda3\\envs\\prompting_env\\lib\\site-packages (from jsonpatch<2.0,>=1.33->langchain-core<0.4.0,>=0.3.29->langchain-upstage) (3.0.0)\n",
      "Requirement already satisfied: openai<2.0.0,>=1.99.9 in c:\\users\\admin\\miniconda3\\envs\\prompting_env\\lib\\site-packages (from langchain-openai<0.4,>=0.3->langchain-upstage) (1.101.0)\n",
      "Requirement already satisfied: tiktoken<1,>=0.7 in c:\\users\\admin\\miniconda3\\envs\\prompting_env\\lib\\site-packages (from langchain-openai<0.4,>=0.3->langchain-upstage) (0.11.0)\n",
      "Requirement already satisfied: anyio<5,>=3.5.0 in c:\\users\\admin\\miniconda3\\envs\\prompting_env\\lib\\site-packages (from openai<2.0.0,>=1.99.9->langchain-openai<0.4,>=0.3->langchain-upstage) (4.10.0)\n",
      "Requirement already satisfied: distro<2,>=1.7.0 in c:\\users\\admin\\miniconda3\\envs\\prompting_env\\lib\\site-packages (from openai<2.0.0,>=1.99.9->langchain-openai<0.4,>=0.3->langchain-upstage) (1.9.0)\n",
      "Requirement already satisfied: httpx<1,>=0.23.0 in c:\\users\\admin\\miniconda3\\envs\\prompting_env\\lib\\site-packages (from openai<2.0.0,>=1.99.9->langchain-openai<0.4,>=0.3->langchain-upstage) (0.28.1)\n",
      "Requirement already satisfied: jiter<1,>=0.4.0 in c:\\users\\admin\\miniconda3\\envs\\prompting_env\\lib\\site-packages (from openai<2.0.0,>=1.99.9->langchain-openai<0.4,>=0.3->langchain-upstage) (0.10.0)\n",
      "Requirement already satisfied: sniffio in c:\\users\\admin\\miniconda3\\envs\\prompting_env\\lib\\site-packages (from openai<2.0.0,>=1.99.9->langchain-openai<0.4,>=0.3->langchain-upstage) (1.3.1)\n",
      "Requirement already satisfied: tqdm>4 in c:\\users\\admin\\miniconda3\\envs\\prompting_env\\lib\\site-packages (from openai<2.0.0,>=1.99.9->langchain-openai<0.4,>=0.3->langchain-upstage) (4.67.1)\n",
      "Requirement already satisfied: idna>=2.8 in c:\\users\\admin\\miniconda3\\envs\\prompting_env\\lib\\site-packages (from anyio<5,>=3.5.0->openai<2.0.0,>=1.99.9->langchain-openai<0.4,>=0.3->langchain-upstage) (3.10)\n",
      "Requirement already satisfied: certifi in c:\\users\\admin\\miniconda3\\envs\\prompting_env\\lib\\site-packages (from httpx<1,>=0.23.0->openai<2.0.0,>=1.99.9->langchain-openai<0.4,>=0.3->langchain-upstage) (2025.8.3)\n",
      "Requirement already satisfied: httpcore==1.* in c:\\users\\admin\\miniconda3\\envs\\prompting_env\\lib\\site-packages (from httpx<1,>=0.23.0->openai<2.0.0,>=1.99.9->langchain-openai<0.4,>=0.3->langchain-upstage) (1.0.9)\n",
      "Requirement already satisfied: h11>=0.16 in c:\\users\\admin\\miniconda3\\envs\\prompting_env\\lib\\site-packages (from httpcore==1.*->httpx<1,>=0.23.0->openai<2.0.0,>=1.99.9->langchain-openai<0.4,>=0.3->langchain-upstage) (0.16.0)\n",
      "Requirement already satisfied: annotated-types>=0.6.0 in c:\\users\\admin\\miniconda3\\envs\\prompting_env\\lib\\site-packages (from pydantic>=2.7.4->langchain-core<0.4.0,>=0.3.29->langchain-upstage) (0.7.0)\n",
      "Requirement already satisfied: pydantic-core==2.33.2 in c:\\users\\admin\\miniconda3\\envs\\prompting_env\\lib\\site-packages (from pydantic>=2.7.4->langchain-core<0.4.0,>=0.3.29->langchain-upstage) (2.33.2)\n",
      "Requirement already satisfied: typing-inspection>=0.4.0 in c:\\users\\admin\\miniconda3\\envs\\prompting_env\\lib\\site-packages (from pydantic>=2.7.4->langchain-core<0.4.0,>=0.3.29->langchain-upstage) (0.4.1)\n",
      "Requirement already satisfied: charset_normalizer<4,>=2 in c:\\users\\admin\\miniconda3\\envs\\prompting_env\\lib\\site-packages (from requests<3.0.0,>=2.31.0->langchain-upstage) (3.4.3)\n",
      "Requirement already satisfied: urllib3<3,>=1.21.1 in c:\\users\\admin\\miniconda3\\envs\\prompting_env\\lib\\site-packages (from requests<3.0.0,>=2.31.0->langchain-upstage) (2.5.0)\n",
      "Requirement already satisfied: regex>=2022.1.18 in c:\\users\\admin\\miniconda3\\envs\\prompting_env\\lib\\site-packages (from tiktoken<1,>=0.7->langchain-openai<0.4,>=0.3->langchain-upstage) (2025.7.34)\n",
      "Requirement already satisfied: huggingface-hub<1.0,>=0.16.4 in c:\\users\\admin\\miniconda3\\envs\\prompting_env\\lib\\site-packages (from tokenizers<0.21.0,>=0.20.0->langchain-upstage) (0.34.4)\n",
      "Requirement already satisfied: filelock in c:\\users\\admin\\miniconda3\\envs\\prompting_env\\lib\\site-packages (from huggingface-hub<1.0,>=0.16.4->tokenizers<0.21.0,>=0.20.0->langchain-upstage) (3.19.1)\n",
      "Requirement already satisfied: fsspec>=2023.5.0 in c:\\users\\admin\\miniconda3\\envs\\prompting_env\\lib\\site-packages (from huggingface-hub<1.0,>=0.16.4->tokenizers<0.21.0,>=0.20.0->langchain-upstage) (2025.7.0)\n",
      "Requirement already satisfied: orjson>=3.9.14 in c:\\users\\admin\\miniconda3\\envs\\prompting_env\\lib\\site-packages (from langsmith>=0.3.45->langchain-core<0.4.0,>=0.3.29->langchain-upstage) (3.11.2)\n",
      "Requirement already satisfied: requests-toolbelt>=1.0.0 in c:\\users\\admin\\miniconda3\\envs\\prompting_env\\lib\\site-packages (from langsmith>=0.3.45->langchain-core<0.4.0,>=0.3.29->langchain-upstage) (1.0.0)\n",
      "Requirement already satisfied: zstandard>=0.23.0 in c:\\users\\admin\\miniconda3\\envs\\prompting_env\\lib\\site-packages (from langsmith>=0.3.45->langchain-core<0.4.0,>=0.3.29->langchain-upstage) (0.24.0)\n",
      "Requirement already satisfied: colorama in c:\\users\\admin\\miniconda3\\envs\\prompting_env\\lib\\site-packages (from tqdm>4->openai<2.0.0,>=1.99.9->langchain-openai<0.4,>=0.3->langchain-upstage) (0.4.6)\n"
     ]
    }
   ],
   "source": [
    "!pip install langchain-upstage"
   ]
  },
  {
   "cell_type": "code",
   "execution_count": 4,
   "id": "f7f97fda",
   "metadata": {},
   "outputs": [],
   "source": [
    "from dotenv import load_dotenv\n",
    "import os\n",
    "from openai import OpenAI\n",
    "import langchain \n",
    "load_dotenv()\n",
    "api_key = os.getenv(\"UPSTAGE_API_KEY\")"
   ]
  },
  {
   "cell_type": "code",
   "execution_count": 5,
   "id": "27c6fc1d",
   "metadata": {},
   "outputs": [
    {
     "name": "stdout",
     "output_type": "stream",
     "text": [
      "content=\"Hello! I'm just a large language model, so I don't have feelings, but I'm here and ready to help you. How can I assist you today? Is there something you'd like to talk about or ask? 😊\" additional_kwargs={'refusal': None} response_metadata={'token_usage': {'completion_tokens': 49, 'prompt_tokens': 20, 'total_tokens': 69, 'completion_tokens_details': {'accepted_prediction_tokens': 0, 'audio_tokens': 0, 'reasoning_tokens': 0, 'rejected_prediction_tokens': 0}, 'prompt_tokens_details': {'audio_tokens': 0, 'cached_tokens': 0}}, 'model_name': 'solar-pro2-250710', 'system_fingerprint': None, 'id': 'ed481369-8c46-4c60-b1fb-68714d22968d', 'service_tier': None, 'finish_reason': 'stop', 'logprobs': None} id='run--1bae47d1-d71f-4675-9697-f1e4b459b9a6-0' usage_metadata={'input_tokens': 20, 'output_tokens': 49, 'total_tokens': 69, 'input_token_details': {'audio': 0, 'cache_read': 0}, 'output_token_details': {'audio': 0, 'reasoning': 0}}\n"
     ]
    }
   ],
   "source": [
    "# pip install -qU langchain-core langchain-upstage\n",
    " \n",
    "from langchain_upstage import ChatUpstage\n",
    "from langchain_core.messages import HumanMessage\n",
    " \n",
    "chat = ChatUpstage(api_key=api_key, model=\"solar-pro2\")\n",
    " \n",
    "messages = [\n",
    "    HumanMessage(\n",
    "        content=\"Hi, how are you?\"\n",
    "    )\n",
    "]\n",
    " \n",
    "response = chat.invoke(messages)\n",
    "print(response)"
   ]
  },
  {
   "cell_type": "code",
   "execution_count": null,
   "id": "1b8ac8f0",
   "metadata": {},
   "outputs": [],
   "source": [
    "from langchain_community.chat_models import ChatOllama\n",
    "\n",
    "llm_ollma = ChatOllama(model = 'gemma2')\n",
    "response = llm_ollama.invoke(\"안녕? 네 소개를 2줄로 작성해\")\n",
    "response.content"
   ]
  },
  {
   "cell_type": "code",
   "execution_count": null,
   "id": "c2753ad1",
   "metadata": {},
   "outputs": [],
   "source": []
  }
 ],
 "metadata": {
  "kernelspec": {
   "display_name": "prompting_env",
   "language": "python",
   "name": "python3"
  },
  "language_info": {
   "codemirror_mode": {
    "name": "ipython",
    "version": 3
   },
   "file_extension": ".py",
   "mimetype": "text/x-python",
   "name": "python",
   "nbconvert_exporter": "python",
   "pygments_lexer": "ipython3",
   "version": "3.12.11"
  }
 },
 "nbformat": 4,
 "nbformat_minor": 5
}
