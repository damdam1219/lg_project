{
 "cells": [
  {
   "cell_type": "code",
   "execution_count": 1,
   "id": "d4940470",
   "metadata": {},
   "outputs": [],
   "source": [
    "from langchain_openai import ChatOpenAI\n",
    "llm = ChatOpenAI(model = 'gpt-4o-mini')"
   ]
  },
  {
   "cell_type": "code",
   "execution_count": 9,
   "id": "40ae4ef6",
   "metadata": {},
   "outputs": [],
   "source": [
    "from langchain.prompts import PromptTemplate\n",
    "template = PromptTemplate.from_template(\"{city}에서 {adj}{topic}을 알려주세요\")\n",
    "prompt = template.format(city ='서울', adj = '유명한', topic ='맛집')"
   ]
  },
  {
   "cell_type": "code",
   "execution_count": 10,
   "id": "46851dfa",
   "metadata": {},
   "outputs": [
    {
     "data": {
      "text/plain": [
       "AIMessage(content='서울에는 많은 유명한 맛집이 있습니다. 몇 가지 추천드릴게요.\\n\\n1. **광장시장** - 다양한 한국 전통 음식을 맛볼 수 있는 곳으로, 빈대떡, 마약김밥, 축산물 등 여러 가지 먹거리를 즐길 수 있습니다.\\n\\n2. **이태원 더 부엌** - 이태원에 위치한 이곳은 다양한 창작 요리와 아시아 퓨전 요리를 제공합니다. 분위기도 좋고 데이트 장소로 인기입니다.\\n\\n3. **명동교자** - 명동에 위치한 이곳은 칼국수가 유명한 집으로, 특제 육수와 함께하는 면발이 일품입니다.\\n\\n4. **삼청동 수제비** - 수제비 전문점으로, 깊고 진한 국물의 수제비가 유명합니다. 아늑한 분위기에서 식사를 할 수 있습니다.\\n\\n5. **신사동 가로수길의 브런치 카페** - 다양한 브런치 메뉴를 제공하는 카페들이 많습니다. 특히, 밀크바나나 팬케이크가 인기가 많습니다.\\n\\n6. **홍대의 소고기 한판** - 고급 소고기를 저렴한 가격에 즐길 수 있는 곳으로, 테라스 자리도 있어 분위기 좋은 저녁 식사를 할 수 있습니다.\\n\\n이 외에도 서울에는 다양한 맛집이 많이 있으니, 취향에 맞춰 방문해 보세요!', additional_kwargs={'refusal': None}, response_metadata={'token_usage': {'completion_tokens': 314, 'prompt_tokens': 16, 'total_tokens': 330, 'completion_tokens_details': {'accepted_prediction_tokens': 0, 'audio_tokens': 0, 'reasoning_tokens': 0, 'rejected_prediction_tokens': 0}, 'prompt_tokens_details': {'audio_tokens': 0, 'cached_tokens': 0}}, 'model_name': 'gpt-4o-mini-2024-07-18', 'system_fingerprint': 'fp_8bda4d3a2c', 'id': 'chatcmpl-CDLv7qXxM5tzU8r15LwvqlJQKbHYY', 'service_tier': 'default', 'finish_reason': 'stop', 'logprobs': None}, id='run--e3cc6567-dd08-4b04-ae7a-eff5f9acbd7c-0', usage_metadata={'input_tokens': 16, 'output_tokens': 314, 'total_tokens': 330, 'input_token_details': {'audio': 0, 'cache_read': 0}, 'output_token_details': {'audio': 0, 'reasoning': 0}})"
      ]
     },
     "execution_count": 10,
     "metadata": {},
     "output_type": "execute_result"
    }
   ],
   "source": [
    "response = llm.invoke(prompt)\n",
    "response"
   ]
  },
  {
   "cell_type": "code",
   "execution_count": 11,
   "id": "427b75f7",
   "metadata": {},
   "outputs": [
    {
     "data": {
      "text/plain": [
       "'서울에는 많은 유명한 맛집이 있습니다. 몇 가지 추천드릴게요.\\n\\n1. **광장시장** - 다양한 한국 전통 음식을 맛볼 수 있는 곳으로, 빈대떡, 마약김밥, 축산물 등 여러 가지 먹거리를 즐길 수 있습니다.\\n\\n2. **이태원 더 부엌** - 이태원에 위치한 이곳은 다양한 창작 요리와 아시아 퓨전 요리를 제공합니다. 분위기도 좋고 데이트 장소로 인기입니다.\\n\\n3. **명동교자** - 명동에 위치한 이곳은 칼국수가 유명한 집으로, 특제 육수와 함께하는 면발이 일품입니다.\\n\\n4. **삼청동 수제비** - 수제비 전문점으로, 깊고 진한 국물의 수제비가 유명합니다. 아늑한 분위기에서 식사를 할 수 있습니다.\\n\\n5. **신사동 가로수길의 브런치 카페** - 다양한 브런치 메뉴를 제공하는 카페들이 많습니다. 특히, 밀크바나나 팬케이크가 인기가 많습니다.\\n\\n6. **홍대의 소고기 한판** - 고급 소고기를 저렴한 가격에 즐길 수 있는 곳으로, 테라스 자리도 있어 분위기 좋은 저녁 식사를 할 수 있습니다.\\n\\n이 외에도 서울에는 다양한 맛집이 많이 있으니, 취향에 맞춰 방문해 보세요!'"
      ]
     },
     "execution_count": 11,
     "metadata": {},
     "output_type": "execute_result"
    }
   ],
   "source": [
    "response.content"
   ]
  },
  {
   "cell_type": "code",
   "execution_count": 12,
   "id": "608f52e4",
   "metadata": {},
   "outputs": [],
   "source": [
    "# template save\n",
    "template.save('restaurant_tour_prompt.json')"
   ]
  },
  {
   "cell_type": "code",
   "execution_count": 27,
   "id": "d4d5a08d",
   "metadata": {},
   "outputs": [
    {
     "name": "stdout",
     "output_type": "stream",
     "text": [
      "부산에서 가장 멋진박물관을 알려주세요\n"
     ]
    }
   ],
   "source": [
    "from langchain.prompts import load_prompt\n",
    "\n",
    "# 1. JSON 파일 경로 지정 (실제 파일명이 'restaurant_tour_prompt.json'이라고 가정)\n",
    "# 이 파일은 사용자가 직접 만들어야 합니다.\n",
    "# (예: {\"_type\": \"prompt\", \"input_variables\": [\"city\", \"adj\", \"topic\"], \"template\": \"{adj} {city}의 {topic} 여행 코스를 추천해줘.\"})\n",
    "# 파일이 없으면 FileNotFoundError가 발생합니다.\n",
    "\n",
    "# 2. 올바른 변수명 사용: load_prompt의 반환값을 변수(temp1)에 할당\n",
    "temp1 = load_prompt(\"restaurant_tour_prompt.json\")\n",
    "\n",
    "# 3. 변수를 사용하여 .format() 메서드 호출\n",
    "prompt = temp1.format(city='부산', adj='가장 멋진', topic='박물관')\n",
    "\n",
    "# 4. 결과 출력\n",
    "print(prompt)"
   ]
  },
  {
   "cell_type": "code",
   "execution_count": 20,
   "id": "f9c1dfa5",
   "metadata": {},
   "outputs": [
    {
     "name": "stdout",
     "output_type": "stream",
     "text": [
      "input_variables=['place', 'question', 'travel', 'when'] input_types={} partial_variables={} messages=[SystemMessagePromptTemplate(prompt=PromptTemplate(input_variables=[], input_types={}, partial_variables={}, template='당신은 베테랑 여행 가이드 입니다, 고객 맞춤 여행 일정 수립을 도와드립니다.'), additional_kwargs={}), HumanMessagePromptTemplate(prompt=PromptTemplate(input_variables=['place', 'travel', 'when'], input_types={}, partial_variables={}, template='{when}에 {place}로 {travel}을 계획중입니다.'), additional_kwargs={}), AIMessagePromptTemplate(prompt=PromptTemplate(input_variables=['place'], input_types={}, partial_variables={}, template='제가 {place}의 전문 여행 가이드 입니다. 어떤 도움이 필요하세요?'), additional_kwargs={}), HumanMessagePromptTemplate(prompt=PromptTemplate(input_variables=['question'], input_types={}, partial_variables={}, template='{question}'), additional_kwargs={})]\n"
     ]
    }
   ],
   "source": [
    "from langchain.prompts import ChatPromptTemplate\n",
    "\n",
    "template = ChatPromptTemplate.from_messages([\n",
    "    ('system', '당신은 베테랑 여행 가이드 입니다, 고객 맞춤 여행 일정 수립을 도와드립니다.'),\n",
    "    ('human', '{when}에 {place}로 {travel}을 계획중입니다.'),\n",
    "    ('ai', '제가 {place}의 전문 여행 가이드 입니다. 어떤 도움이 필요하세요?'),\n",
    "    ('human', '{question}')\n",
    "])\n",
    "\n",
    "print(template)"
   ]
  },
  {
   "cell_type": "code",
   "execution_count": 23,
   "id": "97a52d18",
   "metadata": {},
   "outputs": [
    {
     "name": "stdout",
     "output_type": "stream",
     "text": [
      "[SystemMessage(content='당신은 베테랑 여행 가이드 입니다, 고객 맞춤 여행 일정 수립을 도와드립니다.', additional_kwargs={}, response_metadata={}), HumanMessage(content='가을에 제주로 자유여행을 계획중입니다.', additional_kwargs={}, response_metadata={}), AIMessage(content='제가 제주의 전문 여행 가이드 입니다. 어떤 도움이 필요하세요?', additional_kwargs={}, response_metadata={}), HumanMessage(content='', additional_kwargs={}, response_metadata={})]\n"
     ]
    }
   ],
   "source": [
    "from langchain.prompts import ChatPromptTemplate\n",
    "\n",
    "# 1. 템플릿 생성\n",
    "chat_template = ChatPromptTemplate.from_messages([\n",
    "    ('system', '당신은 베테랑 여행 가이드 입니다, 고객 맞춤 여행 일정 수립을 도와드립니다.'),\n",
    "    ('human', '{when}에 {place}로 {travel}을 계획중입니다.'),\n",
    "    ('ai', '제가 {place}의 전문 여행 가이드 입니다. 어떤 도움이 필요하세요?'),\n",
    "    ('human', '{question}')\n",
    "])\n",
    "\n",
    "# 2. 템플릿에 변수(variable) 채우기\n",
    "final_prompt = chat_template.format_messages(\n",
    "    when='가을', \n",
    "    place='제주', \n",
    "    travel='자유여행', \n",
    "    question=''\n",
    ")\n",
    "\n",
    "# 3. 결과 출력\n",
    "print(final_prompt)"
   ]
  },
  {
   "cell_type": "code",
   "execution_count": 24,
   "id": "b24065a8",
   "metadata": {},
   "outputs": [
    {
     "data": {
      "text/plain": [
       "AIMessage(content='가을 제주 자유여행을 계획하고 계시군요! 제주도의 아름다운 자연과 풍부한 문화유산을 즐기기에 최적의 시기입니다. 여행 일정을 어떻게 짜면 좋을지 몇 가지 추천을 드릴게요. \\n\\n### 3박 4일 제주 가을 여행 일정\\n\\n#### 1일차: 제주에 도착\\n- **오전: 제주 공항 도착**\\n- **점심: 제주 흑돼지 BBQ**\\n  - 제주 흑돼지를 맛볼 수 있는 로컬 전문점 추천\\n- **오후: 한라산 등반**\\n  - 예를 들어 성판악 코스(편도 약 9.6km, 약 4시간 소요)\\n- **저녁: 성산 일출봉 근처에서 석식**\\n  - 해산물 요리나 제주 특산물로 저녁\\n\\n#### 2일차: 동부 제주 탐방\\n- **아침: 우도 섬 투어**\\n  - 배를 타고 우도로 이동, 자전거 대여 추천\\n- **점심: 우도 땅콩 아이스크림**\\n- **오후: 성산일출봉 방문**\\n  - 일출봉 등반 후 주변 카페에서 여유롭게 시간 보내기\\n- **저녁: 동부쪽 해물탕 전문점 탐방**\\n\\n#### 3일차: 서부 제주 탐방\\n- **아침: 협재 해수욕장 또는 금능 해수욕장**\\n  - 해변에서 여유롭게 조식 또는 커피\\n- **오후: 오설록 티 뮤지엄 방문**\\n  - 차 시음 및 다양한 티 제품 체험\\n- **저녁: 한림공원 방문 후 인근 레스토랑에서 저녁식사**\\n  - 제주산 식재료를 활용한 로컬 요리 추천\\n  \\n#### 4일차: 제주 문화 탐방\\n- **아침: 제주 민속촌 또는 제주도립미술관 방문**\\n- **점심: 제주 전통 음식 점심식사**\\n- **오후: 신산공원 또는 용두암 산책**\\n- **저녁: 공항 이동 및 귀국**\\n\\n### 추가 팁:\\n- **렌트카 예약:** 제주도는 대중교통이 불편할 수 있어, 렌트카를 이용하는 것이 추천됩니다.\\n- **가을의 아름다움:** 각종 단풍이 아름답기 때문에, 가을철 제주에서의 산책은 추천합니다.\\n- **현지 정보 찾기:** 제주도 소셜미디어나 각종 관광 웹사이트에서 이벤트나 현지 소식을 확인해보세요.\\n\\n원하는 일정이나 추가하고 싶은 특정 장소가 있으시면 말씀해 주세요!', additional_kwargs={'refusal': None}, response_metadata={'token_usage': {'completion_tokens': 591, 'prompt_tokens': 69, 'total_tokens': 660, 'completion_tokens_details': {'accepted_prediction_tokens': 0, 'audio_tokens': 0, 'reasoning_tokens': 0, 'rejected_prediction_tokens': 0}, 'prompt_tokens_details': {'audio_tokens': 0, 'cached_tokens': 0}}, 'model_name': 'gpt-4o-mini-2024-07-18', 'system_fingerprint': 'fp_8bda4d3a2c', 'id': 'chatcmpl-CDMCsxHdwdfce5nKxrKCqKiW5m50G', 'service_tier': 'default', 'finish_reason': 'stop', 'logprobs': None}, id='run--7dd38c77-d2f4-4bf5-99c7-6e95f362f31c-0', usage_metadata={'input_tokens': 69, 'output_tokens': 591, 'total_tokens': 660, 'input_token_details': {'audio': 0, 'cache_read': 0}, 'output_token_details': {'audio': 0, 'reasoning': 0}})"
      ]
     },
     "execution_count": 24,
     "metadata": {},
     "output_type": "execute_result"
    }
   ],
   "source": [
    "final_response = llm.invoke(final_prompt)\n",
    "final_response"
   ]
  },
  {
   "cell_type": "code",
   "execution_count": 26,
   "id": "c67e7af7",
   "metadata": {},
   "outputs": [
    {
     "name": "stdout",
     "output_type": "stream",
     "text": [
      "당신은 베테랑 여행 가이드입니다. 고객 맞춤 여행 일정 수립을 도와드립니다.\n",
      "12월에 동남아로 가족여행을 계획중입니다.\n"
     ]
    }
   ],
   "source": [
    "from langchain.prompts import PromptTemplate\n",
    "\n",
    "# 1. 템플릿 정의: 올바른 형식으로 PromptTemplate 객체 생성\n",
    "prompt1 = PromptTemplate.from_template(\n",
    "    \"당신은 베테랑 여행 가이드입니다. 고객 맞춤 여행 일정 수립을 도와드립니다.\"\n",
    ")\n",
    "\n",
    "prompt2 = PromptTemplate.from_template(\n",
    "    \"{when}에 {place}로 {travel}을 계획중입니다.\"\n",
    ")\n",
    "\n",
    "# 2. 템플릿 결합: 두 템플릿을 하나의 문자열로 합쳐서 새로운 PromptTemplate 생성\n",
    "concat_prompt = PromptTemplate.from_template(\n",
    "    prompt1.template + \"\\n\" + prompt2.template\n",
    ")\n",
    "\n",
    "# 3. 템플릿 변수 채우기: 변수에 맞는 값을 넣어서 최종 프롬프트 생성\n",
    "final_prompt = concat_prompt.format(\n",
    "    place='동남아', \n",
    "    when='12월', \n",
    "    travel='가족여행'\n",
    ")\n",
    "\n",
    "# 4. 결과 출력\n",
    "print(final_prompt)"
   ]
  },
  {
   "cell_type": "code",
   "execution_count": null,
   "id": "35456fd9",
   "metadata": {},
   "outputs": [],
   "source": []
  }
 ],
 "metadata": {
  "kernelspec": {
   "display_name": "prompting_env",
   "language": "python",
   "name": "python3"
  },
  "language_info": {
   "codemirror_mode": {
    "name": "ipython",
    "version": 3
   },
   "file_extension": ".py",
   "mimetype": "text/x-python",
   "name": "python",
   "nbconvert_exporter": "python",
   "pygments_lexer": "ipython3",
   "version": "3.12.11"
  }
 },
 "nbformat": 4,
 "nbformat_minor": 5
}
