{
 "cells": [
  {
   "cell_type": "code",
   "execution_count": 1,
   "id": "f8f6cb58",
   "metadata": {},
   "outputs": [],
   "source": [
    "from langchain_openai import ChatOpenAI\n",
    "llm = ChatOpenAI(model = 'gpt-4o-mini')"
   ]
  },
  {
   "cell_type": "code",
   "execution_count": null,
   "id": "16b137bd",
   "metadata": {},
   "outputs": [
    {
     "data": {
      "text/plain": [
       "AIMessage(content='서울에서 지역 특색을 살린 음식을 맛볼 수 있는 레스토랑 5곳을 추천해 드릴게요.\\n\\n1. **광장시장** - 이곳은 다양한 한국 전통 음식이 모여 있는 시장으로, 빈대떡, 떡볶이, 순대 등 여러 음식을 한 자리에서 즐길 수 있습니다. 특히, 아는 사람만 아는 맛집도 많아 탐방하는 재미가 있습니다.\\n\\n2. **한라산** - 제주도 음식을 서울에서 맛볼 수 있는 곳으로, 신선한 해산물과 제주 흑돼지 요리를 즐길 수 있습니다. 고유의 제주 음식 복합적인 맛을 경험할 수 있는 리얼 제주 음식점을 찾는다면 추천드립니다.\\n\\n3. **정식당** - 한식의 현대적 해석을 시도한 미슐랭 스타 레스토랑으로, 정갈한 상차림과 함께 한국 전통 재료를 사용한 창의적인 요리를 제공합니다.\\n\\n4. **마포갈매기** - 서울에서 대표적인 고기 전문점으로, 특히 갈매기살이 유명합니다. 신선한 고기를 숯불에 구워서 먹는 맛이 일품입니다.\\n\\n5. **토속떡집** - 전통 떡과 함께 한국의 다양한 전통 음식을 선보이는 곳입니다. 떡과 함께 한국의 여러 찌개나 반찬을 경험할 수 있습니다.\\n\\n이곳들은 각각의 특색과 맛을 자랑하는 장소들이니 한 번 방문해 보시길 추천드립니다!', additional_kwargs={'refusal': None}, response_metadata={'token_usage': {'completion_tokens': 337, 'prompt_tokens': 26, 'total_tokens': 363, 'completion_tokens_details': {'accepted_prediction_tokens': 0, 'audio_tokens': 0, 'reasoning_tokens': 0, 'rejected_prediction_tokens': 0}, 'prompt_tokens_details': {'audio_tokens': 0, 'cached_tokens': 0}}, 'model_name': 'gpt-4o-mini-2024-07-18', 'system_fingerprint': 'fp_8bda4d3a2c', 'id': 'chatcmpl-CDL5gKk3E8dcMCcZmtaRQRZBGPmyq', 'service_tier': 'default', 'finish_reason': 'stop', 'logprobs': None}, id='run--c84f46c7-14c8-47a8-9820-0fe22e055016-0', usage_metadata={'input_tokens': 26, 'output_tokens': 337, 'total_tokens': 363, 'input_token_details': {'audio': 0, 'cache_read': 0}, 'output_token_details': {'audio': 0, 'reasoning': 0}})"
      ]
     },
     "execution_count": 2,
     "metadata": {},
     "output_type": "execute_result"
    }
   ],
   "source": [
    "# invoke\n",
    "from langchain_core.messages import HumanMessage\n",
    "messages = [\n",
    "    HumanMessage(content = '서울을 대표하는 음식을 맛 볼 수 있는 레스토랑 5개를 추천해주세요')\n",
    "]\n",
    "\n",
    "response = llm.invoke(messages)\n",
    "response"
   ]
  },
  {
   "cell_type": "markdown",
   "id": "b456ce40",
   "metadata": {},
   "source": [
    "# caching\n",
    "\n",
    "- inmemorycache (단점: 세션이 리셋되면 사라져서 db를 사용해야함.)\n",
    "- cache db"
   ]
  },
  {
   "cell_type": "code",
   "execution_count": 4,
   "id": "26332503",
   "metadata": {},
   "outputs": [],
   "source": [
    "from langchain_core.globals import set_llm_cache\n",
    "from langchain_core.caches import InMemoryCache\n",
    "set_llm_cache(InMemoryCache())"
   ]
  },
  {
   "cell_type": "code",
   "execution_count": null,
   "id": "8cfe6d61",
   "metadata": {},
   "outputs": [
    {
     "data": {
      "text/plain": [
       "AIMessage(content='서울에서 대표적인 음식을 맛볼 수 있는 레스토랑을 아래와 같이 추천드립니다:\\n\\n1. **광화문 미진**  \\n   - **음식**: 국수 (특히 냉면)  \\n   - **주소**: 서울특별시 종로구   \\n   - 광화문 근처에 위치한 이곳은 전통적인 냉면과 비빔국수로 유명하며, 깊은 육수 맛이 일품입니다.\\n\\n2. **불고기브라더스**  \\n   - **음식**: 불고기  \\n   - **주소**: 서울특별시 강남구   \\n   - 양념된 고기를 샤브샤브 스타일로 즐길 수 있으며, 고기의 질이 뛰어나고 다양한 사이드 메뉴도 인기가 좋습니다.\\n\\n3. **장충동 왕족발**  \\n   - **음식**: 족발  \\n   - **주소**: 서울특별시 중구   \\n   - 족발의 본고장으로, 특유의 부드럽고 쫄깃한 식감과 맛깔스러운 양념이 매력입니다. \\n\\n4. **신사동 가로수길 원조칼국수**  \\n   - **음식**: 칼국수  \\n   - **주소**: 서울특별시 강남구   \\n   - 신선한 재료로 만든 칼국수와 피조개가 특징인 이곳은 정말 맛있는 전통 면 요리를 제공합니다.\\n\\n5. **춘천닭갈비**  \\n   - **음식**: 닭갈비  \\n   - **주소**: 서울특별시 마포구   \\n   - 매콤한 양념의 닭갈비를 불판에 구워 먹는 경험이 일품이며, 채소와 함께 즐기는 맛도 좋습니다.\\n\\n이 외에도 많은 훌륭한 음식점이 있지만, 이 다섯 곳은 서울의 대표적인 음식을 맛볼 수 있는 곳으로 추천드립니다!', additional_kwargs={'refusal': None}, response_metadata={'token_usage': {'completion_tokens': 434, 'prompt_tokens': 26, 'total_tokens': 460, 'completion_tokens_details': {'accepted_prediction_tokens': 0, 'audio_tokens': 0, 'reasoning_tokens': 0, 'rejected_prediction_tokens': 0}, 'prompt_tokens_details': {'audio_tokens': 0, 'cached_tokens': 0}}, 'model_name': 'gpt-4o-mini-2024-07-18', 'system_fingerprint': 'fp_8bda4d3a2c', 'id': 'chatcmpl-CDL8sJUjkkNqrpj35aUeHfhrmkMCx', 'service_tier': 'default', 'finish_reason': 'stop', 'logprobs': None}, id='run--65d4bee9-4c38-49d0-ac96-09048b0fb9bf-0', usage_metadata={'input_tokens': 26, 'output_tokens': 434, 'total_tokens': 460, 'input_token_details': {'audio': 0, 'cache_read': 0}, 'output_token_details': {'audio': 0, 'reasoning': 0}})"
      ]
     },
     "execution_count": 5,
     "metadata": {},
     "output_type": "execute_result"
    }
   ],
   "source": [
    "response = llm.invoke(messages) # 6.6s\n",
    "response"
   ]
  },
  {
   "cell_type": "code",
   "execution_count": null,
   "id": "beac992d",
   "metadata": {},
   "outputs": [
    {
     "data": {
      "text/plain": [
       "AIMessage(content='서울에서 대표적인 음식을 맛볼 수 있는 레스토랑을 아래와 같이 추천드립니다:\\n\\n1. **광화문 미진**  \\n   - **음식**: 국수 (특히 냉면)  \\n   - **주소**: 서울특별시 종로구   \\n   - 광화문 근처에 위치한 이곳은 전통적인 냉면과 비빔국수로 유명하며, 깊은 육수 맛이 일품입니다.\\n\\n2. **불고기브라더스**  \\n   - **음식**: 불고기  \\n   - **주소**: 서울특별시 강남구   \\n   - 양념된 고기를 샤브샤브 스타일로 즐길 수 있으며, 고기의 질이 뛰어나고 다양한 사이드 메뉴도 인기가 좋습니다.\\n\\n3. **장충동 왕족발**  \\n   - **음식**: 족발  \\n   - **주소**: 서울특별시 중구   \\n   - 족발의 본고장으로, 특유의 부드럽고 쫄깃한 식감과 맛깔스러운 양념이 매력입니다. \\n\\n4. **신사동 가로수길 원조칼국수**  \\n   - **음식**: 칼국수  \\n   - **주소**: 서울특별시 강남구   \\n   - 신선한 재료로 만든 칼국수와 피조개가 특징인 이곳은 정말 맛있는 전통 면 요리를 제공합니다.\\n\\n5. **춘천닭갈비**  \\n   - **음식**: 닭갈비  \\n   - **주소**: 서울특별시 마포구   \\n   - 매콤한 양념의 닭갈비를 불판에 구워 먹는 경험이 일품이며, 채소와 함께 즐기는 맛도 좋습니다.\\n\\n이 외에도 많은 훌륭한 음식점이 있지만, 이 다섯 곳은 서울의 대표적인 음식을 맛볼 수 있는 곳으로 추천드립니다!', additional_kwargs={'refusal': None}, response_metadata={'token_usage': {'completion_tokens': 434, 'prompt_tokens': 26, 'total_tokens': 460, 'completion_tokens_details': {'accepted_prediction_tokens': 0, 'audio_tokens': 0, 'reasoning_tokens': 0, 'rejected_prediction_tokens': 0}, 'prompt_tokens_details': {'audio_tokens': 0, 'cached_tokens': 0}}, 'model_name': 'gpt-4o-mini-2024-07-18', 'system_fingerprint': 'fp_8bda4d3a2c', 'id': 'chatcmpl-CDL8sJUjkkNqrpj35aUeHfhrmkMCx', 'service_tier': 'default', 'finish_reason': 'stop', 'logprobs': None}, id='run--65d4bee9-4c38-49d0-ac96-09048b0fb9bf-0', usage_metadata={'input_tokens': 26, 'output_tokens': 434, 'total_tokens': 460, 'input_token_details': {'audio': 0, 'cache_read': 0}, 'output_token_details': {'audio': 0, 'reasoning': 0}, 'total_cost': 0})"
      ]
     },
     "execution_count": 6,
     "metadata": {},
     "output_type": "execute_result"
    }
   ],
   "source": [
    "response = llm.invoke(messages) # 0.0s : 메시지와 응답이 같음.(메세지가 같아야 함)\n",
    "response"
   ]
  },
  {
   "cell_type": "code",
   "execution_count": null,
   "id": "754d2590",
   "metadata": {},
   "outputs": [],
   "source": [
    "from langchain_openai import ChatOpenAI\n",
    "llm_cache = ChatOpenAI(model = 'gpt-4o-mini', cache= False) # 캐싱을 사용하지 않는 모델"
   ]
  },
  {
   "cell_type": "markdown",
   "id": "dbdf3fd5",
   "metadata": {},
   "source": [
    "# redis cache"
   ]
  },
  {
   "cell_type": "code",
   "execution_count": 7,
   "id": "af21dd5a",
   "metadata": {},
   "outputs": [
    {
     "name": "stdout",
     "output_type": "stream",
     "text": [
      "Collecting redis\n",
      "  Downloading redis-6.4.0-py3-none-any.whl.metadata (10 kB)\n",
      "Downloading redis-6.4.0-py3-none-any.whl (279 kB)\n",
      "Installing collected packages: redis\n",
      "Successfully installed redis-6.4.0\n"
     ]
    }
   ],
   "source": [
    "!pip install redis"
   ]
  },
  {
   "cell_type": "code",
   "execution_count": 8,
   "id": "390ba8b5",
   "metadata": {},
   "outputs": [
    {
     "name": "stdout",
     "output_type": "stream",
     "text": [
      "Collecting langchain-community\n",
      "  Downloading langchain_community-0.3.29-py3-none-any.whl.metadata (2.9 kB)\n",
      "Requirement already satisfied: redis in c:\\users\\admin\\miniconda3\\envs\\prompting_env\\lib\\site-packages (6.4.0)\n",
      "Collecting langchain-core<2.0.0,>=0.3.75 (from langchain-community)\n",
      "  Downloading langchain_core-0.3.75-py3-none-any.whl.metadata (5.7 kB)\n",
      "Requirement already satisfied: langchain<2.0.0,>=0.3.27 in c:\\users\\admin\\miniconda3\\envs\\prompting_env\\lib\\site-packages (from langchain-community) (0.3.27)\n",
      "Requirement already satisfied: SQLAlchemy<3,>=1.4 in c:\\users\\admin\\miniconda3\\envs\\prompting_env\\lib\\site-packages (from langchain-community) (2.0.43)\n",
      "Requirement already satisfied: requests<3,>=2.32.5 in c:\\users\\admin\\miniconda3\\envs\\prompting_env\\lib\\site-packages (from langchain-community) (2.32.5)\n",
      "Requirement already satisfied: PyYAML>=5.3 in c:\\users\\admin\\miniconda3\\envs\\prompting_env\\lib\\site-packages (from langchain-community) (6.0.2)\n",
      "Requirement already satisfied: aiohttp<4.0.0,>=3.8.3 in c:\\users\\admin\\miniconda3\\envs\\prompting_env\\lib\\site-packages (from langchain-community) (3.12.15)\n",
      "Requirement already satisfied: tenacity!=8.4.0,<10,>=8.1.0 in c:\\users\\admin\\miniconda3\\envs\\prompting_env\\lib\\site-packages (from langchain-community) (9.1.2)\n",
      "Requirement already satisfied: dataclasses-json<0.7,>=0.6.7 in c:\\users\\admin\\miniconda3\\envs\\prompting_env\\lib\\site-packages (from langchain-community) (0.6.7)\n",
      "Collecting pydantic-settings<3.0.0,>=2.10.1 (from langchain-community)\n",
      "  Downloading pydantic_settings-2.10.1-py3-none-any.whl.metadata (3.4 kB)\n",
      "Requirement already satisfied: langsmith>=0.1.125 in c:\\users\\admin\\miniconda3\\envs\\prompting_env\\lib\\site-packages (from langchain-community) (0.4.15)\n",
      "Collecting httpx-sse<1.0.0,>=0.4.0 (from langchain-community)\n",
      "  Downloading httpx_sse-0.4.1-py3-none-any.whl.metadata (9.4 kB)\n",
      "Requirement already satisfied: numpy>=1.26.2 in c:\\users\\admin\\miniconda3\\envs\\prompting_env\\lib\\site-packages (from langchain-community) (2.3.2)\n",
      "Requirement already satisfied: aiohappyeyeballs>=2.5.0 in c:\\users\\admin\\miniconda3\\envs\\prompting_env\\lib\\site-packages (from aiohttp<4.0.0,>=3.8.3->langchain-community) (2.6.1)\n",
      "Requirement already satisfied: aiosignal>=1.4.0 in c:\\users\\admin\\miniconda3\\envs\\prompting_env\\lib\\site-packages (from aiohttp<4.0.0,>=3.8.3->langchain-community) (1.4.0)\n",
      "Requirement already satisfied: attrs>=17.3.0 in c:\\users\\admin\\miniconda3\\envs\\prompting_env\\lib\\site-packages (from aiohttp<4.0.0,>=3.8.3->langchain-community) (25.3.0)\n",
      "Requirement already satisfied: frozenlist>=1.1.1 in c:\\users\\admin\\miniconda3\\envs\\prompting_env\\lib\\site-packages (from aiohttp<4.0.0,>=3.8.3->langchain-community) (1.7.0)\n",
      "Requirement already satisfied: multidict<7.0,>=4.5 in c:\\users\\admin\\miniconda3\\envs\\prompting_env\\lib\\site-packages (from aiohttp<4.0.0,>=3.8.3->langchain-community) (6.6.4)\n",
      "Requirement already satisfied: propcache>=0.2.0 in c:\\users\\admin\\miniconda3\\envs\\prompting_env\\lib\\site-packages (from aiohttp<4.0.0,>=3.8.3->langchain-community) (0.3.2)\n",
      "Requirement already satisfied: yarl<2.0,>=1.17.0 in c:\\users\\admin\\miniconda3\\envs\\prompting_env\\lib\\site-packages (from aiohttp<4.0.0,>=3.8.3->langchain-community) (1.20.1)\n",
      "Requirement already satisfied: marshmallow<4.0.0,>=3.18.0 in c:\\users\\admin\\miniconda3\\envs\\prompting_env\\lib\\site-packages (from dataclasses-json<0.7,>=0.6.7->langchain-community) (3.26.1)\n",
      "Requirement already satisfied: typing-inspect<1,>=0.4.0 in c:\\users\\admin\\miniconda3\\envs\\prompting_env\\lib\\site-packages (from dataclasses-json<0.7,>=0.6.7->langchain-community) (0.9.0)\n",
      "Requirement already satisfied: langchain-text-splitters<1.0.0,>=0.3.9 in c:\\users\\admin\\miniconda3\\envs\\prompting_env\\lib\\site-packages (from langchain<2.0.0,>=0.3.27->langchain-community) (0.3.9)\n",
      "Requirement already satisfied: pydantic<3.0.0,>=2.7.4 in c:\\users\\admin\\miniconda3\\envs\\prompting_env\\lib\\site-packages (from langchain<2.0.0,>=0.3.27->langchain-community) (2.11.7)\n",
      "Requirement already satisfied: jsonpatch<2.0,>=1.33 in c:\\users\\admin\\miniconda3\\envs\\prompting_env\\lib\\site-packages (from langchain-core<2.0.0,>=0.3.75->langchain-community) (1.33)\n",
      "Requirement already satisfied: typing-extensions>=4.7 in c:\\users\\admin\\miniconda3\\envs\\prompting_env\\lib\\site-packages (from langchain-core<2.0.0,>=0.3.75->langchain-community) (4.14.1)\n",
      "Requirement already satisfied: packaging>=23.2 in c:\\users\\admin\\miniconda3\\envs\\prompting_env\\lib\\site-packages (from langchain-core<2.0.0,>=0.3.75->langchain-community) (25.0)\n",
      "Requirement already satisfied: jsonpointer>=1.9 in c:\\users\\admin\\miniconda3\\envs\\prompting_env\\lib\\site-packages (from jsonpatch<2.0,>=1.33->langchain-core<2.0.0,>=0.3.75->langchain-community) (3.0.0)\n",
      "Requirement already satisfied: annotated-types>=0.6.0 in c:\\users\\admin\\miniconda3\\envs\\prompting_env\\lib\\site-packages (from pydantic<3.0.0,>=2.7.4->langchain<2.0.0,>=0.3.27->langchain-community) (0.7.0)\n",
      "Requirement already satisfied: pydantic-core==2.33.2 in c:\\users\\admin\\miniconda3\\envs\\prompting_env\\lib\\site-packages (from pydantic<3.0.0,>=2.7.4->langchain<2.0.0,>=0.3.27->langchain-community) (2.33.2)\n",
      "Requirement already satisfied: typing-inspection>=0.4.0 in c:\\users\\admin\\miniconda3\\envs\\prompting_env\\lib\\site-packages (from pydantic<3.0.0,>=2.7.4->langchain<2.0.0,>=0.3.27->langchain-community) (0.4.1)\n",
      "Requirement already satisfied: python-dotenv>=0.21.0 in c:\\users\\admin\\miniconda3\\envs\\prompting_env\\lib\\site-packages (from pydantic-settings<3.0.0,>=2.10.1->langchain-community) (1.1.1)\n",
      "Requirement already satisfied: charset_normalizer<4,>=2 in c:\\users\\admin\\miniconda3\\envs\\prompting_env\\lib\\site-packages (from requests<3,>=2.32.5->langchain-community) (3.4.3)\n",
      "Requirement already satisfied: idna<4,>=2.5 in c:\\users\\admin\\miniconda3\\envs\\prompting_env\\lib\\site-packages (from requests<3,>=2.32.5->langchain-community) (3.10)\n",
      "Requirement already satisfied: urllib3<3,>=1.21.1 in c:\\users\\admin\\miniconda3\\envs\\prompting_env\\lib\\site-packages (from requests<3,>=2.32.5->langchain-community) (2.5.0)\n",
      "Requirement already satisfied: certifi>=2017.4.17 in c:\\users\\admin\\miniconda3\\envs\\prompting_env\\lib\\site-packages (from requests<3,>=2.32.5->langchain-community) (2025.8.3)\n",
      "Requirement already satisfied: greenlet>=1 in c:\\users\\admin\\miniconda3\\envs\\prompting_env\\lib\\site-packages (from SQLAlchemy<3,>=1.4->langchain-community) (3.2.4)\n",
      "Requirement already satisfied: mypy-extensions>=0.3.0 in c:\\users\\admin\\miniconda3\\envs\\prompting_env\\lib\\site-packages (from typing-inspect<1,>=0.4.0->dataclasses-json<0.7,>=0.6.7->langchain-community) (1.1.0)\n",
      "Requirement already satisfied: httpx<1,>=0.23.0 in c:\\users\\admin\\miniconda3\\envs\\prompting_env\\lib\\site-packages (from langsmith>=0.1.125->langchain-community) (0.28.1)\n",
      "Requirement already satisfied: orjson>=3.9.14 in c:\\users\\admin\\miniconda3\\envs\\prompting_env\\lib\\site-packages (from langsmith>=0.1.125->langchain-community) (3.11.2)\n",
      "Requirement already satisfied: requests-toolbelt>=1.0.0 in c:\\users\\admin\\miniconda3\\envs\\prompting_env\\lib\\site-packages (from langsmith>=0.1.125->langchain-community) (1.0.0)\n",
      "Requirement already satisfied: zstandard>=0.23.0 in c:\\users\\admin\\miniconda3\\envs\\prompting_env\\lib\\site-packages (from langsmith>=0.1.125->langchain-community) (0.24.0)\n",
      "Requirement already satisfied: anyio in c:\\users\\admin\\miniconda3\\envs\\prompting_env\\lib\\site-packages (from httpx<1,>=0.23.0->langsmith>=0.1.125->langchain-community) (4.10.0)\n",
      "Requirement already satisfied: httpcore==1.* in c:\\users\\admin\\miniconda3\\envs\\prompting_env\\lib\\site-packages (from httpx<1,>=0.23.0->langsmith>=0.1.125->langchain-community) (1.0.9)\n",
      "Requirement already satisfied: h11>=0.16 in c:\\users\\admin\\miniconda3\\envs\\prompting_env\\lib\\site-packages (from httpcore==1.*->httpx<1,>=0.23.0->langsmith>=0.1.125->langchain-community) (0.16.0)\n",
      "Requirement already satisfied: sniffio>=1.1 in c:\\users\\admin\\miniconda3\\envs\\prompting_env\\lib\\site-packages (from anyio->httpx<1,>=0.23.0->langsmith>=0.1.125->langchain-community) (1.3.1)\n",
      "Downloading langchain_community-0.3.29-py3-none-any.whl (2.5 MB)\n",
      "   ---------------------------------------- 0.0/2.5 MB ? eta -:--:--\n",
      "   ---------------------------------------- 2.5/2.5 MB 48.3 MB/s  0:00:00\n",
      "Downloading httpx_sse-0.4.1-py3-none-any.whl (8.1 kB)\n",
      "Downloading langchain_core-0.3.75-py3-none-any.whl (443 kB)\n",
      "Downloading pydantic_settings-2.10.1-py3-none-any.whl (45 kB)\n",
      "Installing collected packages: httpx-sse, pydantic-settings, langchain-core, langchain-community\n",
      "\n",
      "  Attempting uninstall: langchain-core\n",
      "\n",
      "    Found existing installation: langchain-core 0.3.74\n",
      "\n",
      "    Uninstalling langchain-core-0.3.74:\n",
      "\n",
      "      Successfully uninstalled langchain-core-0.3.74\n",
      "\n",
      "   -------------------- ------------------- 2/4 [langchain-core]\n",
      "   -------------------- ------------------- 2/4 [langchain-core]\n",
      "   -------------------- ------------------- 2/4 [langchain-core]\n",
      "   ------------------------------ --------- 3/4 [langchain-community]\n",
      "   ------------------------------ --------- 3/4 [langchain-community]\n",
      "   ------------------------------ --------- 3/4 [langchain-community]\n",
      "   ------------------------------ --------- 3/4 [langchain-community]\n",
      "   ------------------------------ --------- 3/4 [langchain-community]\n",
      "   ------------------------------ --------- 3/4 [langchain-community]\n",
      "   ------------------------------ --------- 3/4 [langchain-community]\n",
      "   ------------------------------ --------- 3/4 [langchain-community]\n",
      "   ------------------------------ --------- 3/4 [langchain-community]\n",
      "   ------------------------------ --------- 3/4 [langchain-community]\n",
      "   ------------------------------ --------- 3/4 [langchain-community]\n",
      "   ------------------------------ --------- 3/4 [langchain-community]\n",
      "   ------------------------------ --------- 3/4 [langchain-community]\n",
      "   ------------------------------ --------- 3/4 [langchain-community]\n",
      "   ------------------------------ --------- 3/4 [langchain-community]\n",
      "   ------------------------------ --------- 3/4 [langchain-community]\n",
      "   ------------------------------ --------- 3/4 [langchain-community]\n",
      "   ------------------------------ --------- 3/4 [langchain-community]\n",
      "   ---------------------------------------- 4/4 [langchain-community]\n",
      "\n",
      "Successfully installed httpx-sse-0.4.1 langchain-community-0.3.29 langchain-core-0.3.75 pydantic-settings-2.10.1\n"
     ]
    }
   ],
   "source": [
    "!pip install langchain-community redis"
   ]
  },
  {
   "cell_type": "code",
   "execution_count": 9,
   "id": "1ca54596",
   "metadata": {},
   "outputs": [
    {
     "name": "stdout",
     "output_type": "stream",
     "text": [
      "bar\n"
     ]
    }
   ],
   "source": [
    "\"\"\"Basic connection example.\n",
    "\"\"\"\n",
    "\n",
    "import redis\n",
    "\n",
    "r = redis.Redis(\n",
    "    host='redis-18089.c340.ap-northeast-2-1.ec2.redns.redis-cloud.com',\n",
    "    port=18089,\n",
    "    decode_responses=True,\n",
    "    username=\"default\",\n",
    "    password=\"E3Ws0u78YZS8kRNRZTGfiCVQA1TMwiU0\",\n",
    ")\n",
    "\n",
    "success = r.set('foo', 'bar')\n",
    "# True\n",
    "\n",
    "result = r.get('foo')\n",
    "print(result)\n",
    "# >>> bar"
   ]
  },
  {
   "cell_type": "code",
   "execution_count": 11,
   "id": "c87a43d0",
   "metadata": {},
   "outputs": [],
   "source": [
    "from langchain_community.cache import RedisCache\n",
    "from redis import Redis\n",
    "set_llm_cache(RedisCache(\n",
    "    redis_ =  Redis(\n",
    "        host='redis-18089.c340.ap-northeast-2-1.ec2.redns.redis-cloud.com',\n",
    "        port=,\n",
    "        password=\"\"\n",
    "    )\n",
    "))"
   ]
  },
  {
   "cell_type": "code",
   "execution_count": 12,
   "id": "26f80326",
   "metadata": {},
   "outputs": [],
   "source": [
    "response = llm.invoke(messages)"
   ]
  },
  {
   "cell_type": "code",
   "execution_count": null,
   "id": "77c59c16",
   "metadata": {},
   "outputs": [],
   "source": []
  }
 ],
 "metadata": {
  "kernelspec": {
   "display_name": "prompting_env",
   "language": "python",
   "name": "python3"
  },
  "language_info": {
   "codemirror_mode": {
    "name": "ipython",
    "version": 3
   },
   "file_extension": ".py",
   "mimetype": "text/x-python",
   "name": "python",
   "nbconvert_exporter": "python",
   "pygments_lexer": "ipython3",
   "version": "3.12.11"
  }
 },
 "nbformat": 4,
 "nbformat_minor": 5
}
