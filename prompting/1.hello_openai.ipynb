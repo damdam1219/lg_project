{
 "cells": [
  {
   "cell_type": "code",
   "execution_count": 1,
   "id": "8d3dc5d7",
   "metadata": {},
   "outputs": [
    {
     "name": "stdout",
     "output_type": "stream",
     "text": [
      "API Key configured: True\n"
     ]
    }
   ],
   "source": [
    "from dotenv import load_dotenv\n",
    "import os\n",
    "\n",
    "# .env 파일에서 환경 변수를 불러옵니다.\n",
    "load_dotenv()\n",
    "\n",
    "# 환경 변수 읽기\n",
    "openai_api_key = os.getenv(\"OPENAI_API_KEY\")\n",
    "\n",
    "\n",
    "# OpenAI 라이브러리가 환경 변수에서 키를 읽을 수 있도록 설정\n",
    "if openai_api_key:\n",
    "    os.environ[\"OPENAI_API_KEY\"] = openai_api_key\n",
    "\n",
    "print(\"API Key configured:\", \"OPENAI_API_KEY\" in os.environ)"
   ]
  },
  {
   "cell_type": "code",
   "execution_count": 3,
   "id": "0e201a94",
   "metadata": {},
   "outputs": [
    {
     "data": {
      "text/plain": [
       "'1.101.0'"
      ]
     },
     "execution_count": 3,
     "metadata": {},
     "output_type": "execute_result"
    }
   ],
   "source": [
    "import openai\n",
    "openai.__version__\n"
   ]
  },
  {
   "cell_type": "markdown",
   "id": "e0274202",
   "metadata": {},
   "source": [
    "## chat responses api"
   ]
  },
  {
   "cell_type": "code",
   "execution_count": 7,
   "id": "bb64fd78",
   "metadata": {},
   "outputs": [],
   "source": [
    "from openai import OpenAI\n",
    "client = OpenAI()\n",
    "\n",
    "response = client.responses.create(\n",
    "  model=\"gpt-4o-mini\",\n",
    "  input=[\n",
    "    {\n",
    "      \"role\": \"system\",\n",
    "      \"content\": [\n",
    "        {\n",
    "          \"type\": \"input_text\",\n",
    "          \"text\": \"답변할 때 세부사항을 분류해서 적어줘\"\n",
    "        }\n",
    "      ]\n",
    "    },\n",
    "    {\n",
    "      \"role\": \"user\",\n",
    "      \"content\": [\n",
    "        {\n",
    "          \"type\": \"input_text\",\n",
    "          \"text\": \"하늘은\"\n",
    "        }\n",
    "      ]\n",
    "    },\n",
    "    {\n",
    "      \"role\": \"assistant\",\n",
    "      \"content\": [\n",
    "        {\n",
    "          \"type\": \"output_text\",\n",
    "          \"text\": \"\\\"하늘은\\\"이라는 주제는 여러 가지 다양한 측면에서 다룰 수 있습니다. 아래에 몇 가지 세부 사항을 분류하여 적어보겠습니다.\\n\\n### 1. **하늘의 정의**\\n   - **천체의 개념**: 지구 대기 위에 존재하는 우주 공간.\\n   - **관찰 대상**: 구름, 태양, 달, 별 등 다양한 천체와 대기 현상이 보임.\\n\\n### 2. **하늘의 색**\\n   - **푸른 하늘**: 낮에는 대기 중의 산란 현상으로 인해 파란색.\\n   - **붉은 노을**: 해 질 무렵에 발생하는 붉은색의 하늘.\\n   - **흐린 날**: 구름이 많이 끼거나 비가 내리는 날은 회색으로 보임.\\n\\n### 3. **하늘의 역할**\\n   - **기후와 날씨**: 하늘은 기상 변화의 중요한 요소.\\n   - **생태계**: 생물들이 직접적으로 영향을 받는 환경.\\n\\n### 4. **하늘과 문화**\\n   - **신화와 전설**: 많은 문화에서 하늘은 신이나 신적인 존재와 관련.\\n   - **예술**: 그림, 음악, 문학 등에서 하늘은 자주 표현되는 주제.\\n\\n### 5. **하늘관측**\\n   - **천문학**: 별, 행성 등을 관찰하고 연구하는 학문.\\n   - **항공 및 우주 탐사**: 비행기와 우주선이 하늘을 탐험하는 기술.\\n\\n### 6. **하늘의 변화**\\n   - **기후 변화**: 인간 활동이 하늘과 날씨에 미치는 영향.\\n   - **계절**: 계절별로 하늘의 색과 상태가 변화함.\\n\\n이와 같은 다양한 측면에서 \\\"하늘\\\"을 탐구할 수 있습니다. 어떤 각도로 더 깊이 알아보고 싶으신가요?\"\n",
    "        }\n",
    "      ]\n",
    "    }\n",
    "  ],\n",
    "  text={\n",
    "    \"format\": {\n",
    "      \"type\": \"text\"\n",
    "    }\n",
    "  },\n",
    "  reasoning={},\n",
    "  tools=[],\n",
    "  temperature=1,\n",
    "  max_output_tokens=2048,\n",
    "  top_p=1,\n",
    "  store=True\n",
    ")"
   ]
  },
  {
   "cell_type": "markdown",
   "id": "0ebd77f8",
   "metadata": {},
   "source": [
    "## chat completion api"
   ]
  },
  {
   "cell_type": "code",
   "execution_count": 9,
   "id": "dedc4fb1",
   "metadata": {},
   "outputs": [],
   "source": [
    "from openai import OpenAI\n",
    "client = OpenAI()\n",
    "\n",
    "response = client.chat.completions.create(\n",
    "  model=\"gpt-4o-mini\",\n",
    "  messages=[\n",
    "    {\n",
    "      \"role\": \"system\",\n",
    "      \"content\": [\n",
    "        {\n",
    "          \"type\": \"text\",\n",
    "          \"text\": \"답변할 때 세부사항을 분류해서 적어줘\"\n",
    "        }\n",
    "      ]\n",
    "    },\n",
    "    {\n",
    "      \"role\": \"user\",\n",
    "      \"content\": [\n",
    "        {\n",
    "          \"type\": \"text\",\n",
    "          \"text\": \"하늘은\"\n",
    "        }\n",
    "      ]\n",
    "    },\n",
    "    {\n",
    "      \"role\": \"assistant\",\n",
    "      \"content\": [\n",
    "        {\n",
    "          \"type\": \"text\",\n",
    "          \"text\": \"\\\"하늘은\\\"이라는 주제는 여러 가지 다양한 측면에서 다룰 수 있습니다. 아래에 몇 가지 세부 사항을 분류하여 적어보겠습니다.\\n\\n### 1. **하늘의 정의**\\n   - **천체의 개념**: 지구 대기 위에 존재하는 우주 공간.\\n   - **관찰 대상**: 구름, 태양, 달, 별 등 다양한 천체와 대기 현상이 보임.\\n\\n### 2. **하늘의 색**\\n   - **푸른 하늘**: 낮에는 대기 중의 산란 현상으로 인해 파란색.\\n   - **붉은 노을**: 해 질 무렵에 발생하는 붉은색의 하늘.\\n   - **흐린 날**: 구름이 많이 끼거나 비가 내리는 날은 회색으로 보임.\\n\\n### 3. **하늘의 역할**\\n   - **기후와 날씨**: 하늘은 기상 변화의 중요한 요소.\\n   - **생태계**: 생물들이 직접적으로 영향을 받는 환경.\\n\\n### 4. **하늘과 문화**\\n   - **신화와 전설**: 많은 문화에서 하늘은 신이나 신적인 존재와 관련.\\n   - **예술**: 그림, 음악, 문학 등에서 하늘은 자주 표현되는 주제.\\n\\n### 5. **하늘관측**\\n   - **천문학**: 별, 행성 등을 관찰하고 연구하는 학문.\\n   - **항공 및 우주 탐사**: 비행기와 우주선이 하늘을 탐험하는 기술.\\n\\n### 6. **하늘의 변화**\\n   - **기후 변화**: 인간 활동이 하늘과 날씨에 미치는 영향.\\n   - **계절**: 계절별로 하늘의 색과 상태가 변화함.\\n\\n이와 같은 다양한 측면에서 \\\"하늘\\\"을 탐구할 수 있습니다. 어떤 각도로 더 깊이 알아보고 싶으신가요?\"\n",
    "        }\n",
    "      ]\n",
    "    }\n",
    "  ],\n",
    "  response_format={\n",
    "    \"type\": \"text\"\n",
    "  },\n",
    "  temperature=1,\n",
    "  max_completion_tokens=2048,\n",
    "  top_p=1,\n",
    "  frequency_penalty=0,\n",
    "  presence_penalty=0\n",
    ")"
   ]
  },
  {
   "cell_type": "code",
   "execution_count": 10,
   "id": "3acc531a",
   "metadata": {},
   "outputs": [
    {
     "data": {
      "text/plain": [
       "'\"하늘은\"이라는 주제는 여러 가지 다양한 측면에서 다룰 수 있습니다. 아래에 몇 가지 세부 사항을 분류하여 적어보겠습니다.\\n\\n### 1. **하늘의 정의**\\n   - **천체의 개념**: 지구 대기 위에 존재하는 우주 공간.\\n   - **관찰 대상**: 구름, 태양, 달, 별 등 다양한 천체와 대기 현상이 보임.\\n\\n### 2. **하늘의 색**\\n   - **푸른 하늘**: 낮에는 대기 중의 산란 현상으로 인해 파란색.\\n   - **붉은 노을**: 해 질 무렵에 발생하는 붉은색의 하늘.\\n   - **흐린 날**: 구름이 많이 끼거나 비가 내리는 날은 회색으로 보임.\\n\\n### 3. **하늘의 역할**\\n   - **기후와 날씨**: 하늘은 기상 변화의 중요한 요소.\\n   - **생태계**: 생물들이 직접적으로 영향을 받는 환경.\\n\\n### 4. **하늘과 문화**\\n   - **신화와 전설**: 많은 문화에서 하늘은 신이나 신적인 존재와 관련.\\n   - **예술**: 그림, 음악, 문학 등에서 하늘은 자주 표현되는 주제.\\n\\n### 5. **하늘관측**\\n   - **천문학**: 별, 행성 등을 관찰하고 연구하는 학문.\\n   - **항공 및 우주 탐사**: 비행기와 우주선이 하늘을 탐험하는 기술.\\n\\n### 6. **하늘의 변화**\\n   - **기후 변화**: 인간 활동이 하늘과 날씨에 미치는 영향.\\n   - **계절**: 계절별로 하늘의 색과 상태가 변화함.\\n\\n이와 같은 다양한 측면에서 \"하늘\"을 탐구할 수 있습니다. 어떤 각도로 더 깊이 알아보고 싶으신가요?'"
      ]
     },
     "execution_count": 10,
     "metadata": {},
     "output_type": "execute_result"
    }
   ],
   "source": [
    "response.choices[0].message.content"
   ]
  },
  {
   "cell_type": "code",
   "execution_count": null,
   "id": "a7554e7b",
   "metadata": {},
   "outputs": [],
   "source": []
  }
 ],
 "metadata": {
  "kernelspec": {
   "display_name": "prompting_env",
   "language": "python",
   "name": "python3"
  },
  "language_info": {
   "codemirror_mode": {
    "name": "ipython",
    "version": 3
   },
   "file_extension": ".py",
   "mimetype": "text/x-python",
   "name": "python",
   "nbconvert_exporter": "python",
   "pygments_lexer": "ipython3",
   "version": "3.12.11"
  }
 },
 "nbformat": 4,
 "nbformat_minor": 5
}
